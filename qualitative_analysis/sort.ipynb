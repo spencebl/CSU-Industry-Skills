{
 "cells": [
  {
   "cell_type": "code",
   "execution_count": null,
   "id": "141662c0",
   "metadata": {},
   "outputs": [],
   "source": [
    "import pandas as pd\n",
    "\n",
    "def sort_csv_in_jupyter(input_filename, output_filename):\n",
    "    \"\"\"\n",
    "    Reads a CSV file into a pandas DataFrame, sorts rows based on the\n",
    "    'percent change' column, and saves the sorted DataFrame to a new CSV file.\n",
    "\n",
    "    Args:\n",
    "        input_filename (str): The name of the input CSV file.\n",
    "        output_filename (str): The name of the output CSV file.\n",
    "    \"\"\"\n",
    "    try:\n",
    "        # Read the CSV file into a pandas DataFrame\n",
    "        df = pd.read_csv(input_filename)\n",
    "\n",
    "        # Check if the 'percent change' column exists\n",
    "        if 'percent change' not in df.columns:\n",
    "            print(f\"Error: Column 'percent change' not found in '{input_filename}'.\")\n",
    "            return\n",
    "\n",
    "        # Sort the DataFrame by the 'percent change' column\n",
    "        df_sorted = df.sort_values(by='percent change')\n",
    "\n",
    "        # Save the sorted DataFrame to a new CSV file\n",
    "        df_sorted.to_csv(output_filename, index=False)  # index=False prevents writing the DataFrame index\n",
    "\n",
    "        print(f\"Successfully sorted data by 'percent change' and saved to '{output_filename}'.\")\n",
    "\n",
    "    except FileNotFoundError:\n",
    "        print(f\"Error: Input file '{input_filename}' not found.\")\n",
    "    except Exception as e:\n",
    "        print(f\"An error occurred: {e}\")\n",
    "\n",
    "# Example usage within a Jupyter Notebook cell:\n",
    "input_csv_file = \"compare.csv\"  # Replace with your input file name\n",
    "output_csv_file = \"sorted_compare.csv\"  # Replace with your desired output file name\n",
    "sort_csv_in_jupyter(input_csv_file, output_csv_file)\n",
    "\n",
    "# You can also display the sorted DataFrame in the notebook:\n",
    "# sorted_df = pd.read_csv(output_csv_file)\n",
    "# print(sorted_df)"
   ]
  }
 ],
 "metadata": {
  "language_info": {
   "name": "python"
  }
 },
 "nbformat": 4,
 "nbformat_minor": 5
}
