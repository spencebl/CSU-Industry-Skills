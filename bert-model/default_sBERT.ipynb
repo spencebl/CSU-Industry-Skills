{
 "cells": [
  {
   "cell_type": "code",
   "execution_count": 9,
   "id": "acb66a0b",
   "metadata": {},
   "outputs": [],
   "source": [
    "import csv\n",
    "import torch\n",
    "import wandb\n",
    "import numpy as np\n",
    "import pandas as pd\n",
    "\n",
    "from torch.utils.data import DataLoader\n",
    "from scipy.stats import pearsonr, spearmanr\n",
    "from sentence_transformers import SentenceTransformer\n",
    "from sklearn.model_selection import train_test_split\n",
    "from sklearn.metrics import mean_squared_error, mean_absolute_error, r2_score"
   ]
  },
  {
   "cell_type": "code",
   "execution_count": 10,
   "id": "0ab27078",
   "metadata": {},
   "outputs": [
    {
     "name": "stdout",
     "output_type": "stream",
     "text": [
      "['job', 'courses', 'label']\n",
      "(1739, 3)\n"
     ]
    },
    {
     "data": {
      "text/html": [
       "<div>\n",
       "<style scoped>\n",
       "    .dataframe tbody tr th:only-of-type {\n",
       "        vertical-align: middle;\n",
       "    }\n",
       "\n",
       "    .dataframe tbody tr th {\n",
       "        vertical-align: top;\n",
       "    }\n",
       "\n",
       "    .dataframe thead th {\n",
       "        text-align: right;\n",
       "    }\n",
       "</style>\n",
       "<table border=\"1\" class=\"dataframe\">\n",
       "  <thead>\n",
       "    <tr style=\"text-align: right;\">\n",
       "      <th></th>\n",
       "      <th>job</th>\n",
       "      <th>courses</th>\n",
       "      <th>label</th>\n",
       "    </tr>\n",
       "  </thead>\n",
       "  <tbody>\n",
       "    <tr>\n",
       "      <th>0</th>\n",
       "      <td>job</td>\n",
       "      <td>courses</td>\n",
       "      <td>label</td>\n",
       "    </tr>\n",
       "    <tr>\n",
       "      <th>1</th>\n",
       "      <td>Job Title: Adobe_AI_ML_Engineer\\n Job Descript...</td>\n",
       "      <td>COURSES TAKEN:\\n\\tCOURSE: CS462\\n\\t\\tCS462 SKI...</td>\n",
       "      <td>0.19354838709677424</td>\n",
       "    </tr>\n",
       "    <tr>\n",
       "      <th>2</th>\n",
       "      <td>Job Title: Adobe_Junior_SDE\\n Job Description:...</td>\n",
       "      <td>COURSES TAKEN:\\n\\tCOURSE: CS462\\n\\t\\tCS462 SKI...</td>\n",
       "      <td>0.0714285714285714</td>\n",
       "    </tr>\n",
       "    <tr>\n",
       "      <th>3</th>\n",
       "      <td>Job Title: Adobe_Software_Engineering_Intern\\n...</td>\n",
       "      <td>COURSES TAKEN:\\n\\tCOURSE: CS462\\n\\t\\tCS462 SKI...</td>\n",
       "      <td>0.33333333333333337</td>\n",
       "    </tr>\n",
       "    <tr>\n",
       "      <th>4</th>\n",
       "      <td>Job Title: Adobe_Software_Quality_Engineer\\n J...</td>\n",
       "      <td>COURSES TAKEN:\\n\\tCOURSE: CS462\\n\\t\\tCS462 SKI...</td>\n",
       "      <td>0.15000000000000002</td>\n",
       "    </tr>\n",
       "    <tr>\n",
       "      <th>...</th>\n",
       "      <td>...</td>\n",
       "      <td>...</td>\n",
       "      <td>...</td>\n",
       "    </tr>\n",
       "    <tr>\n",
       "      <th>1734</th>\n",
       "      <td>Job Title: Yahoo_Software_Dev_Engineer\\n Job D...</td>\n",
       "      <td>COURSES TAKEN:\\n\\tCOURSE: CS314\\n\\t\\tCS314 SKI...</td>\n",
       "      <td>0.13157894736842102</td>\n",
       "    </tr>\n",
       "    <tr>\n",
       "      <th>1735</th>\n",
       "      <td>Job Title: Yahoo_Software_Dev_Engineer\\n Job D...</td>\n",
       "      <td>COURSES TAKEN:\\n\\tCOURSE: CS314\\n\\t\\tCS314 SKI...</td>\n",
       "      <td>0.13157894736842102</td>\n",
       "    </tr>\n",
       "    <tr>\n",
       "      <th>1736</th>\n",
       "      <td>Job Title: Yahoo_Software_Dev_Engineer\\n Job D...</td>\n",
       "      <td>COURSES TAKEN:\\n\\tCOURSE: CS314\\n\\t\\tCS314 SKI...</td>\n",
       "      <td>0.13157894736842102</td>\n",
       "    </tr>\n",
       "    <tr>\n",
       "      <th>1737</th>\n",
       "      <td>Job Title: Yahoo_Software_Dev_Engineer\\n Job D...</td>\n",
       "      <td>COURSES TAKEN:\\n\\tCOURSE: CS462\\n\\t\\tCS462 SKI...</td>\n",
       "      <td>0.13157894736842102</td>\n",
       "    </tr>\n",
       "    <tr>\n",
       "      <th>1738</th>\n",
       "      <td>Job Title: Yahoo_Software_Dev_Engineer\\n Job D...</td>\n",
       "      <td>COURSES TAKEN:\\n\\tCOURSE: CS462\\n\\t\\tCS462 SKI...</td>\n",
       "      <td>0.13157894736842102</td>\n",
       "    </tr>\n",
       "  </tbody>\n",
       "</table>\n",
       "<p>1739 rows × 3 columns</p>\n",
       "</div>"
      ],
      "text/plain": [
       "                                                    job  \\\n",
       "0                                                   job   \n",
       "1     Job Title: Adobe_AI_ML_Engineer\\n Job Descript...   \n",
       "2     Job Title: Adobe_Junior_SDE\\n Job Description:...   \n",
       "3     Job Title: Adobe_Software_Engineering_Intern\\n...   \n",
       "4     Job Title: Adobe_Software_Quality_Engineer\\n J...   \n",
       "...                                                 ...   \n",
       "1734  Job Title: Yahoo_Software_Dev_Engineer\\n Job D...   \n",
       "1735  Job Title: Yahoo_Software_Dev_Engineer\\n Job D...   \n",
       "1736  Job Title: Yahoo_Software_Dev_Engineer\\n Job D...   \n",
       "1737  Job Title: Yahoo_Software_Dev_Engineer\\n Job D...   \n",
       "1738  Job Title: Yahoo_Software_Dev_Engineer\\n Job D...   \n",
       "\n",
       "                                                courses                label  \n",
       "0                                               courses                label  \n",
       "1     COURSES TAKEN:\\n\\tCOURSE: CS462\\n\\t\\tCS462 SKI...  0.19354838709677424  \n",
       "2     COURSES TAKEN:\\n\\tCOURSE: CS462\\n\\t\\tCS462 SKI...   0.0714285714285714  \n",
       "3     COURSES TAKEN:\\n\\tCOURSE: CS462\\n\\t\\tCS462 SKI...  0.33333333333333337  \n",
       "4     COURSES TAKEN:\\n\\tCOURSE: CS462\\n\\t\\tCS462 SKI...  0.15000000000000002  \n",
       "...                                                 ...                  ...  \n",
       "1734  COURSES TAKEN:\\n\\tCOURSE: CS314\\n\\t\\tCS314 SKI...  0.13157894736842102  \n",
       "1735  COURSES TAKEN:\\n\\tCOURSE: CS314\\n\\t\\tCS314 SKI...  0.13157894736842102  \n",
       "1736  COURSES TAKEN:\\n\\tCOURSE: CS314\\n\\t\\tCS314 SKI...  0.13157894736842102  \n",
       "1737  COURSES TAKEN:\\n\\tCOURSE: CS462\\n\\t\\tCS462 SKI...  0.13157894736842102  \n",
       "1738  COURSES TAKEN:\\n\\tCOURSE: CS462\\n\\t\\tCS462 SKI...  0.13157894736842102  \n",
       "\n",
       "[1739 rows x 3 columns]"
      ]
     },
     "execution_count": 10,
     "metadata": {},
     "output_type": "execute_result"
    }
   ],
   "source": [
    "with open ('data/bert_training_data.csv', 'r') as t_data:\n",
    "    csv_reader = csv.reader(t_data) \n",
    "    training_data = list(csv_reader)\n",
    "\n",
    "print(training_data[0])\n",
    "td_df = pd.DataFrame(training_data, columns=['job', 'courses', 'label'])\n",
    "print(td_df.shape)\n",
    "td_df"
   ]
  },
  {
   "cell_type": "code",
   "execution_count": 11,
   "id": "5ef3910e",
   "metadata": {},
   "outputs": [],
   "source": [
    "def prepare_datasets(td_df):\n",
    "    td_df = td_df.copy()\n",
    "    \n",
    "    td_df.loc[:, 'label'] = pd.to_numeric(td_df['label'], errors='coerce')\n",
    "    \n",
    "    td_df = td_df.dropna(subset=['label'])\n",
    "    \n",
    "    td_df.loc[:, 'job'] = td_df['job'].astype(str)\n",
    "    td_df.loc[:, 'courses'] = td_df['courses'].astype(str)\n",
    "    \n",
    "    train_df, temp_df = train_test_split(td_df, test_size=0.4, random_state=42)\n",
    "    val_df, test_df = train_test_split(temp_df, test_size=0.5, random_state=42)\n",
    "    \n",
    "    def create_dataset(df):\n",
    "        return [\n",
    "            {\n",
    "                'job': str(row['job']),\n",
    "                'courses': str(row['courses']),\n",
    "                'label': float(row['label'])\n",
    "            }\n",
    "            for _, row in df.iterrows()\n",
    "        ]\n",
    "    \n",
    "    return {\n",
    "        'train': create_dataset(train_df),\n",
    "        'val': create_dataset(val_df),\n",
    "        'test': create_dataset(test_df)\n",
    "    }"
   ]
  },
  {
   "cell_type": "code",
   "execution_count": 12,
   "id": "0987019f",
   "metadata": {},
   "outputs": [],
   "source": [
    "def compute_metrics(labels, preds):\n",
    "    metrics = {\n",
    "        'spearman_rho': spearmanr(labels, preds)[0],\n",
    "        'pearson_r': pearsonr(labels, preds)[0],\n",
    "        'mae': mean_absolute_error(labels, preds),\n",
    "        'r2': r2_score(labels, preds),\n",
    "        'mse': mean_squared_error(labels, preds),\n",
    "    }\n",
    "    \n",
    "    return metrics"
   ]
  },
  {
   "cell_type": "code",
   "execution_count": 13,
   "id": "09290df3",
   "metadata": {},
   "outputs": [
    {
     "name": "stderr",
     "output_type": "stream",
     "text": [
      "\u001b[34m\u001b[1mwandb\u001b[0m: \u001b[33mWARNING\u001b[0m If you're specifying your api key in code, ensure this code is not shared publicly.\n",
      "\u001b[34m\u001b[1mwandb\u001b[0m: \u001b[33mWARNING\u001b[0m Consider setting the WANDB_API_KEY environment variable, or running `wandb login` from the command line.\n",
      "\u001b[34m\u001b[1mwandb\u001b[0m: Appending key for api.wandb.ai to your netrc file: C:\\Users\\ayoun\\_netrc\n"
     ]
    },
    {
     "name": "stdout",
     "output_type": "stream",
     "text": [
      "Using device: cuda\n"
     ]
    }
   ],
   "source": [
    "key_file = rf'D:\\Development\\cs580\\CSU-Industry-Skills\\WANDB_API_KEY.txt' \n",
    "\n",
    "with open(key_file, \"r\") as f:\n",
    "    api_key = f.read().strip()\n",
    "\n",
    "wandb.login(key=api_key)\n",
    "\n",
    "MODEL_NAME = 'sentence-transformers/all-MiniLM-L6-v2'\n",
    "\n",
    "device = torch.device(\"cuda\" if torch.cuda.is_available() else \"cpu\")\n",
    "torch.backends.cudnn.benchmark = True\n",
    "print(f\"Using device: {device}\")"
   ]
  },
  {
   "cell_type": "code",
   "execution_count": 14,
   "id": "fa265b66",
   "metadata": {},
   "outputs": [],
   "source": [
    "def evaluate_dataset(dataset, batch_size=32):\n",
    "    preds, labels = [], []\n",
    "    model = SentenceTransformer(MODEL_NAME).to(device)\n",
    "    \n",
    "    model.eval()\n",
    "    with torch.no_grad():\n",
    "        for i in range(0, len(dataset), batch_size):\n",
    "            batch = dataset[i:i + batch_size]\n",
    "            \n",
    "            batch_queries = [item['job'] for item in batch]\n",
    "            batch_answers = [item['courses'] for item in batch]\n",
    "            batch_labels = torch.tensor([item['label'] for item in batch], \n",
    "                                      dtype=torch.float).to(device)\n",
    "            \n",
    "            query_emb = model.encode(batch_queries, convert_to_tensor=True)\n",
    "            answer_emb = model.encode(batch_answers, convert_to_tensor=True)\n",
    "            batch_cos_sim = torch.nn.functional.cosine_similarity(query_emb, answer_emb)\n",
    "            \n",
    "            preds.extend(batch_cos_sim.cpu().numpy())\n",
    "            labels.extend(batch_labels.cpu().numpy())\n",
    "    \n",
    "    return compute_metrics(labels, preds)"
   ]
  },
  {
   "cell_type": "code",
   "execution_count": 15,
   "id": "6aa3dd73",
   "metadata": {},
   "outputs": [
    {
     "data": {
      "text/html": [
       "Tracking run with wandb version 0.19.8"
      ],
      "text/plain": [
       "<IPython.core.display.HTML object>"
      ]
     },
     "metadata": {},
     "output_type": "display_data"
    },
    {
     "data": {
      "text/html": [
       "Run data is saved locally in <code>d:\\Development\\cs580\\CSU-Industry-Skills\\bert-model\\wandb\\run-20250408_190326-jotd9l54</code>"
      ],
      "text/plain": [
       "<IPython.core.display.HTML object>"
      ]
     },
     "metadata": {},
     "output_type": "display_data"
    },
    {
     "data": {
      "text/html": [
       "Syncing run <strong><a href='https://wandb.ai/ayoungren-colostate/sbert-param-search/runs/jotd9l54' target=\"_blank\">untrained_model</a></strong> to <a href='https://wandb.ai/ayoungren-colostate/sbert-param-search' target=\"_blank\">Weights & Biases</a> (<a href='https://wandb.me/developer-guide' target=\"_blank\">docs</a>)<br>"
      ],
      "text/plain": [
       "<IPython.core.display.HTML object>"
      ]
     },
     "metadata": {},
     "output_type": "display_data"
    },
    {
     "data": {
      "text/html": [
       " View project at <a href='https://wandb.ai/ayoungren-colostate/sbert-param-search' target=\"_blank\">https://wandb.ai/ayoungren-colostate/sbert-param-search</a>"
      ],
      "text/plain": [
       "<IPython.core.display.HTML object>"
      ]
     },
     "metadata": {},
     "output_type": "display_data"
    },
    {
     "data": {
      "text/html": [
       " View run at <a href='https://wandb.ai/ayoungren-colostate/sbert-param-search/runs/jotd9l54' target=\"_blank\">https://wandb.ai/ayoungren-colostate/sbert-param-search/runs/jotd9l54</a>"
      ],
      "text/plain": [
       "<IPython.core.display.HTML object>"
      ]
     },
     "metadata": {},
     "output_type": "display_data"
    },
    {
     "data": {
      "text/html": [],
      "text/plain": [
       "<IPython.core.display.HTML object>"
      ]
     },
     "metadata": {},
     "output_type": "display_data"
    },
    {
     "data": {
      "text/html": [
       "<br>    <style><br>        .wandb-row {<br>            display: flex;<br>            flex-direction: row;<br>            flex-wrap: wrap;<br>            justify-content: flex-start;<br>            width: 100%;<br>        }<br>        .wandb-col {<br>            display: flex;<br>            flex-direction: column;<br>            flex-basis: 100%;<br>            flex: 1;<br>            padding: 10px;<br>        }<br>    </style><br><div class=\"wandb-row\"><div class=\"wandb-col\"><h3>Run history:</h3><br/><table class=\"wandb\"><tr><td>test_mae</td><td>▁</td></tr><tr><td>test_mse</td><td>▁</td></tr><tr><td>test_pearson_r</td><td>▁</td></tr><tr><td>test_r2</td><td>▁</td></tr><tr><td>test_spearman_rho</td><td>▁</td></tr><tr><td>val_mae</td><td>▁</td></tr><tr><td>val_mse</td><td>▁</td></tr><tr><td>val_pearson_r</td><td>▁</td></tr><tr><td>val_r2</td><td>▁</td></tr><tr><td>val_spearman_rho</td><td>▁</td></tr></table><br/></div><div class=\"wandb-col\"><h3>Run summary:</h3><br/><table class=\"wandb\"><tr><td>test_mae</td><td>0.1628</td></tr><tr><td>test_mse</td><td>0.03819</td></tr><tr><td>test_pearson_r</td><td>0.00157</td></tr><tr><td>test_r2</td><td>-2.77522</td></tr><tr><td>test_spearman_rho</td><td>-0.04</td></tr><tr><td>val_mae</td><td>0.15911</td></tr><tr><td>val_mse</td><td>0.03729</td></tr><tr><td>val_pearson_r</td><td>-0.08662</td></tr><tr><td>val_r2</td><td>-3.12034</td></tr><tr><td>val_spearman_rho</td><td>-0.11851</td></tr></table><br/></div></div>"
      ],
      "text/plain": [
       "<IPython.core.display.HTML object>"
      ]
     },
     "metadata": {},
     "output_type": "display_data"
    },
    {
     "data": {
      "text/html": [
       " View run <strong style=\"color:#cdcd00\">untrained_model</strong> at: <a href='https://wandb.ai/ayoungren-colostate/sbert-param-search/runs/jotd9l54' target=\"_blank\">https://wandb.ai/ayoungren-colostate/sbert-param-search/runs/jotd9l54</a><br> View project at: <a href='https://wandb.ai/ayoungren-colostate/sbert-param-search' target=\"_blank\">https://wandb.ai/ayoungren-colostate/sbert-param-search</a><br>Synced 5 W&B file(s), 0 media file(s), 0 artifact file(s) and 0 other file(s)"
      ],
      "text/plain": [
       "<IPython.core.display.HTML object>"
      ]
     },
     "metadata": {},
     "output_type": "display_data"
    },
    {
     "data": {
      "text/html": [
       "Find logs at: <code>.\\wandb\\run-20250408_190326-jotd9l54\\logs</code>"
      ],
      "text/plain": [
       "<IPython.core.display.HTML object>"
      ]
     },
     "metadata": {},
     "output_type": "display_data"
    }
   ],
   "source": [
    "datasets = prepare_datasets(td_df)\n",
    "\n",
    "run = wandb.init(\n",
    "    entity=\"ayoungren-colostate\",\n",
    "    project=\"sbert-param-search\",\n",
    "    name=\"untrained_model\"\n",
    ")\n",
    "\n",
    "val_metrics = evaluate_dataset(datasets['val'])\n",
    "\n",
    "\n",
    "run.log({\n",
    "    'val_mse': val_metrics['mse'],\n",
    "    'val_mae': val_metrics['mae'],\n",
    "    'val_r2': val_metrics['r2'],\n",
    "    'val_pearson_r': val_metrics['pearson_r'],\n",
    "    'val_spearman_rho': val_metrics['spearman_rho']\n",
    "})\n",
    "\n",
    "test_metrics = evaluate_dataset(datasets['test'])\n",
    "\n",
    "run.log({\n",
    "    'test_mse': test_metrics['mse'],\n",
    "    'test_mae': test_metrics['mae'],\n",
    "    'test_r2': test_metrics['r2'],\n",
    "    'test_pearson_r': test_metrics['pearson_r'],\n",
    "    'test_spearman_rho': test_metrics['spearman_rho']\n",
    "})\n",
    "\n",
    "run.finish()\n"
   ]
  },
  {
   "cell_type": "code",
   "execution_count": null,
   "id": "48aae6d1",
   "metadata": {},
   "outputs": [],
   "source": [
    "\n"
   ]
  },
  {
   "cell_type": "code",
   "execution_count": null,
   "id": "aba9e4a3",
   "metadata": {},
   "outputs": [],
   "source": []
  }
 ],
 "metadata": {
  "kernelspec": {
   "display_name": "gaps",
   "language": "python",
   "name": "python3"
  },
  "language_info": {
   "codemirror_mode": {
    "name": "ipython",
    "version": 3
   },
   "file_extension": ".py",
   "mimetype": "text/x-python",
   "name": "python",
   "nbconvert_exporter": "python",
   "pygments_lexer": "ipython3",
   "version": "3.11.11"
  }
 },
 "nbformat": 4,
 "nbformat_minor": 5
}
