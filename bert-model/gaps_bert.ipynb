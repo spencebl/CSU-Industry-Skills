{
 "cells": [
  {
   "cell_type": "code",
   "execution_count": null,
   "metadata": {},
   "outputs": [
    {
     "name": "stderr",
     "output_type": "stream",
     "text": [
      "C:\\Users\\ayoun\\AppData\\Roaming\\Python\\Python311\\site-packages\\tqdm\\auto.py:21: TqdmWarning: IProgress not found. Please update jupyter and ipywidgets. See https://ipywidgets.readthedocs.io/en/stable/user_install.html\n",
      "  from .autonotebook import tqdm as notebook_tqdm\n"
     ]
    }
   ],
   "source": [
    "import re\n",
    "import gc\n",
    "import csv\n",
    "import torch\n",
    "import wandb\n",
    "import random\n",
    "import numpy as np\n",
    "import pandas as pd\n",
    "\n",
    "from torch.utils.data import DataLoader\n",
    "from scipy.stats import pearsonr, spearmanr\n",
    "from sentence_transformers import SentenceTransformer\n",
    "from sklearn.model_selection import train_test_split, ParameterGrid\n",
    "from sklearn.metrics import mean_squared_error, mean_absolute_error, r2_score\n"
   ]
  },
  {
   "cell_type": "code",
   "execution_count": null,
   "metadata": {},
   "outputs": [],
   "source": [
    "# with open ('data/all-csu-codes.csv', 'r') as c_data:\n",
    "#     csv_reader = csv.reader(c_data) \n",
    "#     courses_data = list(csv_reader)\n",
    "    \n",
    "# courses_df = pd.DataFrame(columns=['Courses', 'Skills'])\n",
    "\n",
    "# for idx in range(0, len(courses_data)):\n",
    "#     skill_list = courses_data[idx][1:-1]\n",
    "#     skill_list = [skill.title() for skill in skill_list]\n",
    "#     skill_list = [re.sub(r'\\b(vs|Vs)\\b', 'VS', skill) for skill in skill_list]\n",
    "\n",
    "#     row = pd.DataFrame({'Courses': courses_data[idx][0], 'Skills':[skill_list]})\n",
    "#     courses_df = pd.concat([courses_df, row], ignore_index=True)\n",
    "\n",
    "# courses_df.to_csv('data/courses_data.csv', index=False)"
   ]
  },
  {
   "cell_type": "code",
   "execution_count": null,
   "metadata": {},
   "outputs": [],
   "source": [
    "# with open('data/descriptions.txt', 'r') as j_data:\n",
    "#     csv_reader = csv.reader(j_data, delimiter='|')\n",
    "#     jobs_data = list(csv_reader)\n",
    "\n",
    "# jobs_df = pd.DataFrame(columns=['Job_Title', 'Job_Description', 'Required_Skills'])\n",
    "                    \n",
    "# for row in jobs_data:\n",
    "#     if len(row) == 3:\n",
    "#         job_title = row[0].strip().strip('\"') \n",
    "\n",
    "#         job_description = row[1].strip().strip('\"')\n",
    "#         job_description = re.sub(r'\\bDESCRIPTION\\b', '', job_description)\n",
    "    \n",
    "#         skills = row[2].strip().strip('\"')\n",
    "#         skill_list = [skill.strip().strip('\"') for skill in skills.split(',')]\n",
    "#         cap_skill_list = [skill.title() for skill in skill_list]\n",
    "#         cleaned_skills = [re.sub(r'\\s?\\(.*?\\)', '', skill) for skill in cap_skill_list]\n",
    "\n",
    "#         row = pd.DataFrame({'Job_Title': job_title, 'Job_Description': job_description, 'Required_Skills': [skill_list]})\n",
    "#         jobs_df = pd.concat([jobs_df, row], ignore_index=True)\n",
    "            \n",
    "# jobs_df.to_csv('data/jobs_data.csv', index=False)"
   ]
  },
  {
   "cell_type": "code",
   "execution_count": 4,
   "metadata": {},
   "outputs": [],
   "source": [
    "def get_all_acquired_skills(courses_df):\n",
    "    all_acquired_skills = set() \n",
    "    \n",
    "    for skills in courses_df['Skills']:\n",
    "        all_acquired_skills.update(skills)\n",
    "\n",
    "    return all_acquired_skills"
   ]
  },
  {
   "cell_type": "code",
   "execution_count": 5,
   "metadata": {},
   "outputs": [],
   "source": [
    "def all_class_comparison(jobs_df, courses_df, all_acquired_skills):\n",
    "    training_data = []\n",
    "    course_entries = list(zip(courses_df[\"Courses\"], courses_df[\"Skills\"]))\n",
    "\n",
    "    for _, job in jobs_df.iterrows():\n",
    "        job_text = f\"Job Title: {job['Job_Title']}\\n Job Description: {job['Job_Description']}\"\n",
    "        job_skills = set(job[\"Required_Skills\"])\n",
    "        missing_skills = job_skills - all_acquired_skills\n",
    "        num_missing = float(len(missing_skills))\n",
    "        num_job_skills = float(len(job_skills))\n",
    "        \n",
    "        course_info = \"COURSES TAKEN:\\n\"\n",
    "        for course, skills in course_entries:\n",
    "            course_info += f\"\\tCOURSE: {course}\\n\\t\\t{course} SKILLS: {', '.join(skills)}\\n\"\n",
    "\n",
    "        query_text = \"What skills am I lacking for the following job position, given the classes I have taken?\\n\\n\" + job_text\n",
    "        query_text += \"\\n\\n\" + course_info\n",
    "        if len(missing_skills) == 0:\n",
    "            acquired_skills = {', '.join(job['Required_Skills'])}\n",
    "            training_data.append({\n",
    "                'query': query_text,\n",
    "                'answer': f\"You qualify as an applicant for the job position, {job['Job_Title']}.\\ Your courses provided all listed required skills: {acquired_skills}\",\n",
    "                'label': 1.0\n",
    "            })\n",
    "        elif num_missing == num_job_skills:\n",
    "            answer = \", \".join(list(missing_skills))\n",
    "            training_data.append({\n",
    "                'query': query_text,\n",
    "                'answer': (f\"You are missing the following skills required by the postion: \" + answer),\n",
    "                'label': 0.0\n",
    "            })\n",
    "        else:\n",
    "            answer = \", \".join(list(missing_skills))\n",
    "            training_data.append({\n",
    "                'query': query_text,\n",
    "                'answer': (f\"You are missing the following skills required by the postion: \" + answer),\n",
    "                'label': (1.0 - (num_missing/num_job_skills))\n",
    "            })\n",
    "        \n",
    "    return training_data"
   ]
  },
  {
   "cell_type": "code",
   "execution_count": 6,
   "metadata": {},
   "outputs": [],
   "source": [
    "def compare_individual_course(jobs_df, courses_df, neg_per_pos=1):\n",
    "    training_data = []\n",
    "     \n",
    "    for _, job in jobs_df.iterrows():\n",
    "        job_text = f\"Job Title: {job['Job_Title']}\\n Job Description: {job['Job_Description']}\"\n",
    "        job_skills = set(job['Required_Skills']) \n",
    "        num_job_skills = float(len(job_skills))\n",
    "        \n",
    "        for _, course in courses_df.iterrows():\n",
    "            missing_skills = list(job_skills - set(course[\"Skills\"]))\n",
    "            num_missing = float(len(missing_skills))\n",
    "            course_info = f\"COURSE TAKEN: {course['Courses']}\\n {course['Courses']} SKILLS: {', '.join(course['Skills'])}\"\n",
    "\n",
    "        query_text = \"What skills am I lacking for the following job position, given the classes I have taken?\\n\\n\" + job_text\n",
    "        query_text += \"\\n\\n\" + course_info\n",
    "        if len(missing_skills) == 0:\n",
    "            acquired_skills = {', '.join(job['Required_Skills'])}\n",
    "            training_data.append({\n",
    "                'query': query_text,\n",
    "                'answer': f\"You qualify as an applicant for the job position, {job['Job_Title']}.\\ Your courses provided all listed required skills: {acquired_skills}\",\n",
    "                'label': 1.0\n",
    "            })\n",
    "        elif num_missing == num_job_skills:\n",
    "            answer = \", \".join(list(missing_skills))\n",
    "            training_data.append({\n",
    "                'query': query_text,\n",
    "                'answer': (f\"You are missing all of the following skills required by the postion: \" + answer),\n",
    "                'label': 0.0\n",
    "            })\n",
    "        else:\n",
    "            answer = \", \".join(list(missing_skills))\n",
    "            training_data.append({\n",
    "                'query': query_text,\n",
    "                'answer': (f\"You are missing the following skills required by the postion: \" + answer),\n",
    "                'label': (1.0 - (num_missing/num_job_skills))\n",
    "            })\n",
    "\n",
    "    return training_data"
   ]
  },
  {
   "cell_type": "code",
   "execution_count": 7,
   "metadata": {},
   "outputs": [],
   "source": [
    "def create_schedule_data(jobs_df, schedules):\n",
    "    training_data = []\n",
    "\n",
    "    for _, job in jobs_df.iterrows():\n",
    "        job_text = f\"Job Title: {job['Job_Title']}\\n Job Description: {job['Job_Description']}\"\n",
    "        job_skills = set(job[\"Required_Skills\"])\n",
    "        num_job_skills = float(len(job_skills))\n",
    "\n",
    "        for sched in schedules:\n",
    "            course_entries = list(zip(sched[\"Courses\"], sched[\"Skills\"]))\n",
    "            sched_skills = set([item for sublist in sched[\"Skills\"].tolist() for item in sublist])\n",
    "            missing_skills = list(job_skills - sched_skills)\n",
    "            num_missing = float(len(missing_skills))\n",
    "            \n",
    "            course_info = \"COURSES TAKEN:\\n\"\n",
    "            for course, skills in course_entries:\n",
    "                course_info += f\"\\tCOURSE: {course}\\n\\t\\t{course} SKILLS: {', '.join(skills)}\\n\"\n",
    "\n",
    "            query_text = \"What skills am I lacking for the following job position, given the classes I have taken?\\n\\n\" + job_text\n",
    "            query_text += \"\\n\\n\" + course_info\n",
    "            if len(missing_skills) == 0:\n",
    "                acquired_skills = {', '.join(job['Required_Skills'])}\n",
    "                training_data.append({\n",
    "                    'query': query_text,\n",
    "                    'answer': f\"You qualify as an applicant for the job position, {job['Job_Title']}.\\ Your courses provided all listed required skills: {acquired_skills}\",\n",
    "                    'label': 1.0\n",
    "                })\n",
    "            elif num_missing == num_job_skills:\n",
    "                answer = \", \".join(list(missing_skills))\n",
    "                training_data.append({\n",
    "                    'query': query_text,\n",
    "                    'answer': (f\"You are missing all of the following skills required by the postion: \" + answer),\n",
    "                    'label': 0.0\n",
    "                })\n",
    "            else:\n",
    "                answer = \", \".join(list(missing_skills))\n",
    "                training_data.append({\n",
    "                    'query': query_text,\n",
    "                    'answer': (f\"You are missing the following skills required by the postion: \" + answer),\n",
    "                    'label': (1.0 - (num_missing/num_job_skills))\n",
    "                })\n",
    "\n",
    "    return training_data\n",
    "\n",
    "\n",
    "def get_courseloads(jobs_df, courses_df, number_of_schedules=20):\n",
    "    core_classes = ['CS150', 'CS164', 'CS152', 'CS162', 'CS201', 'CS165', 'CS220', \n",
    "                    'CS270', 'CS250', 'CS314', 'CS370', 'CS320', 'CS214']\n",
    "    \n",
    "    elective_courses_df = courses_df[~courses_df['Courses'].isin(core_classes)]\n",
    "\n",
    "    schedules_df = []\n",
    "    used_schedules = set()\n",
    "\n",
    "    while len(schedules_df) < number_of_schedules:\n",
    "        l_4_courses = elective_courses_df[elective_courses_df['Courses'].str.startswith('CS4')]\n",
    "        l_3_4_courses = elective_courses_df[elective_courses_df['Courses'].str.startswith('CS3') | elective_courses_df['Courses'].str.startswith('CS4')]\n",
    "        other_courses = elective_courses_df[~elective_courses_df['Courses'].str.startswith('CS3') & ~elective_courses_df['Courses'].str.startswith('CS4')]\n",
    "\n",
    "        l_4_sample = random.sample(l_4_courses['Courses'].tolist(), 2)\n",
    "\n",
    "        l_3_4_filtered = l_3_4_courses[~l_3_4_courses['Courses'].isin(l_4_sample)]\n",
    "        l_3_4_sample = random.sample(l_3_4_filtered['Courses'].tolist(), 2)\n",
    "\n",
    "        all_sampled_courses = l_4_sample + l_3_4_sample\n",
    "        other_courses_filtered = other_courses[~other_courses['Courses'].isin(all_sampled_courses)]\n",
    "        other_sample = random.sample(other_courses_filtered['Courses'].tolist(), 1)\n",
    "\n",
    "        sched_courses = core_classes + l_4_sample + l_3_4_sample + other_sample\n",
    "        sched_df = courses_df[courses_df['Courses'].isin(sched_courses)].copy()\n",
    "\n",
    "        sched_tuple = tuple(sorted(sched_df['Courses'].tolist()))\n",
    "        if sched_tuple not in used_schedules:\n",
    "            schedules_df.append(sched_df)\n",
    "            used_schedules.add(sched_tuple)\n",
    "\n",
    "    training_data = create_schedule_data(jobs_df, schedules_df)\n",
    "\n",
    "    return training_data"
   ]
  },
  {
   "cell_type": "code",
   "execution_count": null,
   "metadata": {},
   "outputs": [
    {
     "name": "stdout",
     "output_type": "stream",
     "text": [
      "All: {'query': \"What skills am I lacking for the following job position, given the classes I have taken?\\n\\nJob Title: Yahoo_Software_Dev_Engineer\\n Job Description: Who We're Looking For- Junior Software Engineer We hire engineers who love the web, but can see its cracks and its future, too. We look for people who are exceptionally who are exceptionally imaginative, collaborative, and truly excited about tech. Our DSP Reporting team is currently looking for talented full-stack engineers to design, implement, and support robust, scalable, and high-quality reporting solutions Your Responsibilities - Develop and enhance a state-of-the-art reporting and analytics platform. - Build intuitive front-end UIs for reporting and analytics using React. - Develop microservices to power reporting and analytics solutions. - Write clean, maintainable, and performant code, including unit tests and refactoring when needed. - Collaborate with designers and developers to define and deliver new features. - Participate in system architecture reviews, code reviews, performance tuning, and production support. - Own and deliver projects ranging from small must-do tasks to large-scale initiatives. - Influence technical direction, best practices, product decisions, and team processes. Your voice matters! What You Bring: - Experience in fast-paced, highly technical environments. - Strong knowledge of JavaScript and React. - Proficiency in Java or Scala. - Good understanding of SQL / NoSQL databases. - Experience with the Spring Framework. - Proven ability to build and maintain large-scale systems. - Strong coding skills with a focus on clean, efficient, and scalable production code. - Excellent communication, interpersonal, and problem-solving skills. - Passion for data and analytics, with a drive to build products that users can't live without. - Min 2-3 years of experience - M.S. or B.S. in Computer Science, Engineering, or a related field Bonus Skills (Nice to Have): - Experience with public clouds (AWS or GCP). - Familiarity with Kubernetes. - Knowledge of MongoDB, Elasticsearch, RabbitMQ, or Apache Druid.\\n\\nCOURSES TAKEN:\\n\\tCOURSE: CS462\\n\\t\\tCS462 SKILLS: 3D Modeling, Animations, Assigning 3D Object Properties, Blender, Calculating Lights, Shades, And, Camera Rendering, Character Animation, Character Design, Collisions, Constructing 3D Scenes, Design 3D, Develop 3D, Event Triggering, Finite State Machine, Fourier Transform, Game Design, Geometric Image Manipulation, Human Aware Ai, Immersive 3D Worlds, Implementing Animation To Chara, Implementing Movement To Charac, Manipulate Lighting, Manipulate Rendering, Manipulating 3D Object Properti, Movement, Principles Of Lighting, Principles Of Rendering, Real Time Rendering Pipeline, Scene Composition, Scene Layout, Scripting Interactive Behaviors, Scripting Interactive Elements, Tangent Space, Unity, Vectors\\n\\tCOURSE: CS314\\n\\t\\tCS314 SKILLS: Agile, Black Box Testing, Burndown Charts, Clean Code, Cmmi, Code Climate, Code Quality, Communication, Compatability Standards, Concurrency, Configuration Management, Continuous Integration, Databases, Development Environments, Devops, Docker, Docker Container, Establishing Interpersonal Rela, Git, Github, Github Actions, Github Projects, Github Repository, Individual Metrics, Integration Tests, Intellij, Java, Java Concurrency, Java Spark, Json, Junit, Kml, Linux, Mariadb, Maven, Networking, Npm, Optimization, Peer Evaluation, Peer Review, Port Forwarding, Postman, Problem Solving, Product Integration, Project Management, Project Planning, Refactoring, Remote Development, Rest Api, Retrospectives, Scrum, Slack, Slf4J, Software Development Practices, Source Control, Sprint Planning, Sql, Story Boards, Story Sizing, Task Breakdown, Team Development Experience, Team Diversity, Team Metrics, Teamwork, Test Driven Development, Tuckman'S Model, Unix, Use Case Testing, Verification, VS Code, Webpack, White Box Testing\\n\\tCOURSE: CS165\\n\\t\\tCS165 SKILLS: Algorithms, Assertions, B+ Trees, Binary Search Trees, Black Box Testing, Branching Recursion, Data Structures, Dequeues, Expression Trees, Generics, Graph, Hashmap, Infix, Inheritance, Java, Linkedlists, Object Oriented Principles, Object Oriented Programming, Pcre, Polymorphism, Postfix, Prefix, Priority Queues, Problem Solving, Queues, Regex, Stack, Unit Testing\\n\\tCOURSE: CS201\\n\\t\\tCS201 SKILLS: Argument Construction, Computer Solution Designing, Computer Solution Implementatio, Computer Solution Operations, Decision Making, Ethical Dilemma Analysis, Ethical Dilemma Problem Solving, Ethics Analysis, Legal Obligations, Moral Obligations, Philosophy, Professional Code Of Ethics\\n\\tCOURSE: CS370\\n\\t\\tCS370 SKILLS: Commercial Operating Systems, Containers, Deadlocks, Deadlocks Management, Design Threaded Programs, File System Architecture, Interprocess Communication, Kernel Threads, Memory Management, Open Source Operating Systems, Operating Systems, Process Synchronization, Processes Management, Resource Management, Scheduling Algorithms, Storage Architecture, Symmetric Multiprocessing, Synchronization, Task Synchronization, Thread Management, Threads, Type-1 Hypervisors, Type-2 Hypervisors, User Threads\\n\\tCOURSE: CS150\\n\\t\\tCS150 SKILLS: Conditionals, Data Analysis, Data Visualization, Dictionaries, Functions, Hcc, Html, I O Console, I O File, Libraries, Lists, Loops, Operator, Privacy, Python, Research, Research Design, Security, Sets\\n\\tCOURSE: CS110\\n\\t\\tCS110 SKILLS: Data Analysis, Data Manipulation, Data Visualization, Hardware, Privacy, Research, Security\\n\\tCOURSE: CS455\\n\\t\\tCS455 SKILLS: Abstraction, Algorithms Underpinning P2P Sys, Amazon Dynamo, Architectural Styles For Distri, Berkley Algorithm, Bittorrent, Brewer'S Cap Theorem, Build Distributed Systems, Build Scalable Servers, Casual Consistency, Central-Server Algorithm, Centralized Single Cpu Systems, Chord, Clock Synchronization In Distri, Combiner Functions, Compound Actions, Concurrency Primitives, Concurrent Collections, Concurrent Programming, Conditions Requirements For Dis, Confinement, Consensus, Consistency, Consistency Protocol, Consistent Ordering Of Operatio, Core Architecture Framework, Cristian'S Algorithm, Data And Client Centric Consist, Data Synchronization, Design And Build Distrubuted Fa, Design Cloud Scale Storage Syst, Design Efficient Data Represent, Design Small Scale Storage Syst, Design Systems That Can Recover, Distributed Coordination, Distributed Deadlock Detection, Distributed Graph Algorithms, Distributed Hash Tables, Distributed Mutual Exclusion, Distributed Objects, Distributed Shared Memory, Election Algorithms, Elections In Wireless Environme, Exclusions, Extreme Scale Storage Systems, Failure Detectors, File System Design, Foundational Issues, Gnutella, Google File System, Grid Computing, Hadoop, Heaps, Hpc, Intrinsic Locks, Intrinsic Reentracy, Lamport'S Clocks, Lazy Evaluations, Locking Strategies, Maekawa Algorithm, Map And Reduce Functions, Mapreduce, Mapreduce Data Flow, Monotonic Read, Monotonic Write, Multivariable Invariants, Multivariable Thread Safety, Napster, Narrow And Wide Transformations, Non-Blocking I O, Overlays, Pair Resilient Distributed Data, Partitioning Functions, Partitioning Schemes, Pastry, Peer To Peer, Performance Considerations, Pipelining Schemes, Race Conditions, Rdbms, Read-Your-Writes, Replica Placements, Resilient Distrubuted Datasets, Ricarat And Agarwala'S Algorith, Ring-Based Algorithm, Scalable Server Design, Scale Entities In Scalable Syst, Sequential Consistency, Sharing Objects, Software Stack, Spark, Stacks, Stateful And Stateless Transfor, Structured Peer To Peer, Synchronization In Wireless Set, Synchronized Collections, Tapestry, Tasks And Split Strategies, Thread Lifecycle, Thread Management, Thread Pools, Thread Safety, Thread-Safe Classes, Time And Global Positioning Sys, Time Synchronization Algorithms, Token Permission Based Approach, Transformations, Unstructured Peer To Peer, Vector And Matrix Clocks, Volunteer Computing, Voting Sets, Windowed Operations, Write Mapreduce Programs That E\\n\\tCOURSE: CS470 - Modules\\n\\t\\tCS470 - Modules SKILLS: Accelerators, Activation Records, Analysts Memory Heirarchy, Assembly, Cache, Combination Circuits, Custom Accellerators, Datapaths, Design Memory Heirarchy, Disk Memory Heirarchy, Elements Of Compilation, Implementation Memory Heirarchy, Instruction Set Processors, Instruction Set Processors Micr, Pipelining, Prefetching Data, Prefetching Instructions, Ram Memory Heirarchy, Rationale Memory, Register Transfer Notation, Registers, Sequential Circuits, Ssd Memory Heirarchy, Stack Frame, State Machine, Structure Memory, Systolic Matric Multipliers\\n\\tCOURSE: CS453\\n\\t\\tCS453 SKILLS: Activation Records, Asm Code Generation, Ast Lowering, Ast Translation, Compiler Algorithms, Compiler Back-End Design, Compiler Construction, Compiler Front-End Design, Compiler Middle-End Design, Compiler Testing, Control Flow Analysis, Dataflow Analysis, Develope A Compiler From Java, Develope A Compiler From Mips, Grammars, Instructor Scheduling, Intermediate Representation Con, Lexical Analysis, Linear Scan Algorithm, Liveness Analysis, Ll Parsing, Lr Bison, Lr Flex, Lr Parsing, Mips Assembly, Parsers, Register Allocation, Semantic Analysis, Simd Vectorization, Translation, Type Analysis, Type Checking\\n\\tCOURSE: CS425\\n\\t\\tCS425 SKILLS: Algorithm Implementation On Bio, Bioinformatics, Biological Data Analysis, Deep Learning, Genomic Assembly Sequence, Machine Learning, Motif Finding, Predicting Protein-Coding Regio\\n\\tCOURSE: CS435\\n\\t\\tCS435 SKILLS: Big Data, Big Data Organization, Data Storage Systems, Distributed Storage Architectur, Experience Using Real-World Big, In-Memory Data Analytics, Knowledge Discovery At Scale, Large Scale Data Analysis Frame, Large Scale Data Analysis Model, Scalable Data Abalytics Framewo, Self-Descriptive Data Represent\\n\\tCOURSE: CS162\\n\\t\\tCS162 SKILLS: Abstraction, Arrays, Assignment, Booleans, Characters, Classes, Conditionals, Encapsulations, Expressions, I O File, Inheritance, Interfaces, Java, Lists, Loops, Object Oriented Programming, Objects, Operator, Polymorphism, Recursion, Sorting, Strings\\n\\tCOURSE: CS270\\n\\t\\tCS270 SKILLS: Activation Records, Arithmetic Logic Unit, Assembly, Bitwise Operators, C, C++, Circuits, Computer Architecture, Datatype Conversion, Digital Logic, Dynamic Memory Management, Gates, Global Variables, Instruction Set Architectures, Lc3, Logism, Memory Management, Number Formats, Point, Registers, Stack, State Machine, Subroutines, Transistors\\n\\tCOURSE: CS345\\n\\t\\tCS345 SKILLS: Anaconda, Characterizing Data, Classifier Accuracy, Classifying Data, Conduct Experiments, Convolutional Neural Networks, Cross-Validation, Data Manipulation, Data Representation, Data Visualization, Decision Trees, Derivatives, Dot Products, Ensemble Methods, Experimental Design, Experimental Development, Function Regression, Gradient Descent, Hyperparameters, Hyperplanes, Jupyter Notebook, Keras, Kernels, Linear Regression, Machine Learning, Machine Learning Algorithms, Matplotlib, Matrices, Multiclass Classification, Multivariate Linear Regression, Nearest Neighbors, Neural Networks, Numpy, Overfitting, Pandas, Partial Derivatives, Perceptron, Principle Components Analysis, Python, Regularization, Scikit-Learn, Support Vector Machine, Tensorflow, Validation Sets\\n\\tCOURSE: CS250\\n\\t\\tCS250 SKILLS: Assembly, B+ Trees, Bits, Boolean Algebra, Boolean Logic, Border Gateway Protocol, Cache, Computer Architecture, Data Structures, Data Structures For Storage Sys, Databases, Datatypes, Distributed Systems, Domain Name System, File Systems, Frameworks, Graphic Processing Unit, Harvard Architectue, Internet Protocol, Logged Structure Merge, Logic Design, Machine Language, Main Memory, Memory Efficientcy, Memory Hierarchy, Memory Management, Nand Gates, Networks, Neuromorphic Computing, Numeric Datatypes, Parallel Systems, Parallelization, Processors, Registers, Signed Unsigned Numbers, Sorted Strings Tables, Storage, Transmission Control Protocol, User Datagram Protocol\\n\\tCOURSE: CS320\\n\\t\\tCS320 SKILLS: Bipartite Graph, Breadth First, Depth First, Dictionaries, Divide & Conquer, Dynamic Multi-Threading, Dynamic Programming, Graph Algorithm, Greedy Algorithms, Greedy Proofs, Heaps, Heapsort, Knapsack, Line Of Sight Algorithm, Master Theorem, Memoization, Memory-Efficient Knapsack, Minimum Spanning Tree, Non-Deterministic Polynomial Cl, Non-Deterministic Polynomial Co, Orders Of Magnitude, Parallel Algorithms, Parallel Scans, Polynomial Class, Polynomial Time Reduction, Prefix Sums, Python, Recursive Substructure, Shortest Paths, Topological Sort, Tree Algorithm\\n\\tCOURSE: CS464\\n\\t\\tCS464 SKILLS: Experimental Design, Human Centered Interaction Foun, Human Computer Interaction, Human Computer Interaction Rese, Human Factors, Hypothesis Testing, Interaction Design Principles, Latex, Perception, Principles Of User Experience, Principles Of User Usability, Prototyping, Publishing Research Paper, Qualitiative Analysis, Scientific Foundations, User Centered Interaction Desig, Writing Research Paper\\n\\tCOURSE: CS440\\n\\t\\tCS440 SKILLS: Analyse Implications Of Ai, Apply Ai To Real-World Problems, Conceptual Frameworks, Deep Learning, Designing, Training, & Evaluati, Ethical And Societal Implicatio, Fundamental Principles Of Ai, Knowledge Representation, Machine Learning Technique, Neural Networks, Practical Aspects Of Artificial, Probabilistic Models, Reasoning, Scikit-Learn, Search Algorithms, Software Artifacs, Software Process Evaluation, Software Process Improvement, Software Processes, Software Product Evaluation, Software Product Improvement, Supervised Learning, Symbolic Reasoning, Tensorflow, Theoretical Aspects Of Artifici\\n\\tCOURSE: CS458\\n\\t\\tCS458 SKILLS: Blockchain, Consensus Protocols, Cryptocurrency, Cryptographic Algorithms, Decent, Decentralized Exchanges (Uniswa, Distributed Application, Ethereum Virtual Machine, Fault Tolerance, Hyperledger, Iota, Mining Algorithms, Mining Game Theory, Naivechain, Naivecoin, Network Models, Oracles, Proof Of Importance, Proof Of Stake, Proof Of Work, Rchain, React, Smart Contracts, Solidity, Sybil Resistance\\n\\tCOURSE: CS456\\n\\t\\tCS456 SKILLS: Anonymity, Art Of Invisibility, Attack Surfaces, Computer Log Scanners, Crypto Key Management, Cyber Kill Chain, Cyber Security, Cyber Security Threats, Cyber Security Vulnerabilities, Cyber Threat Intelligence, Cyber-Physical Security, Data Science, Differential Privacy, Dns Over Https, Dns Over Tls, Dns Privacy, Elliptic Curve Crypto, End-To-End Encryption, Homomorphoc Encryption, Https, Incident Response, Log Analysis, Malware Analysis, Malware Detection Using Ml, Malware Relationship Analysis, Owasp, Privacy, Privacy By Design, Privacy Engineering, Privacy Enhancing Technologies, Protecting Digital Data, Protecting Sensitive Data, Quantum Computing, Quantum Cryptography, Securing Data At Rest, Securing Data In Motion, Securing Data-In-Use, Security Testing, Siem Systems, Signal Protocol, Socks, Tls, Vpn, Zero-Knowledge Proofs, Zero-Trust, Zero-Trust Security\\n\\tCOURSE: CS414\\n\\t\\tCS414 SKILLS: Architechure Design, Backlogs Refinement, Code Idioms, Code Styles, Cohesion, Conceptual Modeling, Coupling, Crc Modeling, Design Modeling, Design Models, Design Patterns, Domain Modeling, Gather Requirements, Inheritance, Interfaces, Object Oriented Analysis, Object Oriented Design, Object Oriented Principles, Problem Analysis, Refactoring, Requirement Breakdown, Requirements Engineering, Retroactives, Software Engineering Ethics, Software Process Models, Story Mapping, Team Development Experience, Team Interaction, Team Project, Test Driven Development\\n\\tCOURSE: CS457\\n\\t\\tCS457 SKILLS: Arp, Arp Addresses, Bgp, Circuit Switching, Congestion Control, Connected-Oriented Transport, Connectionless Transport, Content Distribution Networks, Cryptography, Data Center Networking, Demultiplexing, Digital Signatures, Distance-Vector, Dns, End-Point Authentication, Error-Corrections, Error-Detection, Ethernet Protocol, Forwarding, Http, Interdomain Routing, Internetworking, Intra-As Routing, Ip Networking Stack, Ip-Anycast, Ipv6, Link Layer Access Control, Link Virtualization, Linked-State, Mac Addresses, Message Integrity, Middleboxes, Multiple Access Links Protocol, Multiplexing, Nat, Netowrk Nfv, Network Application Protocols, Network Architecture, Network Delay, Network Layer Control Plane, Network Layers, Network Loss, Network Sdn, Network Security, Network Throughput, Ospf, P2P File Distribution, Packet Switching, Pv4, Reliable Data Transfer, Routing, Routing Algorithms, Routing Policy, Service Models, Smtp, Socket Programming, Software Defined Networking, Switched Ethernet Mpls, Switched Local Area Networks, Switches, Tcp, Transport Layer Services\\n\\tCOURSE: CS415\\n\\t\\tCS415 SKILLS: Automatic Test Generation, Control Flow Graphs, Data Flow Criteria, Dbconnector, Fitnesse, Fuzz Testing, Gamification Of Learning, Graph Coverage Criteria, Graph Coverage For Specificatio, Graph Coverage For State Charts, Graph Coverage For Use Cases, Graph Fundamentals, Input Space Partitioning, Junit, Junit Parameterized Classes, Junit Theory, Mocking Concepts, Mockito, Mutation Analysis, Regression Testing, Restcontroller, Selenium, Static Analysis\\n\\tCOURSE: CS475\\n\\t\\tCS475 SKILLS: Compiling Programs On Clusters, Cuda, Mpi, Openmp, Parallel Program Analysis, Parallel Program Debugging, Parallel Program Design, Parallel Programming\\n\\tCOURSE: CS110 - Modules\\n\\t\\tCS110 - Modules SKILLS: Computer Hardware, Computer Input, Computer Output, Computer Security, Computer Software, Computer Storage, Data Analytics, Databases, Digital Identity, Excel, File Management, Mac Os, Mobile Devices, Networking And Connecting To Th, Social Media, Spreadsheets\\n\\tCOURSE: CS164\\n\\t\\tCS164 SKILLS: 2D Arrays, Abstract Classes, Algorithms, Arraylists, Arrays, Branching, Classes, Code Comprehention, Code Design, Code Reading Analysis, Conditionals, Datatypes, Debugging, Exceptions, File Input, File Output, Git, Github, Ide, Intellij, Interfaces, Java, Java Development Environment, Javadoc, Linux, Logical Operators, Loops, Methods, Obects, Object Oriented Programming, Polymorphism, Problem Solving, Putty, Quality Assurance, Recursion, Searching, Sorting, Ssh, String Manipulation, Strings, Testing, Uml, Version Control, VS Code, Windows\\n\\tCOURSE: CS152\\n\\t\\tCS152 SKILLS: Algorithms, Data Analysis, Data Visualization, Functions, I O File, Libraries, Logic, Problem Solving\\n\\tCOURSE: CS220\\n\\t\\tCS220 SKILLS: Anaconda, Big O, Combinations, Counting, Directed Graphs, Functions, Graph, Induction Proof, Jupyter Notebook, Logical Inference, Loop Invariants, Mathematical Proof, Matplotlib, Miniconda, Permutations, Predicate Logic, Propositional Logic, Python, Relations, Sets\\n\\tCOURSE: CS430\\n\\t\\tCS430 SKILLS: Application Development, Concurrency, Create, Manage, And Optimize Da, Creating Database, Data Modeling, Database Design, Database Guis, Database Recovery, Database Security, Database Systems, E R Diagram, Hash Table, Indexing, Locking, Migrating Databases, Mysql, Normalization, Queries, Query Processing, Relational Algebra, Robust Implementation Of Databa, Sql, Storage Management, Transaction Management, Transactions, Updating Databases\\n\\tCOURSE: CS214\\n\\t\\tCS214 SKILLS: Agile, Artifact Management, Code Coverage, Coding Standards, Debugging, Documentation, Functional Programming, Git, Individual Software Development, Java, Junit Testing, Memory Efficientcy, Project Management, Project Planning, Refactoring, Software Design, Software Engineering Process, Software Implementation, Software Maintenance, Software Testing, Test Driven Development, Time Efficiency\\n\\tCOURSE: CS312\\n\\t\\tCS312 SKILLS: Asychronous, Cascading Style Sheets, Databases, Full-Stack Development, Hypertext Markup Language, Javascript, Microservices, Rest Api, Service-Based Architecture, Usability Assessment And Enhanc, User Account Creation, Ux Design, Web Applications\\n\\tCOURSE: CS445\\n\\t\\tCS445 SKILLS: Classification, Deep Learning, Jupyter Notebook, Multivariable Data, Pattern Classification Algorith, Prediction, Python, Regression Algorithms, Reinforcement Learning Algorith, Scientific Reports, Statistical Analyses, Visualization\\n\\tCOURSE: CS356\\n\\t\\tCS356 SKILLS: Access Control, Buffer Overflow Attacks, Cryptographic Tools, Database Security, Defensive Programming Technique, Denial Of Service Attacks, Ethical Hacking Experiments, Hacking Demos, Internet Authentication, Intrusion Detection, Malicious Software, Prevention Systems, User Authentication\\n\\tCOURSE: CS470\\n\\t\\tCS470 SKILLS: Assembly, C Language, Digital Gates, Instruction Set Architectures\\n\", 'answer': 'You are missing the following skills required by the postion: Performance optimization, Database management, Elasticsearch, Analytical skills, JavaScript, MongoDB, Spring Boot, Code Review, RabbitMQ, Reporting, Technical leadership, Unit testing, Interpersonal Skills, Scala, System architecture, Collaboration, React.js, SQL, Cloud computing, Problem Solving Skills, Production code, NoSQL, Development, Large-scale systems, Product Decisions, Public clouds, Efficiency, Kubernetes, Innovation, Apache Druid, Coding skills, Software Development', 'label': 0.1578947368421053}\n",
      "\n",
      "Individual: {'query': \"What skills am I lacking for the following job position, given the classes I have taken?\\n\\nJob Title: Yahoo_Software_Dev_Engineer\\n Job Description: Who We're Looking For- Junior Software Engineer We hire engineers who love the web, but can see its cracks and its future, too. We look for people who are exceptionally who are exceptionally imaginative, collaborative, and truly excited about tech. Our DSP Reporting team is currently looking for talented full-stack engineers to design, implement, and support robust, scalable, and high-quality reporting solutions Your Responsibilities - Develop and enhance a state-of-the-art reporting and analytics platform. - Build intuitive front-end UIs for reporting and analytics using React. - Develop microservices to power reporting and analytics solutions. - Write clean, maintainable, and performant code, including unit tests and refactoring when needed. - Collaborate with designers and developers to define and deliver new features. - Participate in system architecture reviews, code reviews, performance tuning, and production support. - Own and deliver projects ranging from small must-do tasks to large-scale initiatives. - Influence technical direction, best practices, product decisions, and team processes. Your voice matters! What You Bring: - Experience in fast-paced, highly technical environments. - Strong knowledge of JavaScript and React. - Proficiency in Java or Scala. - Good understanding of SQL / NoSQL databases. - Experience with the Spring Framework. - Proven ability to build and maintain large-scale systems. - Strong coding skills with a focus on clean, efficient, and scalable production code. - Excellent communication, interpersonal, and problem-solving skills. - Passion for data and analytics, with a drive to build products that users can't live without. - Min 2-3 years of experience - M.S. or B.S. in Computer Science, Engineering, or a related field Bonus Skills (Nice to Have): - Experience with public clouds (AWS or GCP). - Familiarity with Kubernetes. - Knowledge of MongoDB, Elasticsearch, RabbitMQ, or Apache Druid.\\n\\nCOURSE TAKEN: CS470\\n CS470 SKILLS: Assembly, C Language, Digital Gates, Instruction Set Architectures\", 'answer': 'You are missing all of the following skills required by the postion: Performance optimization, Refactoring, Database management, Elasticsearch, Analytical skills, JavaScript, MongoDB, Spring Boot, Code Review, RabbitMQ, Reporting, Technical leadership, Unit testing, Microservices, Interpersonal Skills, Scala, System architecture, Collaboration, React.js, SQL, Java, Cloud computing, Problem Solving Skills, Production code, NoSQL, Teamwork, Development, Communication, Large-scale systems, Product Decisions, Clean Code, Public clouds, Efficiency, Kubernetes, Innovation, Apache Druid, Coding skills, Software Development', 'label': 0.0}\n",
      "\n",
      "Course load: {'query': \"What skills am I lacking for the following job position, given the classes I have taken?\\n\\nJob Title: Yahoo_Software_Dev_Engineer\\n Job Description: Who We're Looking For- Junior Software Engineer We hire engineers who love the web, but can see its cracks and its future, too. We look for people who are exceptionally who are exceptionally imaginative, collaborative, and truly excited about tech. Our DSP Reporting team is currently looking for talented full-stack engineers to design, implement, and support robust, scalable, and high-quality reporting solutions Your Responsibilities - Develop and enhance a state-of-the-art reporting and analytics platform. - Build intuitive front-end UIs for reporting and analytics using React. - Develop microservices to power reporting and analytics solutions. - Write clean, maintainable, and performant code, including unit tests and refactoring when needed. - Collaborate with designers and developers to define and deliver new features. - Participate in system architecture reviews, code reviews, performance tuning, and production support. - Own and deliver projects ranging from small must-do tasks to large-scale initiatives. - Influence technical direction, best practices, product decisions, and team processes. Your voice matters! What You Bring: - Experience in fast-paced, highly technical environments. - Strong knowledge of JavaScript and React. - Proficiency in Java or Scala. - Good understanding of SQL / NoSQL databases. - Experience with the Spring Framework. - Proven ability to build and maintain large-scale systems. - Strong coding skills with a focus on clean, efficient, and scalable production code. - Excellent communication, interpersonal, and problem-solving skills. - Passion for data and analytics, with a drive to build products that users can't live without. - Min 2-3 years of experience - M.S. or B.S. in Computer Science, Engineering, or a related field Bonus Skills (Nice to Have): - Experience with public clouds (AWS or GCP). - Familiarity with Kubernetes. - Knowledge of MongoDB, Elasticsearch, RabbitMQ, or Apache Druid.\\n\\nCOURSES TAKEN:\\n\\tCOURSE: CS314\\n\\t\\tCS314 SKILLS: Agile, Black Box Testing, Burndown Charts, Clean Code, Cmmi, Code Climate, Code Quality, Communication, Compatability Standards, Concurrency, Configuration Management, Continuous Integration, Databases, Development Environments, Devops, Docker, Docker Container, Establishing Interpersonal Rela, Git, Github, Github Actions, Github Projects, Github Repository, Individual Metrics, Integration Tests, Intellij, Java, Java Concurrency, Java Spark, Json, Junit, Kml, Linux, Mariadb, Maven, Networking, Npm, Optimization, Peer Evaluation, Peer Review, Port Forwarding, Postman, Problem Solving, Product Integration, Project Management, Project Planning, Refactoring, Remote Development, Rest Api, Retrospectives, Scrum, Slack, Slf4J, Software Development Practices, Source Control, Sprint Planning, Sql, Story Boards, Story Sizing, Task Breakdown, Team Development Experience, Team Diversity, Team Metrics, Teamwork, Test Driven Development, Tuckman'S Model, Unix, Use Case Testing, Verification, VS Code, Webpack, White Box Testing\\n\\tCOURSE: CS165\\n\\t\\tCS165 SKILLS: Algorithms, Assertions, B+ Trees, Binary Search Trees, Black Box Testing, Branching Recursion, Data Structures, Dequeues, Expression Trees, Generics, Graph, Hashmap, Infix, Inheritance, Java, Linkedlists, Object Oriented Principles, Object Oriented Programming, Pcre, Polymorphism, Postfix, Prefix, Priority Queues, Problem Solving, Queues, Regex, Stack, Unit Testing\\n\\tCOURSE: CS201\\n\\t\\tCS201 SKILLS: Argument Construction, Computer Solution Designing, Computer Solution Implementatio, Computer Solution Operations, Decision Making, Ethical Dilemma Analysis, Ethical Dilemma Problem Solving, Ethics Analysis, Legal Obligations, Moral Obligations, Philosophy, Professional Code Of Ethics\\n\\tCOURSE: CS370\\n\\t\\tCS370 SKILLS: Commercial Operating Systems, Containers, Deadlocks, Deadlocks Management, Design Threaded Programs, File System Architecture, Interprocess Communication, Kernel Threads, Memory Management, Open Source Operating Systems, Operating Systems, Process Synchronization, Processes Management, Resource Management, Scheduling Algorithms, Storage Architecture, Symmetric Multiprocessing, Synchronization, Task Synchronization, Thread Management, Threads, Type-1 Hypervisors, Type-2 Hypervisors, User Threads\\n\\tCOURSE: CS150\\n\\t\\tCS150 SKILLS: Conditionals, Data Analysis, Data Visualization, Dictionaries, Functions, Hcc, Html, I O Console, I O File, Libraries, Lists, Loops, Operator, Privacy, Python, Research, Research Design, Security, Sets\\n\\tCOURSE: CS162\\n\\t\\tCS162 SKILLS: Abstraction, Arrays, Assignment, Booleans, Characters, Classes, Conditionals, Encapsulations, Expressions, I O File, Inheritance, Interfaces, Java, Lists, Loops, Object Oriented Programming, Objects, Operator, Polymorphism, Recursion, Sorting, Strings\\n\\tCOURSE: CS270\\n\\t\\tCS270 SKILLS: Activation Records, Arithmetic Logic Unit, Assembly, Bitwise Operators, C, C++, Circuits, Computer Architecture, Datatype Conversion, Digital Logic, Dynamic Memory Management, Gates, Global Variables, Instruction Set Architectures, Lc3, Logism, Memory Management, Number Formats, Point, Registers, Stack, State Machine, Subroutines, Transistors\\n\\tCOURSE: CS250\\n\\t\\tCS250 SKILLS: Assembly, B+ Trees, Bits, Boolean Algebra, Boolean Logic, Border Gateway Protocol, Cache, Computer Architecture, Data Structures, Data Structures For Storage Sys, Databases, Datatypes, Distributed Systems, Domain Name System, File Systems, Frameworks, Graphic Processing Unit, Harvard Architectue, Internet Protocol, Logged Structure Merge, Logic Design, Machine Language, Main Memory, Memory Efficientcy, Memory Hierarchy, Memory Management, Nand Gates, Networks, Neuromorphic Computing, Numeric Datatypes, Parallel Systems, Parallelization, Processors, Registers, Signed Unsigned Numbers, Sorted Strings Tables, Storage, Transmission Control Protocol, User Datagram Protocol\\n\\tCOURSE: CS320\\n\\t\\tCS320 SKILLS: Bipartite Graph, Breadth First, Depth First, Dictionaries, Divide & Conquer, Dynamic Multi-Threading, Dynamic Programming, Graph Algorithm, Greedy Algorithms, Greedy Proofs, Heaps, Heapsort, Knapsack, Line Of Sight Algorithm, Master Theorem, Memoization, Memory-Efficient Knapsack, Minimum Spanning Tree, Non-Deterministic Polynomial Cl, Non-Deterministic Polynomial Co, Orders Of Magnitude, Parallel Algorithms, Parallel Scans, Polynomial Class, Polynomial Time Reduction, Prefix Sums, Python, Recursive Substructure, Shortest Paths, Topological Sort, Tree Algorithm\\n\\tCOURSE: CS458\\n\\t\\tCS458 SKILLS: Blockchain, Consensus Protocols, Cryptocurrency, Cryptographic Algorithms, Decent, Decentralized Exchanges (Uniswa, Distributed Application, Ethereum Virtual Machine, Fault Tolerance, Hyperledger, Iota, Mining Algorithms, Mining Game Theory, Naivechain, Naivecoin, Network Models, Oracles, Proof Of Importance, Proof Of Stake, Proof Of Work, Rchain, React, Smart Contracts, Solidity, Sybil Resistance\\n\\tCOURSE: CS456\\n\\t\\tCS456 SKILLS: Anonymity, Art Of Invisibility, Attack Surfaces, Computer Log Scanners, Crypto Key Management, Cyber Kill Chain, Cyber Security, Cyber Security Threats, Cyber Security Vulnerabilities, Cyber Threat Intelligence, Cyber-Physical Security, Data Science, Differential Privacy, Dns Over Https, Dns Over Tls, Dns Privacy, Elliptic Curve Crypto, End-To-End Encryption, Homomorphoc Encryption, Https, Incident Response, Log Analysis, Malware Analysis, Malware Detection Using Ml, Malware Relationship Analysis, Owasp, Privacy, Privacy By Design, Privacy Engineering, Privacy Enhancing Technologies, Protecting Digital Data, Protecting Sensitive Data, Quantum Computing, Quantum Cryptography, Securing Data At Rest, Securing Data In Motion, Securing Data-In-Use, Security Testing, Siem Systems, Signal Protocol, Socks, Tls, Vpn, Zero-Knowledge Proofs, Zero-Trust, Zero-Trust Security\\n\\tCOURSE: CS457\\n\\t\\tCS457 SKILLS: Arp, Arp Addresses, Bgp, Circuit Switching, Congestion Control, Connected-Oriented Transport, Connectionless Transport, Content Distribution Networks, Cryptography, Data Center Networking, Demultiplexing, Digital Signatures, Distance-Vector, Dns, End-Point Authentication, Error-Corrections, Error-Detection, Ethernet Protocol, Forwarding, Http, Interdomain Routing, Internetworking, Intra-As Routing, Ip Networking Stack, Ip-Anycast, Ipv6, Link Layer Access Control, Link Virtualization, Linked-State, Mac Addresses, Message Integrity, Middleboxes, Multiple Access Links Protocol, Multiplexing, Nat, Netowrk Nfv, Network Application Protocols, Network Architecture, Network Delay, Network Layer Control Plane, Network Layers, Network Loss, Network Sdn, Network Security, Network Throughput, Ospf, P2P File Distribution, Packet Switching, Pv4, Reliable Data Transfer, Routing, Routing Algorithms, Routing Policy, Service Models, Smtp, Socket Programming, Software Defined Networking, Switched Ethernet Mpls, Switched Local Area Networks, Switches, Tcp, Transport Layer Services\\n\\tCOURSE: CS110 - Modules\\n\\t\\tCS110 - Modules SKILLS: Computer Hardware, Computer Input, Computer Output, Computer Security, Computer Software, Computer Storage, Data Analytics, Databases, Digital Identity, Excel, File Management, Mac Os, Mobile Devices, Networking And Connecting To Th, Social Media, Spreadsheets\\n\\tCOURSE: CS164\\n\\t\\tCS164 SKILLS: 2D Arrays, Abstract Classes, Algorithms, Arraylists, Arrays, Branching, Classes, Code Comprehention, Code Design, Code Reading Analysis, Conditionals, Datatypes, Debugging, Exceptions, File Input, File Output, Git, Github, Ide, Intellij, Interfaces, Java, Java Development Environment, Javadoc, Linux, Logical Operators, Loops, Methods, Obects, Object Oriented Programming, Polymorphism, Problem Solving, Putty, Quality Assurance, Recursion, Searching, Sorting, Ssh, String Manipulation, Strings, Testing, Uml, Version Control, VS Code, Windows\\n\\tCOURSE: CS152\\n\\t\\tCS152 SKILLS: Algorithms, Data Analysis, Data Visualization, Functions, I O File, Libraries, Logic, Problem Solving\\n\\tCOURSE: CS220\\n\\t\\tCS220 SKILLS: Anaconda, Big O, Combinations, Counting, Directed Graphs, Functions, Graph, Induction Proof, Jupyter Notebook, Logical Inference, Loop Invariants, Mathematical Proof, Matplotlib, Miniconda, Permutations, Predicate Logic, Propositional Logic, Python, Relations, Sets\\n\\tCOURSE: CS214\\n\\t\\tCS214 SKILLS: Agile, Artifact Management, Code Coverage, Coding Standards, Debugging, Documentation, Functional Programming, Git, Individual Software Development, Java, Junit Testing, Memory Efficientcy, Project Management, Project Planning, Refactoring, Software Design, Software Engineering Process, Software Implementation, Software Maintenance, Software Testing, Test Driven Development, Time Efficiency\\n\\tCOURSE: CS445\\n\\t\\tCS445 SKILLS: Classification, Deep Learning, Jupyter Notebook, Multivariable Data, Pattern Classification Algorith, Prediction, Python, Regression Algorithms, Reinforcement Learning Algorith, Scientific Reports, Statistical Analyses, Visualization\\n\", 'answer': 'You are missing the following skills required by the postion: Performance optimization, Database management, Elasticsearch, Analytical skills, JavaScript, MongoDB, Spring Boot, Code Review, RabbitMQ, Reporting, Technical leadership, Unit testing, Microservices, Interpersonal Skills, Scala, System architecture, Collaboration, React.js, SQL, Cloud computing, Problem Solving Skills, Production code, NoSQL, Development, Large-scale systems, Product Decisions, Public clouds, Efficiency, Kubernetes, Innovation, Apache Druid, Coding skills, Software Development', 'label': 0.13157894736842102}\n",
      "\n"
     ]
    }
   ],
   "source": [
    "def create_training_data(jobs_df, courses_df, all_acquired_skills):\n",
    "    training_data = all_class_comparison(jobs_df, courses_df, all_acquired_skills)\n",
    "    print(f\"All: {training_data[-1]}\\n\")\n",
    "\n",
    "    training_data = training_data + compare_individual_course(jobs_df, courses_df)\n",
    "    print(f\"Individual: {training_data[-1]}\\n\")\n",
    "    \n",
    "    training_data = training_data + get_courseloads(jobs_df, courses_df)\n",
    "    print(f\"Course load: {training_data[-1]}\\n\")\n",
    "\n",
    "    return training_data\n",
    "\n",
    "# all_acquired_skills = get_all_acquired_skills(courses_df)\n",
    "# training_data = create_training_data(jobs_df, courses_df, all_acquired_skills)"
   ]
  },
  {
   "cell_type": "code",
   "execution_count": null,
   "metadata": {},
   "outputs": [
    {
     "name": "stdout",
     "output_type": "stream",
     "text": [
      "{'query': \"What skills am I lacking for the following job position, given the classes I have taken?\\n\\nJob Title: Adobe_AI_ML_Engineer\\n Job Description: The Opportunity?Adobe is seeking talented and passionate Software Engineer across all organizations to help plan, design, develop, and test software systems or applications for software enhancements and new products used in local, networked, cloud-based or Internet-related computer programs and products. What You'll Do - Develop high-performance, reliable, testable and maintainable code. - Participating in all aspects of software development activities, including design, coding, code review, testing, bug fixing, and code/API documentation. - Collaborate with engineers and participate in daily or weekly stand ups and meetings. - Grow with the support of your team and help others on the team grow by providing thoughtful feedback and uplifting those around you. - Work both independently and collaboratively within a fast-paced development team, with clear, positive, and constructive communication. - Additional responsibilities as needed based on specific role or team What You Need to Succeed - Bachelor's or Master's in Computer Science, Computer Engineering, Electrical Engineer, or equivalent experience required - 1-3+ years of experience in specific skill/field(s) - Proficient in programming languages such as Ruby, Python, Javascript, etc. - Strong technical background with analytical and problem-solving skills - Familiarity with client-side frameworks and libraries like React, Vue, Angular, Web Components. - Excellent problem solving and debugging skills, and direct experience with DevOps in a SaaS environment is a plus. - Customer focused and have real passion for quality and engineering excellence at scale. - Excellent communication and collaboration skills.\\n\\nCOURSES TAKEN:\\n\\tCOURSE: CS462\\n\\t\\tCS462 SKILLS: 3D Modeling, Animations, Assigning 3D Object Properties, Blender, Calculating Lights, Shades, And, Camera Rendering, Character Animation, Character Design, Collisions, Constructing 3D Scenes, Design 3D, Develop 3D, Event Triggering, Finite State Machine, Fourier Transform, Game Design, Geometric Image Manipulation, Human Aware Ai, Immersive 3D Worlds, Implementing Animation To Chara, Implementing Movement To Charac, Manipulate Lighting, Manipulate Rendering, Manipulating 3D Object Properti, Movement, Principles Of Lighting, Principles Of Rendering, Real Time Rendering Pipeline, Scene Composition, Scene Layout, Scripting Interactive Behaviors, Scripting Interactive Elements, Tangent Space, Unity, Vectors\\n\\tCOURSE: CS314\\n\\t\\tCS314 SKILLS: Agile, Black Box Testing, Burndown Charts, Clean Code, Cmmi, Code Climate, Code Quality, Communication, Compatability Standards, Concurrency, Configuration Management, Continuous Integration, Databases, Development Environments, Devops, Docker, Docker Container, Establishing Interpersonal Rela, Git, Github, Github Actions, Github Projects, Github Repository, Individual Metrics, Integration Tests, Intellij, Java, Java Concurrency, Java Spark, Json, Junit, Kml, Linux, Mariadb, Maven, Networking, Npm, Optimization, Peer Evaluation, Peer Review, Port Forwarding, Postman, Problem Solving, Product Integration, Project Management, Project Planning, Refactoring, Remote Development, Rest Api, Retrospectives, Scrum, Slack, Slf4J, Software Development Practices, Source Control, Sprint Planning, Sql, Story Boards, Story Sizing, Task Breakdown, Team Development Experience, Team Diversity, Team Metrics, Teamwork, Test Driven Development, Tuckman'S Model, Unix, Use Case Testing, Verification, VS Code, Webpack, White Box Testing\\n\\tCOURSE: CS165\\n\\t\\tCS165 SKILLS: Algorithms, Assertions, B+ Trees, Binary Search Trees, Black Box Testing, Branching Recursion, Data Structures, Dequeues, Expression Trees, Generics, Graph, Hashmap, Infix, Inheritance, Java, Linkedlists, Object Oriented Principles, Object Oriented Programming, Pcre, Polymorphism, Postfix, Prefix, Priority Queues, Problem Solving, Queues, Regex, Stack, Unit Testing\\n\\tCOURSE: CS201\\n\\t\\tCS201 SKILLS: Argument Construction, Computer Solution Designing, Computer Solution Implementatio, Computer Solution Operations, Decision Making, Ethical Dilemma Analysis, Ethical Dilemma Problem Solving, Ethics Analysis, Legal Obligations, Moral Obligations, Philosophy, Professional Code Of Ethics\\n\\tCOURSE: CS370\\n\\t\\tCS370 SKILLS: Commercial Operating Systems, Containers, Deadlocks, Deadlocks Management, Design Threaded Programs, File System Architecture, Interprocess Communication, Kernel Threads, Memory Management, Open Source Operating Systems, Operating Systems, Process Synchronization, Processes Management, Resource Management, Scheduling Algorithms, Storage Architecture, Symmetric Multiprocessing, Synchronization, Task Synchronization, Thread Management, Threads, Type-1 Hypervisors, Type-2 Hypervisors, User Threads\\n\\tCOURSE: CS150\\n\\t\\tCS150 SKILLS: Conditionals, Data Analysis, Data Visualization, Dictionaries, Functions, Hcc, Html, I O Console, I O File, Libraries, Lists, Loops, Operator, Privacy, Python, Research, Research Design, Security, Sets\\n\\tCOURSE: CS110\\n\\t\\tCS110 SKILLS: Data Analysis, Data Manipulation, Data Visualization, Hardware, Privacy, Research, Security\\n\\tCOURSE: CS455\\n\\t\\tCS455 SKILLS: Abstraction, Algorithms Underpinning P2P Sys, Amazon Dynamo, Architectural Styles For Distri, Berkley Algorithm, Bittorrent, Brewer'S Cap Theorem, Build Distributed Systems, Build Scalable Servers, Casual Consistency, Central-Server Algorithm, Centralized Single Cpu Systems, Chord, Clock Synchronization In Distri, Combiner Functions, Compound Actions, Concurrency Primitives, Concurrent Collections, Concurrent Programming, Conditions Requirements For Dis, Confinement, Consensus, Consistency, Consistency Protocol, Consistent Ordering Of Operatio, Core Architecture Framework, Cristian'S Algorithm, Data And Client Centric Consist, Data Synchronization, Design And Build Distrubuted Fa, Design Cloud Scale Storage Syst, Design Efficient Data Represent, Design Small Scale Storage Syst, Design Systems That Can Recover, Distributed Coordination, Distributed Deadlock Detection, Distributed Graph Algorithms, Distributed Hash Tables, Distributed Mutual Exclusion, Distributed Objects, Distributed Shared Memory, Election Algorithms, Elections In Wireless Environme, Exclusions, Extreme Scale Storage Systems, Failure Detectors, File System Design, Foundational Issues, Gnutella, Google File System, Grid Computing, Hadoop, Heaps, Hpc, Intrinsic Locks, Intrinsic Reentracy, Lamport'S Clocks, Lazy Evaluations, Locking Strategies, Maekawa Algorithm, Map And Reduce Functions, Mapreduce, Mapreduce Data Flow, Monotonic Read, Monotonic Write, Multivariable Invariants, Multivariable Thread Safety, Napster, Narrow And Wide Transformations, Non-Blocking I O, Overlays, Pair Resilient Distributed Data, Partitioning Functions, Partitioning Schemes, Pastry, Peer To Peer, Performance Considerations, Pipelining Schemes, Race Conditions, Rdbms, Read-Your-Writes, Replica Placements, Resilient Distrubuted Datasets, Ricarat And Agarwala'S Algorith, Ring-Based Algorithm, Scalable Server Design, Scale Entities In Scalable Syst, Sequential Consistency, Sharing Objects, Software Stack, Spark, Stacks, Stateful And Stateless Transfor, Structured Peer To Peer, Synchronization In Wireless Set, Synchronized Collections, Tapestry, Tasks And Split Strategies, Thread Lifecycle, Thread Management, Thread Pools, Thread Safety, Thread-Safe Classes, Time And Global Positioning Sys, Time Synchronization Algorithms, Token Permission Based Approach, Transformations, Unstructured Peer To Peer, Vector And Matrix Clocks, Volunteer Computing, Voting Sets, Windowed Operations, Write Mapreduce Programs That E\\n\\tCOURSE: CS470 - Modules\\n\\t\\tCS470 - Modules SKILLS: Accelerators, Activation Records, Analysts Memory Heirarchy, Assembly, Cache, Combination Circuits, Custom Accellerators, Datapaths, Design Memory Heirarchy, Disk Memory Heirarchy, Elements Of Compilation, Implementation Memory Heirarchy, Instruction Set Processors, Instruction Set Processors Micr, Pipelining, Prefetching Data, Prefetching Instructions, Ram Memory Heirarchy, Rationale Memory, Register Transfer Notation, Registers, Sequential Circuits, Ssd Memory Heirarchy, Stack Frame, State Machine, Structure Memory, Systolic Matric Multipliers\\n\\tCOURSE: CS453\\n\\t\\tCS453 SKILLS: Activation Records, Asm Code Generation, Ast Lowering, Ast Translation, Compiler Algorithms, Compiler Back-End Design, Compiler Construction, Compiler Front-End Design, Compiler Middle-End Design, Compiler Testing, Control Flow Analysis, Dataflow Analysis, Develope A Compiler From Java, Develope A Compiler From Mips, Grammars, Instructor Scheduling, Intermediate Representation Con, Lexical Analysis, Linear Scan Algorithm, Liveness Analysis, Ll Parsing, Lr Bison, Lr Flex, Lr Parsing, Mips Assembly, Parsers, Register Allocation, Semantic Analysis, Simd Vectorization, Translation, Type Analysis, Type Checking\\n\\tCOURSE: CS425\\n\\t\\tCS425 SKILLS: Algorithm Implementation On Bio, Bioinformatics, Biological Data Analysis, Deep Learning, Genomic Assembly Sequence, Machine Learning, Motif Finding, Predicting Protein-Coding Regio\\n\\tCOURSE: CS435\\n\\t\\tCS435 SKILLS: Big Data, Big Data Organization, Data Storage Systems, Distributed Storage Architectur, Experience Using Real-World Big, In-Memory Data Analytics, Knowledge Discovery At Scale, Large Scale Data Analysis Frame, Large Scale Data Analysis Model, Scalable Data Abalytics Framewo, Self-Descriptive Data Represent\\n\\tCOURSE: CS162\\n\\t\\tCS162 SKILLS: Abstraction, Arrays, Assignment, Booleans, Characters, Classes, Conditionals, Encapsulations, Expressions, I O File, Inheritance, Interfaces, Java, Lists, Loops, Object Oriented Programming, Objects, Operator, Polymorphism, Recursion, Sorting, Strings\\n\\tCOURSE: CS270\\n\\t\\tCS270 SKILLS: Activation Records, Arithmetic Logic Unit, Assembly, Bitwise Operators, C, C++, Circuits, Computer Architecture, Datatype Conversion, Digital Logic, Dynamic Memory Management, Gates, Global Variables, Instruction Set Architectures, Lc3, Logism, Memory Management, Number Formats, Point, Registers, Stack, State Machine, Subroutines, Transistors\\n\\tCOURSE: CS345\\n\\t\\tCS345 SKILLS: Anaconda, Characterizing Data, Classifier Accuracy, Classifying Data, Conduct Experiments, Convolutional Neural Networks, Cross-Validation, Data Manipulation, Data Representation, Data Visualization, Decision Trees, Derivatives, Dot Products, Ensemble Methods, Experimental Design, Experimental Development, Function Regression, Gradient Descent, Hyperparameters, Hyperplanes, Jupyter Notebook, Keras, Kernels, Linear Regression, Machine Learning, Machine Learning Algorithms, Matplotlib, Matrices, Multiclass Classification, Multivariate Linear Regression, Nearest Neighbors, Neural Networks, Numpy, Overfitting, Pandas, Partial Derivatives, Perceptron, Principle Components Analysis, Python, Regularization, Scikit-Learn, Support Vector Machine, Tensorflow, Validation Sets\\n\\tCOURSE: CS250\\n\\t\\tCS250 SKILLS: Assembly, B+ Trees, Bits, Boolean Algebra, Boolean Logic, Border Gateway Protocol, Cache, Computer Architecture, Data Structures, Data Structures For Storage Sys, Databases, Datatypes, Distributed Systems, Domain Name System, File Systems, Frameworks, Graphic Processing Unit, Harvard Architectue, Internet Protocol, Logged Structure Merge, Logic Design, Machine Language, Main Memory, Memory Efficientcy, Memory Hierarchy, Memory Management, Nand Gates, Networks, Neuromorphic Computing, Numeric Datatypes, Parallel Systems, Parallelization, Processors, Registers, Signed Unsigned Numbers, Sorted Strings Tables, Storage, Transmission Control Protocol, User Datagram Protocol\\n\\tCOURSE: CS320\\n\\t\\tCS320 SKILLS: Bipartite Graph, Breadth First, Depth First, Dictionaries, Divide & Conquer, Dynamic Multi-Threading, Dynamic Programming, Graph Algorithm, Greedy Algorithms, Greedy Proofs, Heaps, Heapsort, Knapsack, Line Of Sight Algorithm, Master Theorem, Memoization, Memory-Efficient Knapsack, Minimum Spanning Tree, Non-Deterministic Polynomial Cl, Non-Deterministic Polynomial Co, Orders Of Magnitude, Parallel Algorithms, Parallel Scans, Polynomial Class, Polynomial Time Reduction, Prefix Sums, Python, Recursive Substructure, Shortest Paths, Topological Sort, Tree Algorithm\\n\\tCOURSE: CS464\\n\\t\\tCS464 SKILLS: Experimental Design, Human Centered Interaction Foun, Human Computer Interaction, Human Computer Interaction Rese, Human Factors, Hypothesis Testing, Interaction Design Principles, Latex, Perception, Principles Of User Experience, Principles Of User Usability, Prototyping, Publishing Research Paper, Qualitiative Analysis, Scientific Foundations, User Centered Interaction Desig, Writing Research Paper\\n\\tCOURSE: CS440\\n\\t\\tCS440 SKILLS: Analyse Implications Of Ai, Apply Ai To Real-World Problems, Conceptual Frameworks, Deep Learning, Designing, Training, & Evaluati, Ethical And Societal Implicatio, Fundamental Principles Of Ai, Knowledge Representation, Machine Learning Technique, Neural Networks, Practical Aspects Of Artificial, Probabilistic Models, Reasoning, Scikit-Learn, Search Algorithms, Software Artifacs, Software Process Evaluation, Software Process Improvement, Software Processes, Software Product Evaluation, Software Product Improvement, Supervised Learning, Symbolic Reasoning, Tensorflow, Theoretical Aspects Of Artifici\\n\\tCOURSE: CS458\\n\\t\\tCS458 SKILLS: Blockchain, Consensus Protocols, Cryptocurrency, Cryptographic Algorithms, Decent, Decentralized Exchanges (Uniswa, Distributed Application, Ethereum Virtual Machine, Fault Tolerance, Hyperledger, Iota, Mining Algorithms, Mining Game Theory, Naivechain, Naivecoin, Network Models, Oracles, Proof Of Importance, Proof Of Stake, Proof Of Work, Rchain, React, Smart Contracts, Solidity, Sybil Resistance\\n\\tCOURSE: CS456\\n\\t\\tCS456 SKILLS: Anonymity, Art Of Invisibility, Attack Surfaces, Computer Log Scanners, Crypto Key Management, Cyber Kill Chain, Cyber Security, Cyber Security Threats, Cyber Security Vulnerabilities, Cyber Threat Intelligence, Cyber-Physical Security, Data Science, Differential Privacy, Dns Over Https, Dns Over Tls, Dns Privacy, Elliptic Curve Crypto, End-To-End Encryption, Homomorphoc Encryption, Https, Incident Response, Log Analysis, Malware Analysis, Malware Detection Using Ml, Malware Relationship Analysis, Owasp, Privacy, Privacy By Design, Privacy Engineering, Privacy Enhancing Technologies, Protecting Digital Data, Protecting Sensitive Data, Quantum Computing, Quantum Cryptography, Securing Data At Rest, Securing Data In Motion, Securing Data-In-Use, Security Testing, Siem Systems, Signal Protocol, Socks, Tls, Vpn, Zero-Knowledge Proofs, Zero-Trust, Zero-Trust Security\\n\\tCOURSE: CS414\\n\\t\\tCS414 SKILLS: Architechure Design, Backlogs Refinement, Code Idioms, Code Styles, Cohesion, Conceptual Modeling, Coupling, Crc Modeling, Design Modeling, Design Models, Design Patterns, Domain Modeling, Gather Requirements, Inheritance, Interfaces, Object Oriented Analysis, Object Oriented Design, Object Oriented Principles, Problem Analysis, Refactoring, Requirement Breakdown, Requirements Engineering, Retroactives, Software Engineering Ethics, Software Process Models, Story Mapping, Team Development Experience, Team Interaction, Team Project, Test Driven Development\\n\\tCOURSE: CS457\\n\\t\\tCS457 SKILLS: Arp, Arp Addresses, Bgp, Circuit Switching, Congestion Control, Connected-Oriented Transport, Connectionless Transport, Content Distribution Networks, Cryptography, Data Center Networking, Demultiplexing, Digital Signatures, Distance-Vector, Dns, End-Point Authentication, Error-Corrections, Error-Detection, Ethernet Protocol, Forwarding, Http, Interdomain Routing, Internetworking, Intra-As Routing, Ip Networking Stack, Ip-Anycast, Ipv6, Link Layer Access Control, Link Virtualization, Linked-State, Mac Addresses, Message Integrity, Middleboxes, Multiple Access Links Protocol, Multiplexing, Nat, Netowrk Nfv, Network Application Protocols, Network Architecture, Network Delay, Network Layer Control Plane, Network Layers, Network Loss, Network Sdn, Network Security, Network Throughput, Ospf, P2P File Distribution, Packet Switching, Pv4, Reliable Data Transfer, Routing, Routing Algorithms, Routing Policy, Service Models, Smtp, Socket Programming, Software Defined Networking, Switched Ethernet Mpls, Switched Local Area Networks, Switches, Tcp, Transport Layer Services\\n\\tCOURSE: CS415\\n\\t\\tCS415 SKILLS: Automatic Test Generation, Control Flow Graphs, Data Flow Criteria, Dbconnector, Fitnesse, Fuzz Testing, Gamification Of Learning, Graph Coverage Criteria, Graph Coverage For Specificatio, Graph Coverage For State Charts, Graph Coverage For Use Cases, Graph Fundamentals, Input Space Partitioning, Junit, Junit Parameterized Classes, Junit Theory, Mocking Concepts, Mockito, Mutation Analysis, Regression Testing, Restcontroller, Selenium, Static Analysis\\n\\tCOURSE: CS475\\n\\t\\tCS475 SKILLS: Compiling Programs On Clusters, Cuda, Mpi, Openmp, Parallel Program Analysis, Parallel Program Debugging, Parallel Program Design, Parallel Programming\\n\\tCOURSE: CS110 - Modules\\n\\t\\tCS110 - Modules SKILLS: Computer Hardware, Computer Input, Computer Output, Computer Security, Computer Software, Computer Storage, Data Analytics, Databases, Digital Identity, Excel, File Management, Mac Os, Mobile Devices, Networking And Connecting To Th, Social Media, Spreadsheets\\n\\tCOURSE: CS164\\n\\t\\tCS164 SKILLS: 2D Arrays, Abstract Classes, Algorithms, Arraylists, Arrays, Branching, Classes, Code Comprehention, Code Design, Code Reading Analysis, Conditionals, Datatypes, Debugging, Exceptions, File Input, File Output, Git, Github, Ide, Intellij, Interfaces, Java, Java Development Environment, Javadoc, Linux, Logical Operators, Loops, Methods, Obects, Object Oriented Programming, Polymorphism, Problem Solving, Putty, Quality Assurance, Recursion, Searching, Sorting, Ssh, String Manipulation, Strings, Testing, Uml, Version Control, VS Code, Windows\\n\\tCOURSE: CS152\\n\\t\\tCS152 SKILLS: Algorithms, Data Analysis, Data Visualization, Functions, I O File, Libraries, Logic, Problem Solving\\n\\tCOURSE: CS220\\n\\t\\tCS220 SKILLS: Anaconda, Big O, Combinations, Counting, Directed Graphs, Functions, Graph, Induction Proof, Jupyter Notebook, Logical Inference, Loop Invariants, Mathematical Proof, Matplotlib, Miniconda, Permutations, Predicate Logic, Propositional Logic, Python, Relations, Sets\\n\\tCOURSE: CS430\\n\\t\\tCS430 SKILLS: Application Development, Concurrency, Create, Manage, And Optimize Da, Creating Database, Data Modeling, Database Design, Database Guis, Database Recovery, Database Security, Database Systems, E R Diagram, Hash Table, Indexing, Locking, Migrating Databases, Mysql, Normalization, Queries, Query Processing, Relational Algebra, Robust Implementation Of Databa, Sql, Storage Management, Transaction Management, Transactions, Updating Databases\\n\\tCOURSE: CS214\\n\\t\\tCS214 SKILLS: Agile, Artifact Management, Code Coverage, Coding Standards, Debugging, Documentation, Functional Programming, Git, Individual Software Development, Java, Junit Testing, Memory Efficientcy, Project Management, Project Planning, Refactoring, Software Design, Software Engineering Process, Software Implementation, Software Maintenance, Software Testing, Test Driven Development, Time Efficiency\\n\\tCOURSE: CS312\\n\\t\\tCS312 SKILLS: Asychronous, Cascading Style Sheets, Databases, Full-Stack Development, Hypertext Markup Language, Javascript, Microservices, Rest Api, Service-Based Architecture, Usability Assessment And Enhanc, User Account Creation, Ux Design, Web Applications\\n\\tCOURSE: CS445\\n\\t\\tCS445 SKILLS: Classification, Deep Learning, Jupyter Notebook, Multivariable Data, Pattern Classification Algorith, Prediction, Python, Regression Algorithms, Reinforcement Learning Algorith, Scientific Reports, Statistical Analyses, Visualization\\n\\tCOURSE: CS356\\n\\t\\tCS356 SKILLS: Access Control, Buffer Overflow Attacks, Cryptographic Tools, Database Security, Defensive Programming Technique, Denial Of Service Attacks, Ethical Hacking Experiments, Hacking Demos, Internet Authentication, Intrusion Detection, Malicious Software, Prevention Systems, User Authentication\\n\\tCOURSE: CS470\\n\\t\\tCS470 SKILLS: Assembly, C Language, Digital Gates, Instruction Set Architectures\\n\", 'answer': 'You are missing the following skills required by the postion: Ruby, Angular, JavaScript, Analytical skills, Vue, Code Review, Feedback, Design, Strong communication skills, Maintaining software applications, Front-end frameworks, Collaboration, React.js, Code/API documentation, Planning, Problem Solving Skills, Customer needs, High performance, Development, Bug fixing, Knowledge sharing, Efficiency, DevOps, Reliability, Programming', 'label': 0.19354838709677424}\n",
      "(1738, 3)\n"
     ]
    },
    {
     "data": {
      "text/plain": [
       "144"
      ]
     },
     "execution_count": 9,
     "metadata": {},
     "output_type": "execute_result"
    }
   ],
   "source": [
    "# print(training_data[0])\n",
    "# td_df = pd.DataFrame(training_data, columns=['query', 'answer', 'label'])\n",
    "# print(td_df.shape)\n",
    "\n",
    "# td_df.to_csv('data/bert_training_data.csv', index=False)\n",
    "\n",
    "# del td_df, training_data, jobs_df, courses_df\n",
    "# gc.collect()\n"
   ]
  },
  {
   "cell_type": "code",
   "execution_count": 10,
   "metadata": {},
   "outputs": [
    {
     "name": "stdout",
     "output_type": "stream",
     "text": [
      "['query', 'answer', 'label']\n",
      "(1739, 3)\n"
     ]
    },
    {
     "data": {
      "text/html": [
       "<div>\n",
       "<style scoped>\n",
       "    .dataframe tbody tr th:only-of-type {\n",
       "        vertical-align: middle;\n",
       "    }\n",
       "\n",
       "    .dataframe tbody tr th {\n",
       "        vertical-align: top;\n",
       "    }\n",
       "\n",
       "    .dataframe thead th {\n",
       "        text-align: right;\n",
       "    }\n",
       "</style>\n",
       "<table border=\"1\" class=\"dataframe\">\n",
       "  <thead>\n",
       "    <tr style=\"text-align: right;\">\n",
       "      <th></th>\n",
       "      <th>query</th>\n",
       "      <th>answer</th>\n",
       "      <th>label</th>\n",
       "    </tr>\n",
       "  </thead>\n",
       "  <tbody>\n",
       "    <tr>\n",
       "      <th>0</th>\n",
       "      <td>query</td>\n",
       "      <td>answer</td>\n",
       "      <td>label</td>\n",
       "    </tr>\n",
       "    <tr>\n",
       "      <th>1</th>\n",
       "      <td>What skills am I lacking for the following job...</td>\n",
       "      <td>You are missing the following skills required ...</td>\n",
       "      <td>0.19354838709677424</td>\n",
       "    </tr>\n",
       "    <tr>\n",
       "      <th>2</th>\n",
       "      <td>What skills am I lacking for the following job...</td>\n",
       "      <td>You are missing the following skills required ...</td>\n",
       "      <td>0.0714285714285714</td>\n",
       "    </tr>\n",
       "    <tr>\n",
       "      <th>3</th>\n",
       "      <td>What skills am I lacking for the following job...</td>\n",
       "      <td>You are missing the following skills required ...</td>\n",
       "      <td>0.33333333333333337</td>\n",
       "    </tr>\n",
       "    <tr>\n",
       "      <th>4</th>\n",
       "      <td>What skills am I lacking for the following job...</td>\n",
       "      <td>You are missing the following skills required ...</td>\n",
       "      <td>0.15000000000000002</td>\n",
       "    </tr>\n",
       "    <tr>\n",
       "      <th>...</th>\n",
       "      <td>...</td>\n",
       "      <td>...</td>\n",
       "      <td>...</td>\n",
       "    </tr>\n",
       "    <tr>\n",
       "      <th>1734</th>\n",
       "      <td>What skills am I lacking for the following job...</td>\n",
       "      <td>You are missing the following skills required ...</td>\n",
       "      <td>0.13157894736842102</td>\n",
       "    </tr>\n",
       "    <tr>\n",
       "      <th>1735</th>\n",
       "      <td>What skills am I lacking for the following job...</td>\n",
       "      <td>You are missing the following skills required ...</td>\n",
       "      <td>0.1578947368421053</td>\n",
       "    </tr>\n",
       "    <tr>\n",
       "      <th>1736</th>\n",
       "      <td>What skills am I lacking for the following job...</td>\n",
       "      <td>You are missing the following skills required ...</td>\n",
       "      <td>0.1578947368421053</td>\n",
       "    </tr>\n",
       "    <tr>\n",
       "      <th>1737</th>\n",
       "      <td>What skills am I lacking for the following job...</td>\n",
       "      <td>You are missing the following skills required ...</td>\n",
       "      <td>0.13157894736842102</td>\n",
       "    </tr>\n",
       "    <tr>\n",
       "      <th>1738</th>\n",
       "      <td>What skills am I lacking for the following job...</td>\n",
       "      <td>You are missing the following skills required ...</td>\n",
       "      <td>0.13157894736842102</td>\n",
       "    </tr>\n",
       "  </tbody>\n",
       "</table>\n",
       "<p>1739 rows × 3 columns</p>\n",
       "</div>"
      ],
      "text/plain": [
       "                                                  query  \\\n",
       "0                                                 query   \n",
       "1     What skills am I lacking for the following job...   \n",
       "2     What skills am I lacking for the following job...   \n",
       "3     What skills am I lacking for the following job...   \n",
       "4     What skills am I lacking for the following job...   \n",
       "...                                                 ...   \n",
       "1734  What skills am I lacking for the following job...   \n",
       "1735  What skills am I lacking for the following job...   \n",
       "1736  What skills am I lacking for the following job...   \n",
       "1737  What skills am I lacking for the following job...   \n",
       "1738  What skills am I lacking for the following job...   \n",
       "\n",
       "                                                 answer                label  \n",
       "0                                                answer                label  \n",
       "1     You are missing the following skills required ...  0.19354838709677424  \n",
       "2     You are missing the following skills required ...   0.0714285714285714  \n",
       "3     You are missing the following skills required ...  0.33333333333333337  \n",
       "4     You are missing the following skills required ...  0.15000000000000002  \n",
       "...                                                 ...                  ...  \n",
       "1734  You are missing the following skills required ...  0.13157894736842102  \n",
       "1735  You are missing the following skills required ...   0.1578947368421053  \n",
       "1736  You are missing the following skills required ...   0.1578947368421053  \n",
       "1737  You are missing the following skills required ...  0.13157894736842102  \n",
       "1738  You are missing the following skills required ...  0.13157894736842102  \n",
       "\n",
       "[1739 rows x 3 columns]"
      ]
     },
     "execution_count": 10,
     "metadata": {},
     "output_type": "execute_result"
    }
   ],
   "source": [
    "with open ('data/bert_training_data.csv', 'r') as t_data:\n",
    "    csv_reader = csv.reader(t_data) \n",
    "    training_data = list(csv_reader)\n",
    "\n",
    "print(training_data[0])\n",
    "td_df = pd.DataFrame(training_data, columns=['query', 'answer', 'label'])\n",
    "print(td_df.shape)\n",
    "td_df"
   ]
  },
  {
   "cell_type": "code",
   "execution_count": 11,
   "metadata": {},
   "outputs": [],
   "source": [
    "def prepare_datasets(td_df):\n",
    "    td_df = td_df.copy()\n",
    "    \n",
    "    td_df.loc[:, 'label'] = pd.to_numeric(td_df['label'], errors='coerce')\n",
    "    \n",
    "    td_df = td_df.dropna(subset=['label'])\n",
    "    \n",
    "    td_df.loc[:, 'query'] = td_df['query'].astype(str)\n",
    "    td_df.loc[:, 'answer'] = td_df['answer'].astype(str)\n",
    "    \n",
    "    train_df, temp_df = train_test_split(td_df, test_size=0.4, random_state=42)\n",
    "    val_df, test_df = train_test_split(temp_df, test_size=0.5, random_state=42)\n",
    "    \n",
    "    def create_dataset(df):\n",
    "        return [\n",
    "            {\n",
    "                'query': str(row['query']),\n",
    "                'answer': str(row['answer']),\n",
    "                'label': float(row['label'])\n",
    "            }\n",
    "            for _, row in df.iterrows()\n",
    "        ]\n",
    "    \n",
    "    return {\n",
    "        'train': create_dataset(train_df),\n",
    "        'val': create_dataset(val_df),\n",
    "        'test': create_dataset(test_df)\n",
    "    }\n"
   ]
  },
  {
   "cell_type": "code",
   "execution_count": 12,
   "metadata": {},
   "outputs": [],
   "source": [
    "def compute_metrics(labels, preds):\n",
    "    \"\"\"Proper metrics for continuous similarity scores\"\"\"\n",
    "    return {\n",
    "        'mse': mean_squared_error(labels, preds),\n",
    "        'mae': mean_absolute_error(labels, preds),\n",
    "        'r2': r2_score(labels, preds),\n",
    "        'pearson_r': pearsonr(labels, preds)[0],\n",
    "        'spearman_rho': spearmanr(labels, preds)[0],\n",
    "    }"
   ]
  },
  {
   "cell_type": "code",
   "execution_count": 13,
   "metadata": {},
   "outputs": [
    {
     "name": "stderr",
     "output_type": "stream",
     "text": [
      "\u001b[34m\u001b[1mwandb\u001b[0m: Using wandb-core as the SDK backend.  Please refer to https://wandb.me/wandb-core for more information.\n",
      "\u001b[34m\u001b[1mwandb\u001b[0m: \u001b[33mWARNING\u001b[0m If you're specifying your api key in code, ensure this code is not shared publicly.\n",
      "\u001b[34m\u001b[1mwandb\u001b[0m: \u001b[33mWARNING\u001b[0m Consider setting the WANDB_API_KEY environment variable, or running `wandb login` from the command line.\n",
      "\u001b[34m\u001b[1mwandb\u001b[0m: Appending key for api.wandb.ai to your netrc file: C:\\Users\\ayoun\\_netrc\n",
      "\u001b[34m\u001b[1mwandb\u001b[0m: Currently logged in as: \u001b[33mayoungren94\u001b[0m (\u001b[33mayoungren-colostate\u001b[0m) to \u001b[32mhttps://api.wandb.ai\u001b[0m. Use \u001b[1m`wandb login --relogin`\u001b[0m to force relogin\n"
     ]
    },
    {
     "name": "stdout",
     "output_type": "stream",
     "text": [
      "Using device: cuda\n"
     ]
    }
   ],
   "source": [
    "key_file = rf'D:\\Development\\cs580\\CSU-Industry-Skills\\WANDB_API_KEY.txt' \n",
    "\n",
    "with open(key_file, \"r\") as f:\n",
    "    api_key = f.read().strip()\n",
    "\n",
    "wandb.login(key=api_key)\n",
    "\n",
    "MODEL_NAME = 'sentence-transformers/all-MiniLM-L6-v2'\n",
    "EARLY_STOPPING_PATIENCE = 5\n",
    "MIN_DELTA = 0.005\n",
    "\n",
    "device = torch.device(\"cuda\" if torch.cuda.is_available() else \"cpu\")\n",
    "torch.backends.cudnn.benchmark = True\n",
    "print(f\"Using device: {device}\")"
   ]
  },
  {
   "cell_type": "code",
   "execution_count": 14,
   "metadata": {},
   "outputs": [],
   "source": [
    "def train_and_evaluate(config, datasets):\n",
    "    best_val_metric = -1 \n",
    "    patience = 0\n",
    "    best_state = None\n",
    "    arch_name = f\"lr_{config['lr']}_bs_{config['batch_size']}\"\n",
    "    wandb.init(\n",
    "        entity=\"ayoungren-colostate\",\n",
    "        project=\"sbert-param-search\",\n",
    "        name=arch_name,\n",
    "        config=config,\n",
    "        reinit=True\n",
    "    )\n",
    "\n",
    "    device = torch.device(\"cuda\" if torch.cuda.is_available() else \"cpu\")\n",
    "    model = SentenceTransformer(MODEL_NAME).to(device)\n",
    "    optimizer = torch.optim.AdamW(\n",
    "        model.parameters(),\n",
    "        lr=config['lr'],\n",
    "        weight_decay=config['weight_decay']\n",
    "    )\n",
    "\n",
    "    print(f'Starting Training for {arch_name}')\n",
    "\n",
    "    for epoch in range(1, 101):\n",
    "        print(f\"Beginning Epoch {epoch}\")\n",
    "        model.train()\n",
    "        epoch_loss = 0\n",
    "        all_train_preds = []\n",
    "        all_train_labels = []\n",
    "        \n",
    "        random.shuffle(datasets['train'])\n",
    "        \n",
    "        for i in range(0, len(datasets['train']), config['batch_size']):\n",
    "            batch = datasets['train'][i:i+config['batch_size']]\n",
    "            \n",
    "            queries = [item['query'] for item in batch]\n",
    "            answers = [item['answer'] for item in batch]\n",
    "            labels = torch.tensor([item['label'] for item in batch], \n",
    "                                dtype=torch.float).to(device)\n",
    "\n",
    "            tokenizer = model.tokenizer\n",
    "            query_inputs = tokenizer(queries, padding=True, truncation=True, \n",
    "                                   return_tensors='pt').to(device)\n",
    "            answer_inputs = tokenizer(answers, padding=True, truncation=True,\n",
    "                                    return_tensors='pt').to(device)\n",
    "            \n",
    "            query_features = model(query_inputs)['sentence_embedding']\n",
    "            answer_features = model(answer_inputs)['sentence_embedding']\n",
    "\n",
    "            cos_sim = torch.nn.functional.cosine_similarity(query_features, answer_features)\n",
    "\n",
    "            loss = torch.nn.functional.mse_loss(cos_sim, labels)\n",
    "            \n",
    "            optimizer.zero_grad()\n",
    "            loss.backward()\n",
    "            optimizer.step()\n",
    "            \n",
    "            epoch_loss += loss.item()\n",
    "            all_train_preds.extend(cos_sim.detach().cpu().numpy())\n",
    "            all_train_labels.extend(labels.cpu().numpy())\n",
    "            \n",
    "            torch.cuda.empty_cache()\n",
    "\n",
    "        model.eval()\n",
    "        val_preds, val_labels = [], []\n",
    "        with torch.no_grad():\n",
    "            for i in range(0, len(datasets['val']), 32):\n",
    "                batch = datasets['val'][i:i+32]\n",
    "                queries = [item['query'] for item in batch]\n",
    "                answers = [item['answer'] for item in batch]\n",
    "                labels = torch.tensor([item['label'] for item in batch], \n",
    "                                    dtype=torch.float).to(device)\n",
    "                \n",
    "                query_emb = model.encode(queries, convert_to_tensor=True, show_progress_bar=False)\n",
    "                answer_emb = model.encode(answers, convert_to_tensor=True, show_progress_bar=False)\n",
    "                cos_sim = torch.nn.functional.cosine_similarity(query_emb, answer_emb)\n",
    "                \n",
    "                val_preds.extend(cos_sim.cpu().numpy())\n",
    "                val_labels.extend(labels.cpu().numpy())\n",
    "\n",
    "        train_metrics = compute_metrics(all_train_labels, all_train_preds)\n",
    "        val_metrics = compute_metrics(val_labels, val_preds)\n",
    "        \n",
    "        wandb.log({\n",
    "            'epoch': epoch,\n",
    "            'train_loss': epoch_loss / len(datasets['train']),\n",
    "            'train_mse': train_metrics['mse'],\n",
    "            'train_mae': train_metrics['mae'],\n",
    "            'train_r2': train_metrics['r2'],\n",
    "            'train_pearson_r': train_metrics['pearson_r'],\n",
    "            'train_spearman_rho': train_metrics['spearman_rho'],\n",
    "            'val_mse': val_metrics['mse'],\n",
    "            'val_mae': val_metrics['mae'],\n",
    "            'val_r2': val_metrics['r2'],\n",
    "            'val_pearson_r': val_metrics['pearson_r'],\n",
    "            'val_spearman_rho': val_metrics['spearman_rho'],\n",
    "            'learning_rate': optimizer.param_groups[0]['lr']\n",
    "        })\n",
    "\n",
    "        if val_metrics['pearson_r'] > best_val_metric + MIN_DELTA:\n",
    "            best_val_metric = val_metrics['pearson_r']\n",
    "            patience = 0\n",
    "            best_state = model.state_dict()\n",
    "        else:\n",
    "            patience += 1\n",
    "            if patience >= EARLY_STOPPING_PATIENCE:\n",
    "                print(f\"Early stopping at epoch {epoch}\")\n",
    "                break\n",
    "    \n",
    "    wandb.finish()\n",
    "    return best_val_metric, best_state"
   ]
  },
  {
   "cell_type": "code",
   "execution_count": null,
   "metadata": {},
   "outputs": [
    {
     "data": {
      "text/html": [
       "Tracking run with wandb version 0.19.8"
      ],
      "text/plain": [
       "<IPython.core.display.HTML object>"
      ]
     },
     "metadata": {},
     "output_type": "display_data"
    },
    {
     "data": {
      "text/html": [
       "Run data is saved locally in <code>d:\\Development\\cs580\\CSU-Industry-Skills\\bert-model\\wandb\\run-20250403_201425-9vuig9ji</code>"
      ],
      "text/plain": [
       "<IPython.core.display.HTML object>"
      ]
     },
     "metadata": {},
     "output_type": "display_data"
    },
    {
     "data": {
      "text/html": [
       "Syncing run <strong><a href='https://wandb.ai/ayoungren-colostate/sbert-param-search/runs/9vuig9ji' target=\"_blank\">lr_2e-05_bs_16</a></strong> to <a href='https://wandb.ai/ayoungren-colostate/sbert-param-search' target=\"_blank\">Weights & Biases</a> (<a href='https://wandb.me/developer-guide' target=\"_blank\">docs</a>)<br>"
      ],
      "text/plain": [
       "<IPython.core.display.HTML object>"
      ]
     },
     "metadata": {},
     "output_type": "display_data"
    },
    {
     "data": {
      "text/html": [
       " View project at <a href='https://wandb.ai/ayoungren-colostate/sbert-param-search' target=\"_blank\">https://wandb.ai/ayoungren-colostate/sbert-param-search</a>"
      ],
      "text/plain": [
       "<IPython.core.display.HTML object>"
      ]
     },
     "metadata": {},
     "output_type": "display_data"
    },
    {
     "data": {
      "text/html": [
       " View run at <a href='https://wandb.ai/ayoungren-colostate/sbert-param-search/runs/9vuig9ji' target=\"_blank\">https://wandb.ai/ayoungren-colostate/sbert-param-search/runs/9vuig9ji</a>"
      ],
      "text/plain": [
       "<IPython.core.display.HTML object>"
      ]
     },
     "metadata": {},
     "output_type": "display_data"
    },
    {
     "name": "stdout",
     "output_type": "stream",
     "text": [
      "Starting Training for lr_2e-05_bs_16\n",
      "Beginning Epoch 1\n",
      "Beginning Epoch 2\n",
      "Beginning Epoch 3\n",
      "Beginning Epoch 4\n",
      "Beginning Epoch 5\n",
      "Beginning Epoch 6\n",
      "Beginning Epoch 7\n",
      "Beginning Epoch 8\n",
      "Beginning Epoch 9\n",
      "Beginning Epoch 10\n",
      "Beginning Epoch 11\n",
      "Beginning Epoch 12\n",
      "Beginning Epoch 13\n",
      "Beginning Epoch 14\n",
      "Beginning Epoch 15\n",
      "Beginning Epoch 16\n",
      "Early stopping at epoch 16\n"
     ]
    },
    {
     "data": {
      "text/html": [],
      "text/plain": [
       "<IPython.core.display.HTML object>"
      ]
     },
     "metadata": {},
     "output_type": "display_data"
    },
    {
     "data": {
      "text/html": [
       "<br>    <style><br>        .wandb-row {<br>            display: flex;<br>            flex-direction: row;<br>            flex-wrap: wrap;<br>            justify-content: flex-start;<br>            width: 100%;<br>        }<br>        .wandb-col {<br>            display: flex;<br>            flex-direction: column;<br>            flex-basis: 100%;<br>            flex: 1;<br>            padding: 10px;<br>        }<br>    </style><br><div class=\"wandb-row\"><div class=\"wandb-col\"><h3>Run history:</h3><br/><table class=\"wandb\"><tr><td>epoch</td><td>▁▁▂▂▃▃▄▄▅▅▆▆▇▇██</td></tr><tr><td>learning_rate</td><td>▁▁▁▁▁▁▁▁▁▁▁▁▁▁▁▁</td></tr><tr><td>train_loss</td><td>█▂▂▁▁▁▁▁▁▁▁▁▁▁▁▁</td></tr><tr><td>train_mae</td><td>█▃▃▂▂▂▂▂▁▁▁▁▁▁▁▁</td></tr><tr><td>train_mse</td><td>█▂▂▁▁▁▁▁▁▁▁▁▁▁▁▁</td></tr><tr><td>train_pearson_r</td><td>▁▇▇█████████████</td></tr><tr><td>train_r2</td><td>▁▇▇█████████████</td></tr><tr><td>train_spearman_rho</td><td>▁▇▇█████████████</td></tr><tr><td>val_mae</td><td>█▃▂▂▂▂▂▁▁▁▂▃▁▃▂▂</td></tr><tr><td>val_mse</td><td>█▂▁▂▂▁▁▁▁▁▂▂▁▂▂▁</td></tr><tr><td>val_pearson_r</td><td>▁▆▇▇▇▇██████████</td></tr><tr><td>val_r2</td><td>▁▇█▇▇█████▇▇█▇▇█</td></tr><tr><td>val_spearman_rho</td><td>▁▆▇▇▇▇██████████</td></tr></table><br/></div><div class=\"wandb-col\"><h3>Run summary:</h3><br/><table class=\"wandb\"><tr><td>epoch</td><td>16</td></tr><tr><td>learning_rate</td><td>2e-05</td></tr><tr><td>train_loss</td><td>2e-05</td></tr><tr><td>train_mae</td><td>0.01512</td></tr><tr><td>train_mse</td><td>0.00037</td></tr><tr><td>train_pearson_r</td><td>0.98076</td></tr><tr><td>train_r2</td><td>0.96173</td></tr><tr><td>train_spearman_rho</td><td>0.97679</td></tr><tr><td>val_mae</td><td>0.02056</td></tr><tr><td>val_mse</td><td>0.00065</td></tr><tr><td>val_pearson_r</td><td>0.98337</td></tr><tr><td>val_r2</td><td>0.92626</td></tr><tr><td>val_spearman_rho</td><td>0.98434</td></tr></table><br/></div></div>"
      ],
      "text/plain": [
       "<IPython.core.display.HTML object>"
      ]
     },
     "metadata": {},
     "output_type": "display_data"
    },
    {
     "data": {
      "text/html": [
       " View run <strong style=\"color:#cdcd00\">lr_2e-05_bs_16</strong> at: <a href='https://wandb.ai/ayoungren-colostate/sbert-param-search/runs/9vuig9ji' target=\"_blank\">https://wandb.ai/ayoungren-colostate/sbert-param-search/runs/9vuig9ji</a><br> View project at: <a href='https://wandb.ai/ayoungren-colostate/sbert-param-search' target=\"_blank\">https://wandb.ai/ayoungren-colostate/sbert-param-search</a><br>Synced 5 W&B file(s), 0 media file(s), 0 artifact file(s) and 0 other file(s)"
      ],
      "text/plain": [
       "<IPython.core.display.HTML object>"
      ]
     },
     "metadata": {},
     "output_type": "display_data"
    },
    {
     "data": {
      "text/html": [
       "Find logs at: <code>.\\wandb\\run-20250403_201425-9vuig9ji\\logs</code>"
      ],
      "text/plain": [
       "<IPython.core.display.HTML object>"
      ]
     },
     "metadata": {},
     "output_type": "display_data"
    },
    {
     "data": {
      "text/html": [
       "Tracking run with wandb version 0.19.8"
      ],
      "text/plain": [
       "<IPython.core.display.HTML object>"
      ]
     },
     "metadata": {},
     "output_type": "display_data"
    },
    {
     "data": {
      "text/html": [
       "Run data is saved locally in <code>d:\\Development\\cs580\\CSU-Industry-Skills\\bert-model\\wandb\\run-20250403_201628-bwd9yhkt</code>"
      ],
      "text/plain": [
       "<IPython.core.display.HTML object>"
      ]
     },
     "metadata": {},
     "output_type": "display_data"
    },
    {
     "data": {
      "text/html": [
       "Syncing run <strong><a href='https://wandb.ai/ayoungren-colostate/sbert-param-search/runs/bwd9yhkt' target=\"_blank\">lr_3e-05_bs_16</a></strong> to <a href='https://wandb.ai/ayoungren-colostate/sbert-param-search' target=\"_blank\">Weights & Biases</a> (<a href='https://wandb.me/developer-guide' target=\"_blank\">docs</a>)<br>"
      ],
      "text/plain": [
       "<IPython.core.display.HTML object>"
      ]
     },
     "metadata": {},
     "output_type": "display_data"
    },
    {
     "data": {
      "text/html": [
       " View project at <a href='https://wandb.ai/ayoungren-colostate/sbert-param-search' target=\"_blank\">https://wandb.ai/ayoungren-colostate/sbert-param-search</a>"
      ],
      "text/plain": [
       "<IPython.core.display.HTML object>"
      ]
     },
     "metadata": {},
     "output_type": "display_data"
    },
    {
     "data": {
      "text/html": [
       " View run at <a href='https://wandb.ai/ayoungren-colostate/sbert-param-search/runs/bwd9yhkt' target=\"_blank\">https://wandb.ai/ayoungren-colostate/sbert-param-search/runs/bwd9yhkt</a>"
      ],
      "text/plain": [
       "<IPython.core.display.HTML object>"
      ]
     },
     "metadata": {},
     "output_type": "display_data"
    },
    {
     "name": "stdout",
     "output_type": "stream",
     "text": [
      "Starting Training for lr_3e-05_bs_16\n",
      "Beginning Epoch 1\n",
      "Beginning Epoch 2\n",
      "Beginning Epoch 3\n",
      "Beginning Epoch 4\n",
      "Beginning Epoch 5\n",
      "Beginning Epoch 6\n",
      "Beginning Epoch 7\n",
      "Beginning Epoch 8\n",
      "Beginning Epoch 9\n",
      "Early stopping at epoch 9\n"
     ]
    },
    {
     "data": {
      "text/html": [],
      "text/plain": [
       "<IPython.core.display.HTML object>"
      ]
     },
     "metadata": {},
     "output_type": "display_data"
    },
    {
     "data": {
      "text/html": [
       "<br>    <style><br>        .wandb-row {<br>            display: flex;<br>            flex-direction: row;<br>            flex-wrap: wrap;<br>            justify-content: flex-start;<br>            width: 100%;<br>        }<br>        .wandb-col {<br>            display: flex;<br>            flex-direction: column;<br>            flex-basis: 100%;<br>            flex: 1;<br>            padding: 10px;<br>        }<br>    </style><br><div class=\"wandb-row\"><div class=\"wandb-col\"><h3>Run history:</h3><br/><table class=\"wandb\"><tr><td>epoch</td><td>▁▂▃▄▅▅▆▇█</td></tr><tr><td>learning_rate</td><td>▁▁▁▁▁▁▁▁▁</td></tr><tr><td>train_loss</td><td>█▂▁▁▁▁▁▁▁</td></tr><tr><td>train_mae</td><td>█▃▂▂▂▁▁▁▁</td></tr><tr><td>train_mse</td><td>█▂▁▁▁▁▁▁▁</td></tr><tr><td>train_pearson_r</td><td>▁▇███████</td></tr><tr><td>train_r2</td><td>▁▇███████</td></tr><tr><td>train_spearman_rho</td><td>▁▆▇█▇████</td></tr><tr><td>val_mae</td><td>█▄▂▃▁▂▂▁▁</td></tr><tr><td>val_mse</td><td>█▃▁▂▁▁▁▁▁</td></tr><tr><td>val_pearson_r</td><td>▁▇▇██████</td></tr><tr><td>val_r2</td><td>▁▆█▇█████</td></tr><tr><td>val_spearman_rho</td><td>▁▆▇▇█████</td></tr></table><br/></div><div class=\"wandb-col\"><h3>Run summary:</h3><br/><table class=\"wandb\"><tr><td>epoch</td><td>9</td></tr><tr><td>learning_rate</td><td>3e-05</td></tr><tr><td>train_loss</td><td>3e-05</td></tr><tr><td>train_mae</td><td>0.01726</td></tr><tr><td>train_mse</td><td>0.0005</td></tr><tr><td>train_pearson_r</td><td>0.97435</td></tr><tr><td>train_r2</td><td>0.94898</td></tr><tr><td>train_spearman_rho</td><td>0.971</td></tr><tr><td>val_mae</td><td>0.01287</td></tr><tr><td>val_mse</td><td>0.00037</td></tr><tr><td>val_pearson_r</td><td>0.98162</td></tr><tr><td>val_r2</td><td>0.95822</td></tr><tr><td>val_spearman_rho</td><td>0.98473</td></tr></table><br/></div></div>"
      ],
      "text/plain": [
       "<IPython.core.display.HTML object>"
      ]
     },
     "metadata": {},
     "output_type": "display_data"
    },
    {
     "data": {
      "text/html": [
       " View run <strong style=\"color:#cdcd00\">lr_3e-05_bs_16</strong> at: <a href='https://wandb.ai/ayoungren-colostate/sbert-param-search/runs/bwd9yhkt' target=\"_blank\">https://wandb.ai/ayoungren-colostate/sbert-param-search/runs/bwd9yhkt</a><br> View project at: <a href='https://wandb.ai/ayoungren-colostate/sbert-param-search' target=\"_blank\">https://wandb.ai/ayoungren-colostate/sbert-param-search</a><br>Synced 5 W&B file(s), 0 media file(s), 0 artifact file(s) and 0 other file(s)"
      ],
      "text/plain": [
       "<IPython.core.display.HTML object>"
      ]
     },
     "metadata": {},
     "output_type": "display_data"
    },
    {
     "data": {
      "text/html": [
       "Find logs at: <code>.\\wandb\\run-20250403_201628-bwd9yhkt\\logs</code>"
      ],
      "text/plain": [
       "<IPython.core.display.HTML object>"
      ]
     },
     "metadata": {},
     "output_type": "display_data"
    },
    {
     "data": {
      "text/html": [
       "Tracking run with wandb version 0.19.8"
      ],
      "text/plain": [
       "<IPython.core.display.HTML object>"
      ]
     },
     "metadata": {},
     "output_type": "display_data"
    },
    {
     "data": {
      "text/html": [
       "Run data is saved locally in <code>d:\\Development\\cs580\\CSU-Industry-Skills\\bert-model\\wandb\\run-20250403_201741-a6uoqyu8</code>"
      ],
      "text/plain": [
       "<IPython.core.display.HTML object>"
      ]
     },
     "metadata": {},
     "output_type": "display_data"
    },
    {
     "data": {
      "text/html": [
       "Syncing run <strong><a href='https://wandb.ai/ayoungren-colostate/sbert-param-search/runs/a6uoqyu8' target=\"_blank\">lr_5e-05_bs_16</a></strong> to <a href='https://wandb.ai/ayoungren-colostate/sbert-param-search' target=\"_blank\">Weights & Biases</a> (<a href='https://wandb.me/developer-guide' target=\"_blank\">docs</a>)<br>"
      ],
      "text/plain": [
       "<IPython.core.display.HTML object>"
      ]
     },
     "metadata": {},
     "output_type": "display_data"
    },
    {
     "data": {
      "text/html": [
       " View project at <a href='https://wandb.ai/ayoungren-colostate/sbert-param-search' target=\"_blank\">https://wandb.ai/ayoungren-colostate/sbert-param-search</a>"
      ],
      "text/plain": [
       "<IPython.core.display.HTML object>"
      ]
     },
     "metadata": {},
     "output_type": "display_data"
    },
    {
     "data": {
      "text/html": [
       " View run at <a href='https://wandb.ai/ayoungren-colostate/sbert-param-search/runs/a6uoqyu8' target=\"_blank\">https://wandb.ai/ayoungren-colostate/sbert-param-search/runs/a6uoqyu8</a>"
      ],
      "text/plain": [
       "<IPython.core.display.HTML object>"
      ]
     },
     "metadata": {},
     "output_type": "display_data"
    },
    {
     "name": "stdout",
     "output_type": "stream",
     "text": [
      "Starting Training for lr_5e-05_bs_16\n",
      "Beginning Epoch 1\n",
      "Beginning Epoch 2\n",
      "Beginning Epoch 3\n",
      "Beginning Epoch 4\n",
      "Beginning Epoch 5\n",
      "Beginning Epoch 6\n",
      "Beginning Epoch 7\n",
      "Beginning Epoch 8\n",
      "Beginning Epoch 9\n",
      "Beginning Epoch 10\n",
      "Early stopping at epoch 10\n"
     ]
    },
    {
     "data": {
      "text/html": [],
      "text/plain": [
       "<IPython.core.display.HTML object>"
      ]
     },
     "metadata": {},
     "output_type": "display_data"
    },
    {
     "data": {
      "text/html": [
       "<br>    <style><br>        .wandb-row {<br>            display: flex;<br>            flex-direction: row;<br>            flex-wrap: wrap;<br>            justify-content: flex-start;<br>            width: 100%;<br>        }<br>        .wandb-col {<br>            display: flex;<br>            flex-direction: column;<br>            flex-basis: 100%;<br>            flex: 1;<br>            padding: 10px;<br>        }<br>    </style><br><div class=\"wandb-row\"><div class=\"wandb-col\"><h3>Run history:</h3><br/><table class=\"wandb\"><tr><td>epoch</td><td>▁▂▃▃▄▅▆▆▇█</td></tr><tr><td>learning_rate</td><td>▁▁▁▁▁▁▁▁▁▁</td></tr><tr><td>train_loss</td><td>█▂▁▁▁▁▁▁▁▁</td></tr><tr><td>train_mae</td><td>█▂▂▂▂▂▁▁▁▁</td></tr><tr><td>train_mse</td><td>█▂▁▁▁▁▁▁▁▁</td></tr><tr><td>train_pearson_r</td><td>▁▇████████</td></tr><tr><td>train_r2</td><td>▁▇████████</td></tr><tr><td>train_spearman_rho</td><td>▁▇▇███████</td></tr><tr><td>val_mae</td><td>█▂▂▃▁▂▁▄▁▂</td></tr><tr><td>val_mse</td><td>█▂▁▃▁▂▁▃▁▁</td></tr><tr><td>val_pearson_r</td><td>▁▇▇▇██████</td></tr><tr><td>val_r2</td><td>▁▇█▆█▇█▆██</td></tr><tr><td>val_spearman_rho</td><td>▁▆▇▇█▇████</td></tr></table><br/></div><div class=\"wandb-col\"><h3>Run summary:</h3><br/><table class=\"wandb\"><tr><td>epoch</td><td>10</td></tr><tr><td>learning_rate</td><td>5e-05</td></tr><tr><td>train_loss</td><td>2e-05</td></tr><tr><td>train_mae</td><td>0.01434</td></tr><tr><td>train_mse</td><td>0.00034</td></tr><tr><td>train_pearson_r</td><td>0.98266</td></tr><tr><td>train_r2</td><td>0.96535</td></tr><tr><td>train_spearman_rho</td><td>0.97918</td></tr><tr><td>val_mae</td><td>0.01544</td></tr><tr><td>val_mse</td><td>0.00045</td></tr><tr><td>val_pearson_r</td><td>0.97913</td></tr><tr><td>val_r2</td><td>0.94972</td></tr><tr><td>val_spearman_rho</td><td>0.98279</td></tr></table><br/></div></div>"
      ],
      "text/plain": [
       "<IPython.core.display.HTML object>"
      ]
     },
     "metadata": {},
     "output_type": "display_data"
    },
    {
     "data": {
      "text/html": [
       " View run <strong style=\"color:#cdcd00\">lr_5e-05_bs_16</strong> at: <a href='https://wandb.ai/ayoungren-colostate/sbert-param-search/runs/a6uoqyu8' target=\"_blank\">https://wandb.ai/ayoungren-colostate/sbert-param-search/runs/a6uoqyu8</a><br> View project at: <a href='https://wandb.ai/ayoungren-colostate/sbert-param-search' target=\"_blank\">https://wandb.ai/ayoungren-colostate/sbert-param-search</a><br>Synced 5 W&B file(s), 0 media file(s), 0 artifact file(s) and 0 other file(s)"
      ],
      "text/plain": [
       "<IPython.core.display.HTML object>"
      ]
     },
     "metadata": {},
     "output_type": "display_data"
    },
    {
     "data": {
      "text/html": [
       "Find logs at: <code>.\\wandb\\run-20250403_201741-a6uoqyu8\\logs</code>"
      ],
      "text/plain": [
       "<IPython.core.display.HTML object>"
      ]
     },
     "metadata": {},
     "output_type": "display_data"
    },
    {
     "data": {
      "text/html": [
       "Tracking run with wandb version 0.19.8"
      ],
      "text/plain": [
       "<IPython.core.display.HTML object>"
      ]
     },
     "metadata": {},
     "output_type": "display_data"
    },
    {
     "data": {
      "text/html": [
       "Run data is saved locally in <code>d:\\Development\\cs580\\CSU-Industry-Skills\\bert-model\\wandb\\run-20250403_201859-bl84xwdo</code>"
      ],
      "text/plain": [
       "<IPython.core.display.HTML object>"
      ]
     },
     "metadata": {},
     "output_type": "display_data"
    },
    {
     "data": {
      "text/html": [
       "Syncing run <strong><a href='https://wandb.ai/ayoungren-colostate/sbert-param-search/runs/bl84xwdo' target=\"_blank\">lr_2e-05_bs_32</a></strong> to <a href='https://wandb.ai/ayoungren-colostate/sbert-param-search' target=\"_blank\">Weights & Biases</a> (<a href='https://wandb.me/developer-guide' target=\"_blank\">docs</a>)<br>"
      ],
      "text/plain": [
       "<IPython.core.display.HTML object>"
      ]
     },
     "metadata": {},
     "output_type": "display_data"
    },
    {
     "data": {
      "text/html": [
       " View project at <a href='https://wandb.ai/ayoungren-colostate/sbert-param-search' target=\"_blank\">https://wandb.ai/ayoungren-colostate/sbert-param-search</a>"
      ],
      "text/plain": [
       "<IPython.core.display.HTML object>"
      ]
     },
     "metadata": {},
     "output_type": "display_data"
    },
    {
     "data": {
      "text/html": [
       " View run at <a href='https://wandb.ai/ayoungren-colostate/sbert-param-search/runs/bl84xwdo' target=\"_blank\">https://wandb.ai/ayoungren-colostate/sbert-param-search/runs/bl84xwdo</a>"
      ],
      "text/plain": [
       "<IPython.core.display.HTML object>"
      ]
     },
     "metadata": {},
     "output_type": "display_data"
    },
    {
     "name": "stdout",
     "output_type": "stream",
     "text": [
      "Starting Training for lr_2e-05_bs_32\n",
      "Beginning Epoch 1\n",
      "Beginning Epoch 2\n",
      "Beginning Epoch 3\n",
      "Beginning Epoch 4\n",
      "Beginning Epoch 5\n",
      "Beginning Epoch 6\n",
      "Beginning Epoch 7\n",
      "Beginning Epoch 8\n",
      "Beginning Epoch 9\n",
      "Beginning Epoch 10\n",
      "Beginning Epoch 11\n",
      "Beginning Epoch 12\n",
      "Early stopping at epoch 12\n"
     ]
    },
    {
     "data": {
      "text/html": [],
      "text/plain": [
       "<IPython.core.display.HTML object>"
      ]
     },
     "metadata": {},
     "output_type": "display_data"
    },
    {
     "data": {
      "text/html": [
       "<br>    <style><br>        .wandb-row {<br>            display: flex;<br>            flex-direction: row;<br>            flex-wrap: wrap;<br>            justify-content: flex-start;<br>            width: 100%;<br>        }<br>        .wandb-col {<br>            display: flex;<br>            flex-direction: column;<br>            flex-basis: 100%;<br>            flex: 1;<br>            padding: 10px;<br>        }<br>    </style><br><div class=\"wandb-row\"><div class=\"wandb-col\"><h3>Run history:</h3><br/><table class=\"wandb\"><tr><td>epoch</td><td>▁▂▂▃▄▄▅▅▆▇▇█</td></tr><tr><td>learning_rate</td><td>▁▁▁▁▁▁▁▁▁▁▁▁</td></tr><tr><td>train_loss</td><td>█▂▂▁▁▁▁▁▁▁▁▁</td></tr><tr><td>train_mae</td><td>█▃▂▂▂▁▁▁▁▁▁▁</td></tr><tr><td>train_mse</td><td>█▂▂▁▁▁▁▁▁▁▁▁</td></tr><tr><td>train_pearson_r</td><td>▁▆▇█████████</td></tr><tr><td>train_r2</td><td>▁▇▇█████████</td></tr><tr><td>train_spearman_rho</td><td>▁▆▇█████████</td></tr><tr><td>val_mae</td><td>█▄▄▂▃▂▃▃▁▂▂▂</td></tr><tr><td>val_mse</td><td>█▄▃▁▂▁▂▂▁▁▁▁</td></tr><tr><td>val_pearson_r</td><td>▁▅▇█████████</td></tr><tr><td>val_r2</td><td>▁▅▆█▇█▇▇████</td></tr><tr><td>val_spearman_rho</td><td>▁▅▇█████████</td></tr></table><br/></div><div class=\"wandb-col\"><h3>Run summary:</h3><br/><table class=\"wandb\"><tr><td>epoch</td><td>12</td></tr><tr><td>learning_rate</td><td>2e-05</td></tr><tr><td>train_loss</td><td>2e-05</td></tr><tr><td>train_mae</td><td>0.02035</td></tr><tr><td>train_mse</td><td>0.00068</td></tr><tr><td>train_pearson_r</td><td>0.96479</td></tr><tr><td>train_r2</td><td>0.93035</td></tr><tr><td>train_spearman_rho</td><td>0.96137</td></tr><tr><td>val_mae</td><td>0.01829</td></tr><tr><td>val_mse</td><td>0.0006</td></tr><tr><td>val_pearson_r</td><td>0.97872</td></tr><tr><td>val_r2</td><td>0.9323</td></tr><tr><td>val_spearman_rho</td><td>0.98023</td></tr></table><br/></div></div>"
      ],
      "text/plain": [
       "<IPython.core.display.HTML object>"
      ]
     },
     "metadata": {},
     "output_type": "display_data"
    },
    {
     "data": {
      "text/html": [
       " View run <strong style=\"color:#cdcd00\">lr_2e-05_bs_32</strong> at: <a href='https://wandb.ai/ayoungren-colostate/sbert-param-search/runs/bl84xwdo' target=\"_blank\">https://wandb.ai/ayoungren-colostate/sbert-param-search/runs/bl84xwdo</a><br> View project at: <a href='https://wandb.ai/ayoungren-colostate/sbert-param-search' target=\"_blank\">https://wandb.ai/ayoungren-colostate/sbert-param-search</a><br>Synced 5 W&B file(s), 0 media file(s), 0 artifact file(s) and 0 other file(s)"
      ],
      "text/plain": [
       "<IPython.core.display.HTML object>"
      ]
     },
     "metadata": {},
     "output_type": "display_data"
    },
    {
     "data": {
      "text/html": [
       "Find logs at: <code>.\\wandb\\run-20250403_201859-bl84xwdo\\logs</code>"
      ],
      "text/plain": [
       "<IPython.core.display.HTML object>"
      ]
     },
     "metadata": {},
     "output_type": "display_data"
    },
    {
     "data": {
      "text/html": [
       "Tracking run with wandb version 0.19.8"
      ],
      "text/plain": [
       "<IPython.core.display.HTML object>"
      ]
     },
     "metadata": {},
     "output_type": "display_data"
    },
    {
     "data": {
      "text/html": [
       "Run data is saved locally in <code>d:\\Development\\cs580\\CSU-Industry-Skills\\bert-model\\wandb\\run-20250403_202027-r08qvmli</code>"
      ],
      "text/plain": [
       "<IPython.core.display.HTML object>"
      ]
     },
     "metadata": {},
     "output_type": "display_data"
    },
    {
     "data": {
      "text/html": [
       "Syncing run <strong><a href='https://wandb.ai/ayoungren-colostate/sbert-param-search/runs/r08qvmli' target=\"_blank\">lr_3e-05_bs_32</a></strong> to <a href='https://wandb.ai/ayoungren-colostate/sbert-param-search' target=\"_blank\">Weights & Biases</a> (<a href='https://wandb.me/developer-guide' target=\"_blank\">docs</a>)<br>"
      ],
      "text/plain": [
       "<IPython.core.display.HTML object>"
      ]
     },
     "metadata": {},
     "output_type": "display_data"
    },
    {
     "data": {
      "text/html": [
       " View project at <a href='https://wandb.ai/ayoungren-colostate/sbert-param-search' target=\"_blank\">https://wandb.ai/ayoungren-colostate/sbert-param-search</a>"
      ],
      "text/plain": [
       "<IPython.core.display.HTML object>"
      ]
     },
     "metadata": {},
     "output_type": "display_data"
    },
    {
     "data": {
      "text/html": [
       " View run at <a href='https://wandb.ai/ayoungren-colostate/sbert-param-search/runs/r08qvmli' target=\"_blank\">https://wandb.ai/ayoungren-colostate/sbert-param-search/runs/r08qvmli</a>"
      ],
      "text/plain": [
       "<IPython.core.display.HTML object>"
      ]
     },
     "metadata": {},
     "output_type": "display_data"
    },
    {
     "name": "stdout",
     "output_type": "stream",
     "text": [
      "Starting Training for lr_3e-05_bs_32\n",
      "Beginning Epoch 1\n",
      "Beginning Epoch 2\n",
      "Beginning Epoch 3\n",
      "Beginning Epoch 4\n",
      "Beginning Epoch 5\n",
      "Beginning Epoch 6\n",
      "Beginning Epoch 7\n",
      "Beginning Epoch 8\n",
      "Beginning Epoch 9\n",
      "Beginning Epoch 10\n",
      "Beginning Epoch 11\n",
      "Beginning Epoch 12\n",
      "Beginning Epoch 13\n",
      "Beginning Epoch 14\n",
      "Early stopping at epoch 14\n"
     ]
    },
    {
     "data": {
      "text/html": [],
      "text/plain": [
       "<IPython.core.display.HTML object>"
      ]
     },
     "metadata": {},
     "output_type": "display_data"
    },
    {
     "data": {
      "text/html": [
       "<br>    <style><br>        .wandb-row {<br>            display: flex;<br>            flex-direction: row;<br>            flex-wrap: wrap;<br>            justify-content: flex-start;<br>            width: 100%;<br>        }<br>        .wandb-col {<br>            display: flex;<br>            flex-direction: column;<br>            flex-basis: 100%;<br>            flex: 1;<br>            padding: 10px;<br>        }<br>    </style><br><div class=\"wandb-row\"><div class=\"wandb-col\"><h3>Run history:</h3><br/><table class=\"wandb\"><tr><td>epoch</td><td>▁▂▂▃▃▄▄▅▅▆▆▇▇█</td></tr><tr><td>learning_rate</td><td>▁▁▁▁▁▁▁▁▁▁▁▁▁▁</td></tr><tr><td>train_loss</td><td>█▂▁▁▁▁▁▁▁▁▁▁▁▁</td></tr><tr><td>train_mae</td><td>█▃▂▂▂▁▁▁▁▁▁▁▁▁</td></tr><tr><td>train_mse</td><td>█▂▁▁▁▁▁▁▁▁▁▁▁▁</td></tr><tr><td>train_pearson_r</td><td>▁▆▇███████████</td></tr><tr><td>train_r2</td><td>▁▇████████████</td></tr><tr><td>train_spearman_rho</td><td>▁▆▇███████████</td></tr><tr><td>val_mae</td><td>█▃▃▂▁▂▁▂▂▁▁▂▂▁</td></tr><tr><td>val_mse</td><td>█▂▂▂▁▂▁▁▁▁▁▁▁▁</td></tr><tr><td>val_pearson_r</td><td>▁▅▇███████████</td></tr><tr><td>val_r2</td><td>▁▇▇▇█▇████████</td></tr><tr><td>val_spearman_rho</td><td>▁▅▇███████████</td></tr></table><br/></div><div class=\"wandb-col\"><h3>Run summary:</h3><br/><table class=\"wandb\"><tr><td>epoch</td><td>14</td></tr><tr><td>learning_rate</td><td>3e-05</td></tr><tr><td>train_loss</td><td>1e-05</td></tr><tr><td>train_mae</td><td>0.01648</td></tr><tr><td>train_mse</td><td>0.00045</td></tr><tr><td>train_pearson_r</td><td>0.9766</td></tr><tr><td>train_r2</td><td>0.95325</td></tr><tr><td>train_spearman_rho</td><td>0.97307</td></tr><tr><td>val_mae</td><td>0.0142</td></tr><tr><td>val_mse</td><td>0.00045</td></tr><tr><td>val_pearson_r</td><td>0.9811</td></tr><tr><td>val_r2</td><td>0.94966</td></tr><tr><td>val_spearman_rho</td><td>0.98314</td></tr></table><br/></div></div>"
      ],
      "text/plain": [
       "<IPython.core.display.HTML object>"
      ]
     },
     "metadata": {},
     "output_type": "display_data"
    },
    {
     "data": {
      "text/html": [
       " View run <strong style=\"color:#cdcd00\">lr_3e-05_bs_32</strong> at: <a href='https://wandb.ai/ayoungren-colostate/sbert-param-search/runs/r08qvmli' target=\"_blank\">https://wandb.ai/ayoungren-colostate/sbert-param-search/runs/r08qvmli</a><br> View project at: <a href='https://wandb.ai/ayoungren-colostate/sbert-param-search' target=\"_blank\">https://wandb.ai/ayoungren-colostate/sbert-param-search</a><br>Synced 5 W&B file(s), 0 media file(s), 0 artifact file(s) and 0 other file(s)"
      ],
      "text/plain": [
       "<IPython.core.display.HTML object>"
      ]
     },
     "metadata": {},
     "output_type": "display_data"
    },
    {
     "data": {
      "text/html": [
       "Find logs at: <code>.\\wandb\\run-20250403_202027-r08qvmli\\logs</code>"
      ],
      "text/plain": [
       "<IPython.core.display.HTML object>"
      ]
     },
     "metadata": {},
     "output_type": "display_data"
    },
    {
     "data": {
      "text/html": [
       "Tracking run with wandb version 0.19.8"
      ],
      "text/plain": [
       "<IPython.core.display.HTML object>"
      ]
     },
     "metadata": {},
     "output_type": "display_data"
    },
    {
     "data": {
      "text/html": [
       "Run data is saved locally in <code>d:\\Development\\cs580\\CSU-Industry-Skills\\bert-model\\wandb\\run-20250403_202203-6x3ic7is</code>"
      ],
      "text/plain": [
       "<IPython.core.display.HTML object>"
      ]
     },
     "metadata": {},
     "output_type": "display_data"
    },
    {
     "data": {
      "text/html": [
       "Syncing run <strong><a href='https://wandb.ai/ayoungren-colostate/sbert-param-search/runs/6x3ic7is' target=\"_blank\">lr_5e-05_bs_32</a></strong> to <a href='https://wandb.ai/ayoungren-colostate/sbert-param-search' target=\"_blank\">Weights & Biases</a> (<a href='https://wandb.me/developer-guide' target=\"_blank\">docs</a>)<br>"
      ],
      "text/plain": [
       "<IPython.core.display.HTML object>"
      ]
     },
     "metadata": {},
     "output_type": "display_data"
    },
    {
     "data": {
      "text/html": [
       " View project at <a href='https://wandb.ai/ayoungren-colostate/sbert-param-search' target=\"_blank\">https://wandb.ai/ayoungren-colostate/sbert-param-search</a>"
      ],
      "text/plain": [
       "<IPython.core.display.HTML object>"
      ]
     },
     "metadata": {},
     "output_type": "display_data"
    },
    {
     "data": {
      "text/html": [
       " View run at <a href='https://wandb.ai/ayoungren-colostate/sbert-param-search/runs/6x3ic7is' target=\"_blank\">https://wandb.ai/ayoungren-colostate/sbert-param-search/runs/6x3ic7is</a>"
      ],
      "text/plain": [
       "<IPython.core.display.HTML object>"
      ]
     },
     "metadata": {},
     "output_type": "display_data"
    },
    {
     "name": "stdout",
     "output_type": "stream",
     "text": [
      "Starting Training for lr_5e-05_bs_32\n",
      "Beginning Epoch 1\n",
      "Beginning Epoch 2\n",
      "Beginning Epoch 3\n",
      "Beginning Epoch 4\n",
      "Beginning Epoch 5\n",
      "Beginning Epoch 6\n",
      "Beginning Epoch 7\n",
      "Beginning Epoch 8\n",
      "Beginning Epoch 9\n",
      "Beginning Epoch 10\n",
      "Beginning Epoch 11\n",
      "Beginning Epoch 12\n",
      "Early stopping at epoch 12\n"
     ]
    },
    {
     "data": {
      "text/html": [],
      "text/plain": [
       "<IPython.core.display.HTML object>"
      ]
     },
     "metadata": {},
     "output_type": "display_data"
    },
    {
     "data": {
      "text/html": [
       "<br>    <style><br>        .wandb-row {<br>            display: flex;<br>            flex-direction: row;<br>            flex-wrap: wrap;<br>            justify-content: flex-start;<br>            width: 100%;<br>        }<br>        .wandb-col {<br>            display: flex;<br>            flex-direction: column;<br>            flex-basis: 100%;<br>            flex: 1;<br>            padding: 10px;<br>        }<br>    </style><br><div class=\"wandb-row\"><div class=\"wandb-col\"><h3>Run history:</h3><br/><table class=\"wandb\"><tr><td>epoch</td><td>▁▂▂▃▄▄▅▅▆▇▇█</td></tr><tr><td>learning_rate</td><td>▁▁▁▁▁▁▁▁▁▁▁▁</td></tr><tr><td>train_loss</td><td>█▂▁▁▁▁▁▁▁▁▁▁</td></tr><tr><td>train_mae</td><td>█▃▂▂▁▁▁▁▁▁▁▁</td></tr><tr><td>train_mse</td><td>█▂▁▁▁▁▁▁▁▁▁▁</td></tr><tr><td>train_pearson_r</td><td>▁▆▇█████████</td></tr><tr><td>train_r2</td><td>▁▇██████████</td></tr><tr><td>train_spearman_rho</td><td>▁▆▇█████████</td></tr><tr><td>val_mae</td><td>█▅▂▃▂▁▄▂▂▁▂▁</td></tr><tr><td>val_mse</td><td>█▄▂▂▁▁▂▂▁▁▁▁</td></tr><tr><td>val_pearson_r</td><td>▁▅▇█████████</td></tr><tr><td>val_r2</td><td>▁▅▇▇██▇▇████</td></tr><tr><td>val_spearman_rho</td><td>▁▅▇█████████</td></tr></table><br/></div><div class=\"wandb-col\"><h3>Run summary:</h3><br/><table class=\"wandb\"><tr><td>epoch</td><td>12</td></tr><tr><td>learning_rate</td><td>5e-05</td></tr><tr><td>train_loss</td><td>1e-05</td></tr><tr><td>train_mae</td><td>0.01622</td></tr><tr><td>train_mse</td><td>0.00042</td></tr><tr><td>train_pearson_r</td><td>0.97839</td></tr><tr><td>train_r2</td><td>0.95677</td></tr><tr><td>train_spearman_rho</td><td>0.97562</td></tr><tr><td>val_mae</td><td>0.01286</td></tr><tr><td>val_mse</td><td>0.00039</td></tr><tr><td>val_pearson_r</td><td>0.98323</td></tr><tr><td>val_r2</td><td>0.95559</td></tr><tr><td>val_spearman_rho</td><td>0.98484</td></tr></table><br/></div></div>"
      ],
      "text/plain": [
       "<IPython.core.display.HTML object>"
      ]
     },
     "metadata": {},
     "output_type": "display_data"
    },
    {
     "data": {
      "text/html": [
       " View run <strong style=\"color:#cdcd00\">lr_5e-05_bs_32</strong> at: <a href='https://wandb.ai/ayoungren-colostate/sbert-param-search/runs/6x3ic7is' target=\"_blank\">https://wandb.ai/ayoungren-colostate/sbert-param-search/runs/6x3ic7is</a><br> View project at: <a href='https://wandb.ai/ayoungren-colostate/sbert-param-search' target=\"_blank\">https://wandb.ai/ayoungren-colostate/sbert-param-search</a><br>Synced 5 W&B file(s), 0 media file(s), 0 artifact file(s) and 0 other file(s)"
      ],
      "text/plain": [
       "<IPython.core.display.HTML object>"
      ]
     },
     "metadata": {},
     "output_type": "display_data"
    },
    {
     "data": {
      "text/html": [
       "Find logs at: <code>.\\wandb\\run-20250403_202203-6x3ic7is\\logs</code>"
      ],
      "text/plain": [
       "<IPython.core.display.HTML object>"
      ]
     },
     "metadata": {},
     "output_type": "display_data"
    },
    {
     "data": {
      "text/html": [
       "Tracking run with wandb version 0.19.8"
      ],
      "text/plain": [
       "<IPython.core.display.HTML object>"
      ]
     },
     "metadata": {},
     "output_type": "display_data"
    },
    {
     "data": {
      "text/html": [
       "Run data is saved locally in <code>d:\\Development\\cs580\\CSU-Industry-Skills\\bert-model\\wandb\\run-20250403_202327-c7bxa0ai</code>"
      ],
      "text/plain": [
       "<IPython.core.display.HTML object>"
      ]
     },
     "metadata": {},
     "output_type": "display_data"
    },
    {
     "data": {
      "text/html": [
       "Syncing run <strong><a href='https://wandb.ai/ayoungren-colostate/sbert-param-search/runs/c7bxa0ai' target=\"_blank\">lr_2e-05_bs_64</a></strong> to <a href='https://wandb.ai/ayoungren-colostate/sbert-param-search' target=\"_blank\">Weights & Biases</a> (<a href='https://wandb.me/developer-guide' target=\"_blank\">docs</a>)<br>"
      ],
      "text/plain": [
       "<IPython.core.display.HTML object>"
      ]
     },
     "metadata": {},
     "output_type": "display_data"
    },
    {
     "data": {
      "text/html": [
       " View project at <a href='https://wandb.ai/ayoungren-colostate/sbert-param-search' target=\"_blank\">https://wandb.ai/ayoungren-colostate/sbert-param-search</a>"
      ],
      "text/plain": [
       "<IPython.core.display.HTML object>"
      ]
     },
     "metadata": {},
     "output_type": "display_data"
    },
    {
     "data": {
      "text/html": [
       " View run at <a href='https://wandb.ai/ayoungren-colostate/sbert-param-search/runs/c7bxa0ai' target=\"_blank\">https://wandb.ai/ayoungren-colostate/sbert-param-search/runs/c7bxa0ai</a>"
      ],
      "text/plain": [
       "<IPython.core.display.HTML object>"
      ]
     },
     "metadata": {},
     "output_type": "display_data"
    },
    {
     "name": "stdout",
     "output_type": "stream",
     "text": [
      "Starting Training for lr_2e-05_bs_64\n",
      "Beginning Epoch 1\n"
     ]
    }
   ],
   "source": [
    "datasets = prepare_datasets(td_df)\n",
    "    \n",
    "param_grid = ParameterGrid({\n",
    "    'lr': [2e-5, 3e-5, 5e-5],\n",
    "    'batch_size': [16, 32, 64, 128],\n",
    "    'weight_decay': [0.01]\n",
    "})\n",
    "\n",
    "best_f1 = -1\n",
    "best_model = None\n",
    "best_config = None\n",
    "\n",
    "for config in param_grid:\n",
    "    val_f1, state_dict = train_and_evaluate(config, datasets)\n",
    "    if val_f1 > best_f1:\n",
    "        best_f1 = val_f1\n",
    "        best_model = state_dict\n",
    "        best_config = config\n",
    "\n",
    "if best_model:\n",
    "    model = SentenceTransformer(MODEL_NAME)\n",
    "    model.load_state_dict(best_model)\n",
    "    \n",
    "    test_loader = DataLoader(datasets['test'], batch_size=32)\n",
    "    test_preds, test_labels = [], []\n",
    "\n",
    "    torch.cuda.empty_cache()\n",
    "    gc.collect()\n",
    "    \n",
    "    model.eval()\n",
    "    with torch.no_grad():\n",
    "        for batch in test_loader:\n",
    "            embeddings = model(batch['texts'])\n",
    "            test_preds.extend(torch.argmax(embeddings, dim=1).cpu().numpy())\n",
    "            test_labels.extend(batch['labels'].numpy())\n",
    "    \n",
    "    test_metrics = compute_metrics(test_labels, test_preds)\n",
    "    \n",
    "    wandb.init(\n",
    "        entity=\"ayoungren-colostate\",\n",
    "        project=\"sbert-param-search\",\n",
    "        name=f\"Best Model Arch: lr--{best_config['lr']}__bs--{best_config['batch_size']}\",\n",
    "        config=best_config,\n",
    "        reinit=True\n",
    "    )\n",
    "\n",
    "    wandb.log({\n",
    "        'test_f1': test_metrics['f1'],\n",
    "        'test_accuracy': test_metrics['accuracy'],\n",
    "        'test_precision': test_metrics['precision'],\n",
    "        'test_recall': test_metrics['recall']\n",
    "    })\n",
    "    \n",
    "    model.save(\"best_sbert_model\")"
   ]
  },
  {
   "cell_type": "code",
   "execution_count": null,
   "metadata": {},
   "outputs": [],
   "source": []
  }
 ],
 "metadata": {
  "kernelspec": {
   "display_name": "gaps",
   "language": "python",
   "name": "python3"
  },
  "language_info": {
   "codemirror_mode": {
    "name": "ipython",
    "version": 3
   },
   "file_extension": ".py",
   "mimetype": "text/x-python",
   "name": "python",
   "nbconvert_exporter": "python",
   "pygments_lexer": "ipython3",
   "version": "3.11.11"
  }
 },
 "nbformat": 4,
 "nbformat_minor": 2
}
