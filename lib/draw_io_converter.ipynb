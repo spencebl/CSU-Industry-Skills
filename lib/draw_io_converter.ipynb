{
 "cells": [
  {
   "cell_type": "markdown",
   "metadata": {},
   "source": [
    "# Convert to Draw IO text files"
   ]
  },
  {
   "cell_type": "code",
   "execution_count": 1,
   "metadata": {},
   "outputs": [],
   "source": [
    "import pandas as pd\n",
    "\n",
    "excel_file = \"../data/CSU-Skill-Tree.xlsx\"\n",
    "df = pd.read_excel(excel_file,usecols=[\"Source\",\"Target\"])\n",
    "df.rename(columns={'Source': 'label', 'Target': 'parent'}, inplace=True)\n",
    "\n",
    "with open(\"../drawio-text/csu.txt\", 'w') as f:\n",
    "    for index, row in df.iterrows():\n",
    "            col1 = str(row[df.columns[0]]).replace(\" \", \"_\")\n",
    "            col2 = str(row[df.columns[1]]).replace(\" \", \"_\")\n",
    "            line = f\"{col1}->{col2}\\n\"\n",
    "            f.write(line)"
   ]
  },
  {
   "cell_type": "code",
   "execution_count": 4,
   "metadata": {},
   "outputs": [],
   "source": [
    "excel_file = \"../data/Industry-Skill-Tree.xlsx\"  # Change to your actual file\n",
    "df = pd.read_excel(excel_file,usecols=[\"Source\",\"Target\"])\n",
    "df.rename(columns={'Source': 'label', 'Target': 'parent'}, inplace=True)\n",
    "\n",
    "with open(\"../drawio-text/industry.txt\", 'w') as f:\n",
    "    for index, row in df.iterrows():\n",
    "            col1 = str(row[df.columns[0]]).replace(\" \", \"_\")\n",
    "            col2 = str(row[df.columns[1]]).replace(\" \", \"_\")\n",
    "            line = f\"{col1}->{col2}\\n\"\n",
    "            f.write(line)"
   ]
  }
 ],
 "metadata": {
  "kernelspec": {
   "display_name": "Python 3",
   "language": "python",
   "name": "python3"
  },
  "language_info": {
   "codemirror_mode": {
    "name": "ipython",
    "version": 3
   },
   "file_extension": ".py",
   "mimetype": "text/x-python",
   "name": "python",
   "nbconvert_exporter": "python",
   "pygments_lexer": "ipython3",
   "version": "3.8.10"
  }
 },
 "nbformat": 4,
 "nbformat_minor": 2
}
