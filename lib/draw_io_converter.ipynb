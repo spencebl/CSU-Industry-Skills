{
 "cells": [
  {
   "cell_type": "code",
   "execution_count": null,
   "metadata": {},
   "outputs": [],
   "source": [
    "import pandas as pd\n",
    "\n",
    "excel_file = \"tree.xlsx\"  # Change to your actual file\n",
    "df = pd.read_excel(excel_file,usecols=[\"Source\",\"Target\"])\n",
    "df.rename(columns={'Source': 'label', 'Target': 'parent'}, inplace=True)\n",
    "\n",
    "with open(\"output_file.txt\", 'w') as f:\n",
    "    for index, row in df.iterrows():\n",
    "            col1 = str(row[df.columns[0]]).replace(\" \", \"_\")\n",
    "            col2 = str(row[df.columns[1]]).replace(\" \", \"_\")\n",
    "            line = f\"{col1}->{col2}\\n\"\n",
    "            f.write(line)"
   ]
  }
 ],
 "metadata": {
  "language_info": {
   "name": "python"
  }
 },
 "nbformat": 4,
 "nbformat_minor": 2
}
