{
 "cells": [
  {
   "cell_type": "markdown",
   "id": "0e041766-174d-49f3-9350-37718ce18a13",
   "metadata": {},
   "source": [
    "# Analyzign Models Best Suited for Gaps Project"
   ]
  },
  {
   "cell_type": "markdown",
   "id": "dc20ce6c-bcc4-42fb-82ed-a7be4e17681f",
   "metadata": {},
   "source": [
    "## Imports"
   ]
  },
  {
   "cell_type": "code",
   "execution_count": 1,
   "id": "e26c1d4f-c8f0-4f61-9686-d4cb618f4a5c",
   "metadata": {},
   "outputs": [
    {
     "name": "stderr",
     "output_type": "stream",
     "text": [
      "C:\\Users\\ayoun\\AppData\\Roaming\\Python\\Python311\\site-packages\\tqdm\\auto.py:21: TqdmWarning: IProgress not found. Please update jupyter and ipywidgets. See https://ipywidgets.readthedocs.io/en/stable/user_install.html\n",
      "  from .autonotebook import tqdm as notebook_tqdm\n"
     ]
    }
   ],
   "source": [
    "import gc\n",
    "import re\n",
    "import csv\n",
    "import json\n",
    "import torch\n",
    "import wandb\n",
    "import random\n",
    "import pandas as pd\n",
    "import torch.nn.functional as F\n",
    "\n",
    "# from torch import nn\n",
    "# from itertools import product\n",
    "from torch.optim import AdamW\n",
    "from torch.utils.data import DataLoader\n",
    "from datasets import Dataset, DatasetDict\n",
    "from sklearn.model_selection import train_test_split, ParameterGrid\n",
    "from sklearn.metrics import precision_recall_fscore_support\n",
    "from transformers import ( DPRQuestionEncoder, \n",
    "                            DPRQuestionEncoderTokenizer, \n",
    "                            DPRContextEncoder, \n",
    "                            DPRContextEncoderTokenizer,\n",
    "                            get_linear_schedule_with_warmup )\n",
    "\n",
    "pd.set_option('display.max_rows', None) \n",
    "pd.set_option('display.max_columns', None) \n",
    "pd.set_option('display.width', None) \n",
    "pd.set_option('display.max_colwidth', None) \n",
    "pd.set_option('display.max_seq_item', None)"
   ]
  },
  {
   "cell_type": "code",
   "execution_count": 2,
   "id": "19c3f133",
   "metadata": {},
   "outputs": [
    {
     "name": "stdout",
     "output_type": "stream",
     "text": [
      "2.5.1\n",
      "True\n",
      "NVIDIA GeForce RTX 3080\n"
     ]
    }
   ],
   "source": [
    "\n",
    "print(torch.__version__)  # e.g., 2.2.0+cu121\n",
    "print(torch.cuda.is_available())  # Should return True\n",
    "print(torch.cuda.get_device_name(0))"
   ]
  },
  {
   "cell_type": "markdown",
   "id": "9513a42a-69ef-47e4-b570-169c44a2f01d",
   "metadata": {},
   "source": [
    "## Data Preprocessing"
   ]
  },
  {
   "cell_type": "code",
   "execution_count": 3,
   "id": "08e5e8de-ea41-4394-9b2c-c2f67210ce00",
   "metadata": {},
   "outputs": [],
   "source": [
    "with open ('data/all-csu-codes.csv', 'r') as c_data:\n",
    "    csv_reader = csv.reader(c_data) \n",
    "    courses_data = list(csv_reader)\n",
    "    \n",
    "courses_df = pd.DataFrame(columns=['Courses', 'Skills'])\n",
    "\n",
    "for idx in range(0, len(courses_data)):\n",
    "    skill_list = courses_data[idx][1:-1]\n",
    "    skill_list = [skill.title() for skill in skill_list]\n",
    "    skill_list = [re.sub(r'\\b(vs|Vs)\\b', 'VS', skill) for skill in skill_list]\n",
    "\n",
    "    row = pd.DataFrame({'Courses': courses_data[idx][0], 'Skills':[skill_list]})\n",
    "    courses_df = pd.concat([courses_df, row], ignore_index=True)\n",
    "\n",
    "courses_df.to_csv('data/dpr_courses_data.csv', index=False)"
   ]
  },
  {
   "cell_type": "code",
   "execution_count": 4,
   "id": "734a6c8a",
   "metadata": {},
   "outputs": [],
   "source": [
    "with open('data/descriptions.txt', 'r') as j_data:\n",
    "    csv_reader = csv.reader(j_data, delimiter='|')\n",
    "    jobs_data = list(csv_reader)\n",
    "\n",
    "jobs_df = pd.DataFrame(columns=['Job_Title', 'Job_Description', 'Required_Skills'])\n",
    "                    \n",
    "for row in jobs_data:\n",
    "    if len(row) == 3:\n",
    "        job_title = row[0].strip().strip('\"') \n",
    "\n",
    "        job_description = row[1].strip().strip('\"')\n",
    "        job_description = re.sub(r'\\bDESCRIPTION\\b', '', job_description)\n",
    "    \n",
    "        skills = row[2].strip().strip('\"')\n",
    "        skill_list = [skill.strip().strip('\"') for skill in skills.split(',')]\n",
    "        cap_skill_list = [skill.title() for skill in skill_list]\n",
    "        cleaned_skills = [re.sub(r'\\s?\\(.*?\\)', '', skill) for skill in cap_skill_list]\n",
    "\n",
    "        row = pd.DataFrame({'Job_Title': job_title, 'Job_Description': job_description, 'Required_Skills': [skill_list]})\n",
    "        jobs_df = pd.concat([jobs_df, row], ignore_index=True)\n",
    "            \n",
    "jobs_df.to_csv('data/dpr_jobs.csv', index=False)"
   ]
  },
  {
   "cell_type": "code",
   "execution_count": 5,
   "id": "e2a806d5-6af5-4d77-bf5c-dcdf76ef436a",
   "metadata": {},
   "outputs": [
    {
     "name": "stdout",
     "output_type": "stream",
     "text": [
      "['CS470', 'Assembly', 'C Language', 'Digital Gates', 'Instruction Set Architectures', 'Number Representation']\n",
      "********************************************\n",
      "  Courses  \\\n",
      "0   CS462   \n",
      "\n",
      "                                                                                                                                                                                                                                                                                                                                                                                                                                                                                                                                                                                                                                                                                                                                       Skills  \n",
      "0  [3D Modeling, Animations, Assigning 3D Object Properties, Blender, Calculating Lights, Shades, And, Camera Rendering, Character Animation, Character Design, Collisions, Constructing 3D Scenes, Design 3D, Develop 3D, Event Triggering, Finite State Machine, Fourier Transform, Game Design, Geometric Image Manipulation, Human Aware Ai, Immersive 3D Worlds, Implementing Animation To Chara, Implementing Movement To Charac, Manipulate Lighting, Manipulate Rendering, Manipulating 3D Object Properti, Movement, Principles Of Lighting, Principles Of Rendering, Real Time Rendering Pipeline, Scene Composition, Scene Layout, Scripting Interactive Behaviors, Scripting Interactive Elements, Tangent Space, Unity, Vectors]  \n"
     ]
    }
   ],
   "source": [
    "check_course = next(item for item in courses_data if item[0] == 'CS470')\n",
    "print(check_course)\n",
    "print('********************************************')\n",
    "print(courses_df.head(1))"
   ]
  },
  {
   "cell_type": "code",
   "execution_count": 6,
   "id": "e2d87cfb",
   "metadata": {},
   "outputs": [
    {
     "data": {
      "text/html": [
       "<div>\n",
       "<style scoped>\n",
       "    .dataframe tbody tr th:only-of-type {\n",
       "        vertical-align: middle;\n",
       "    }\n",
       "\n",
       "    .dataframe tbody tr th {\n",
       "        vertical-align: top;\n",
       "    }\n",
       "\n",
       "    .dataframe thead th {\n",
       "        text-align: right;\n",
       "    }\n",
       "</style>\n",
       "<table border=\"1\" class=\"dataframe\">\n",
       "  <thead>\n",
       "    <tr style=\"text-align: right;\">\n",
       "      <th></th>\n",
       "      <th>Courses</th>\n",
       "      <th>Skills</th>\n",
       "    </tr>\n",
       "  </thead>\n",
       "  <tbody>\n",
       "    <tr>\n",
       "      <th>0</th>\n",
       "      <td>CS462</td>\n",
       "      <td>[3D Modeling, Animations, Assigning 3D Object Properties, Blender, Calculating Lights, Shades, And, Camera Rendering, Character Animation, Character Design, Collisions, Constructing 3D Scenes, Design 3D, Develop 3D, Event Triggering, Finite State Machine, Fourier Transform, Game Design, Geometric Image Manipulation, Human Aware Ai, Immersive 3D Worlds, Implementing Animation To Chara, Implementing Movement To Charac, Manipulate Lighting, Manipulate Rendering, Manipulating 3D Object Properti, Movement, Principles Of Lighting, Principles Of Rendering, Real Time Rendering Pipeline, Scene Composition, Scene Layout, Scripting Interactive Behaviors, Scripting Interactive Elements, Tangent Space, Unity, Vectors]</td>\n",
       "    </tr>\n",
       "  </tbody>\n",
       "</table>\n",
       "</div>"
      ],
      "text/plain": [
       "  Courses  \\\n",
       "0   CS462   \n",
       "\n",
       "                                                                                                                                                                                                                                                                                                                                                                                                                                                                                                                                                                                                                                                                                                                                       Skills  \n",
       "0  [3D Modeling, Animations, Assigning 3D Object Properties, Blender, Calculating Lights, Shades, And, Camera Rendering, Character Animation, Character Design, Collisions, Constructing 3D Scenes, Design 3D, Develop 3D, Event Triggering, Finite State Machine, Fourier Transform, Game Design, Geometric Image Manipulation, Human Aware Ai, Immersive 3D Worlds, Implementing Animation To Chara, Implementing Movement To Charac, Manipulate Lighting, Manipulate Rendering, Manipulating 3D Object Properti, Movement, Principles Of Lighting, Principles Of Rendering, Real Time Rendering Pipeline, Scene Composition, Scene Layout, Scripting Interactive Behaviors, Scripting Interactive Elements, Tangent Space, Unity, Vectors]  "
      ]
     },
     "execution_count": 6,
     "metadata": {},
     "output_type": "execute_result"
    }
   ],
   "source": [
    "courses_df.head(1)"
   ]
  },
  {
   "cell_type": "code",
   "execution_count": 7,
   "id": "f1dcf5d7-f350-42cb-8fa5-f629acbd5eb4",
   "metadata": {},
   "outputs": [
    {
     "name": "stdout",
     "output_type": "stream",
     "text": [
      "[['Yahoo_Software_Dev_Engineer', \"Who We're Looking For- Junior Software Engineer We hire engineers who love the web, but can see its cracks and its future, too. We look for people who are exceptionally who are exceptionally imaginative, collaborative, and truly excited about tech. Our DSP Reporting team is currently looking for talented full-stack engineers to design, implement, and support robust, scalable, and high-quality reporting solutions Your Responsibilities - Develop and enhance a state-of-the-art reporting and analytics platform. - Build intuitive front-end UIs for reporting and analytics using React. - Develop microservices to power reporting and analytics solutions. - Write clean, maintainable, and performant code, including unit tests and refactoring when needed. - Collaborate with designers and developers to define and deliver new features. - Participate in system architecture reviews, code reviews, performance tuning, and production support. - Own and deliver projects ranging from small must-do tasks to large-scale initiatives. - Influence technical direction, best practices, product decisions, and team processes. Your voice matters! What You Bring: - Experience in fast-paced, highly technical environments. - Strong knowledge of JavaScript and React. - Proficiency in Java or Scala. - Good understanding of SQL / NoSQL databases. - Experience with the Spring Framework. - Proven ability to build and maintain large-scale systems. - Strong coding skills with a focus on clean, efficient, and scalable production code. - Excellent communication, interpersonal, and problem-solving skills. - Passion for data and analytics, with a drive to build products that users can't live without. - Min 2-3 years of experience - M.S. or B.S. in Computer Science, Engineering, or a related field Bonus Skills (Nice to Have): - Experience with public clouds (AWS or GCP). - Familiarity with Kubernetes. - Knowledge of MongoDB, Elasticsearch, RabbitMQ, or Apache Druid. \", 'MongoDB,\"Database management\",\"Kubernetes\",\"Cloud computing\",\"Elasticsearch\",\"Apache Druid\",\"RabbitMQ\",\"Public clouds\",\"Efficiency\",\"Large-scale systems\",\"Production code\",\"Coding skills\",\"Innovation\",\"Teamwork\",\"Collaboration\",\"Technical leadership\",\"Software Development\",\"Analytical skills\",\"Development\",\"React.js\",\"Reporting\",\"System architecture\",\"Code Review\",\"Performance optimization\",\"Scala\",\"Java\",\"NoSQL\",\"Spring Boot\",\"SQL\",\"Product Decisions\",\"Clean Code\",\"Refactoring\",\"Microservices\",\"Unit testing\",\"JavaScript\",\"Interpersonal Skills\",\"Communication\",\"Problem Solving Skills\"']]\n",
      "********************************************\n",
      "              Job_Title  \\\n",
      "0  Adobe_AI_ML_Engineer   \n",
      "\n",
      "                                                                                                                                                                                                                                                                                                                                                                                                                                                                                                                                                                                                                                                                                                                                                                                                                                                                                                                                                                                                                                                                                                                                                                                                                                                                                                                                                                                                                                                                                                                                                                                                                                                                                                                                          Job_Description  \\\n",
      "0  The Opportunity?Adobe is seeking talented and passionate Software Engineer across all organizations to help plan, design, develop, and test software systems or applications for software enhancements and new products used in local, networked, cloud-based or Internet-related computer programs and products. What You'll Do - Develop high-performance, reliable, testable and maintainable code. - Participating in all aspects of software development activities, including design, coding, code review, testing, bug fixing, and code/API documentation. - Collaborate with engineers and participate in daily or weekly stand ups and meetings. - Grow with the support of your team and help others on the team grow by providing thoughtful feedback and uplifting those around you. - Work both independently and collaboratively within a fast-paced development team, with clear, positive, and constructive communication. - Additional responsibilities as needed based on specific role or team What You Need to Succeed - Bachelor's or Master's in Computer Science, Computer Engineering, Electrical Engineer, or equivalent experience required - 1-3+ years of experience in specific skill/field(s) - Proficient in programming languages such as Ruby, Python, Javascript, etc. - Strong technical background with analytical and problem-solving skills - Familiarity with client-side frameworks and libraries like React, Vue, Angular, Web Components. - Excellent problem solving and debugging skills, and direct experience with DevOps in a SaaS environment is a plus. - Customer focused and have real passion for quality and engineering excellence at scale. - Excellent communication and collaboration skills.   \n",
      "\n",
      "                                                                                                                                                                                                                                                                                                                                                                                                                                                   Required_Skills  \n",
      "0  [Programming, Ruby, JavaScript, Python, Analytical skills, Knowledge sharing, Angular, Problem Solving Skills, React.js, Strong communication skills, Vue, Front-end frameworks, Collaboration, Communication, Development, Quality Assurance, Customer needs, Efficiency, Bug fixing, Code/API documentation, Code Review, Design, High performance, Reliability, Testing, Maintaining software applications, Feedback, Teamwork, Debugging, DevOps, Planning]  \n"
     ]
    }
   ],
   "source": [
    "check_job = [item for item in jobs_data if item[0] == 'Yahoo_Software_Dev_Engineer']\n",
    "print(check_job)\n",
    "print('********************************************')\n",
    "print(jobs_df.head(1))"
   ]
  },
  {
   "cell_type": "code",
   "execution_count": 8,
   "id": "70f3b8ca",
   "metadata": {},
   "outputs": [
    {
     "data": {
      "text/html": [
       "<div>\n",
       "<style scoped>\n",
       "    .dataframe tbody tr th:only-of-type {\n",
       "        vertical-align: middle;\n",
       "    }\n",
       "\n",
       "    .dataframe tbody tr th {\n",
       "        vertical-align: top;\n",
       "    }\n",
       "\n",
       "    .dataframe thead th {\n",
       "        text-align: right;\n",
       "    }\n",
       "</style>\n",
       "<table border=\"1\" class=\"dataframe\">\n",
       "  <thead>\n",
       "    <tr style=\"text-align: right;\">\n",
       "      <th></th>\n",
       "      <th>Job_Title</th>\n",
       "      <th>Job_Description</th>\n",
       "      <th>Required_Skills</th>\n",
       "    </tr>\n",
       "  </thead>\n",
       "  <tbody>\n",
       "    <tr>\n",
       "      <th>0</th>\n",
       "      <td>Adobe_AI_ML_Engineer</td>\n",
       "      <td>The Opportunity?Adobe is seeking talented and passionate Software Engineer across all organizations to help plan, design, develop, and test software systems or applications for software enhancements and new products used in local, networked, cloud-based or Internet-related computer programs and products. What You'll Do - Develop high-performance, reliable, testable and maintainable code. - Participating in all aspects of software development activities, including design, coding, code review, testing, bug fixing, and code/API documentation. - Collaborate with engineers and participate in daily or weekly stand ups and meetings. - Grow with the support of your team and help others on the team grow by providing thoughtful feedback and uplifting those around you. - Work both independently and collaboratively within a fast-paced development team, with clear, positive, and constructive communication. - Additional responsibilities as needed based on specific role or team What You Need to Succeed - Bachelor's or Master's in Computer Science, Computer Engineering, Electrical Engineer, or equivalent experience required - 1-3+ years of experience in specific skill/field(s) - Proficient in programming languages such as Ruby, Python, Javascript, etc. - Strong technical background with analytical and problem-solving skills - Familiarity with client-side frameworks and libraries like React, Vue, Angular, Web Components. - Excellent problem solving and debugging skills, and direct experience with DevOps in a SaaS environment is a plus. - Customer focused and have real passion for quality and engineering excellence at scale. - Excellent communication and collaboration skills.</td>\n",
       "      <td>[Programming, Ruby, JavaScript, Python, Analytical skills, Knowledge sharing, Angular, Problem Solving Skills, React.js, Strong communication skills, Vue, Front-end frameworks, Collaboration, Communication, Development, Quality Assurance, Customer needs, Efficiency, Bug fixing, Code/API documentation, Code Review, Design, High performance, Reliability, Testing, Maintaining software applications, Feedback, Teamwork, Debugging, DevOps, Planning]</td>\n",
       "    </tr>\n",
       "  </tbody>\n",
       "</table>\n",
       "</div>"
      ],
      "text/plain": [
       "              Job_Title  \\\n",
       "0  Adobe_AI_ML_Engineer   \n",
       "\n",
       "                                                                                                                                                                                                                                                                                                                                                                                                                                                                                                                                                                                                                                                                                                                                                                                                                                                                                                                                                                                                                                                                                                                                                                                                                                                                                                                                                                                                                                                                                                                                                                                                                                                                                                                                          Job_Description  \\\n",
       "0  The Opportunity?Adobe is seeking talented and passionate Software Engineer across all organizations to help plan, design, develop, and test software systems or applications for software enhancements and new products used in local, networked, cloud-based or Internet-related computer programs and products. What You'll Do - Develop high-performance, reliable, testable and maintainable code. - Participating in all aspects of software development activities, including design, coding, code review, testing, bug fixing, and code/API documentation. - Collaborate with engineers and participate in daily or weekly stand ups and meetings. - Grow with the support of your team and help others on the team grow by providing thoughtful feedback and uplifting those around you. - Work both independently and collaboratively within a fast-paced development team, with clear, positive, and constructive communication. - Additional responsibilities as needed based on specific role or team What You Need to Succeed - Bachelor's or Master's in Computer Science, Computer Engineering, Electrical Engineer, or equivalent experience required - 1-3+ years of experience in specific skill/field(s) - Proficient in programming languages such as Ruby, Python, Javascript, etc. - Strong technical background with analytical and problem-solving skills - Familiarity with client-side frameworks and libraries like React, Vue, Angular, Web Components. - Excellent problem solving and debugging skills, and direct experience with DevOps in a SaaS environment is a plus. - Customer focused and have real passion for quality and engineering excellence at scale. - Excellent communication and collaboration skills.   \n",
       "\n",
       "                                                                                                                                                                                                                                                                                                                                                                                                                                                   Required_Skills  \n",
       "0  [Programming, Ruby, JavaScript, Python, Analytical skills, Knowledge sharing, Angular, Problem Solving Skills, React.js, Strong communication skills, Vue, Front-end frameworks, Collaboration, Communication, Development, Quality Assurance, Customer needs, Efficiency, Bug fixing, Code/API documentation, Code Review, Design, High performance, Reliability, Testing, Maintaining software applications, Feedback, Teamwork, Debugging, DevOps, Planning]  "
      ]
     },
     "execution_count": 8,
     "metadata": {},
     "output_type": "execute_result"
    }
   ],
   "source": [
    "jobs_df.head(1)"
   ]
  },
  {
   "cell_type": "code",
   "execution_count": 9,
   "id": "c8be6f39-2e93-4127-afdb-f3fb48a7d03d",
   "metadata": {},
   "outputs": [
    {
     "data": {
      "text/plain": [
       "((35, 2), (79, 3))"
      ]
     },
     "execution_count": 9,
     "metadata": {},
     "output_type": "execute_result"
    }
   ],
   "source": [
    "del check_course, check_job, j_data, jobs_data, csv_reader, c_data, courses_data\n",
    "gc.collect()\n",
    "courses_df.shape, jobs_df.shape"
   ]
  },
  {
   "cell_type": "markdown",
   "id": "5affb49b-2f33-4fcd-bd9b-6c91bc7c26a4",
   "metadata": {},
   "source": [
    "### Collect All Skills from CSU Course Data"
   ]
  },
  {
   "cell_type": "code",
   "execution_count": 10,
   "id": "4f59842f-227a-4dde-9456-285c462423e9",
   "metadata": {},
   "outputs": [],
   "source": [
    "def get_all_acquired_skills(courses_df):\n",
    "    all_acquired_skills = set() \n",
    "    \n",
    "    for skills in courses_df['Skills']:\n",
    "        all_acquired_skills.update(skills)\n",
    "\n",
    "    return all_acquired_skills"
   ]
  },
  {
   "cell_type": "code",
   "execution_count": 11,
   "id": "71bd8405-941f-4cd7-baef-39a3442dc3dd",
   "metadata": {},
   "outputs": [
    {
     "data": {
      "text/plain": [
       "['Kernels',\n",
       " 'Berkley Algorithm',\n",
       " 'Locking Strategies',\n",
       " 'Uml',\n",
       " 'Human Aware Ai',\n",
       " 'Regex',\n",
       " 'Extreme Scale Storage Systems',\n",
       " 'Manipulate Rendering',\n",
       " 'Amazon Dynamo']"
      ]
     },
     "execution_count": 11,
     "metadata": {},
     "output_type": "execute_result"
    }
   ],
   "source": [
    "all_acquired_skills = get_all_acquired_skills(courses_df)\n",
    "list(all_acquired_skills)[0:9]"
   ]
  },
  {
   "cell_type": "markdown",
   "id": "66742c14-1ce9-491f-bf80-3a33327ee422",
   "metadata": {},
   "source": [
    "### Create Corpus for CSU Courses "
   ]
  },
  {
   "cell_type": "code",
   "execution_count": 12,
   "id": "0ff1e497-ed7c-4964-9827-994bbbe65315",
   "metadata": {},
   "outputs": [
    {
     "data": {
      "text/plain": [
       "'{\\n    \"id\": \"csu_course_0\",\\n    \"title\": \"CS462\",\\n    \"text\": \"Skills: 3D Modeling, Animations, Assigning 3D Object Properties, Blender, Calculating Lights, Shades, And, Camera Rendering, Character Animation, Character Design, Collisions, Constructing 3D Scenes, Design 3D, Develop 3D, Event Triggering, Finite State Machine, Fourier Transform, Game Design, Geometric Image Manipulation, Human Aware Ai, Immersive 3D Worlds, Implementing Animation To Chara, Implementing Movement To Charac, Manipulate Lighting, Manipulate Rendering, Manipulating 3D Object Properti, Movement, Principles Of Lighting, Principles Of Rendering, Real Time Rendering Pipeline, Scene Composition, Scene Layout, Scripting Interactive Behaviors, Scripting Interactive Elements, Tangent Space, Unity, Vectors\",\\n    \"metadata\": {\\n        \"course_name\": \"CS462\",\\n        \"skills_acquired\": [\\n            \"3D Modeling\",\\n            \"Animations\",\\n            \"Assigning 3D Object Properties\",\\n            \"Blender\",\\n            \"Calculating Lights, Shades, And\",\\n            \"Camera Rendering\",\\n            \"Character Animation\",\\n            \"Character Design\",\\n            \"Collisions\",\\n            \"Constructing 3D Scenes\",\\n            \"Design 3D\",\\n            \"Develop 3D\",\\n            \"Event Triggering\",\\n            \"Finite State Machine\",\\n            \"Fourier Transform\",\\n            \"Game Design\",\\n            \"Geometric Image Manipulation\",\\n            \"Human Aware Ai\",\\n            \"Immersive 3D Worlds\",\\n            \"Implementing Animation To Chara\",\\n            \"Implementing Movement To Charac\",\\n            \"Manipulate Lighting\",\\n            \"Manipulate Rendering\",\\n            \"Manipulating 3D Object Properti\",\\n            \"Movement\",\\n            \"Principles Of Lighting\",\\n            \"Principles Of Rendering\",\\n            \"Real Time Rendering Pipeline\",\\n            \"Scene Composition\",\\n            \"Scene Layout\",\\n            \"Scripting Interactive Behaviors\",\\n            \"Scripting Interactive Elements\",\\n            \"Tangent Space\",\\n            \"Unity\",\\n            \"Vectors\"\\n        ]\\n    }\\n}'"
      ]
     },
     "execution_count": 12,
     "metadata": {},
     "output_type": "execute_result"
    }
   ],
   "source": [
    "def create_corpus(courses_df):\n",
    "    corpus = []\n",
    "    for idx, row in courses_df.iterrows():\n",
    "        document = {\n",
    "            \"id\": f\"csu_course_{idx}\",\n",
    "            \"title\": row['Courses'],\n",
    "            \"text\": f\"Skills: {', '.join(row['Skills'])}\",\n",
    "            \"metadata\": {\"course_name\": row['Courses'], \"skills_acquired\": row['Skills']}\n",
    "        }\n",
    "        corpus.append(document)\n",
    "    return corpus\n",
    "\n",
    "\n",
    "courses_corpus = create_corpus(courses_df)\n",
    "\n",
    "with open(\"data/dpr_course_corpus.json\", \"w\") as f:\n",
    "    json.dump(courses_corpus, f, indent=4)\n",
    "\n",
    "json.dumps(courses_corpus[0], indent=4)"
   ]
  },
  {
   "cell_type": "markdown",
   "id": "3651e0b4-54bc-4afd-bcd6-c255be73c113",
   "metadata": {},
   "source": [
    "### Create the Training Dataset"
   ]
  },
  {
   "cell_type": "code",
   "execution_count": 13,
   "id": "269fac24",
   "metadata": {},
   "outputs": [],
   "source": [
    "def all_class_comparison(jobs_df, courses_df, all_acquired_skills):\n",
    "    training_data = []\n",
    "    context = \"\\n\".join([f\"Course: {course} -- Skills: {', '.join(skills)}\"\n",
    "                        for course, skills in zip(courses_df[\"Courses\"], courses_df[\"Skills\"])])\n",
    "\n",
    "    for _, job in jobs_df.iterrows():\n",
    "        job_text = f\"Job Title: {job['Job_Title']} -- Job Description: {job['Job_Description']}\"\n",
    "        job_skills = set(job[\"Required_Skills\"])\n",
    "\n",
    "        missing_skills = job_skills - all_acquired_skills\n",
    "\n",
    "        training_data.append({\n",
    "            'question': job_text,\n",
    "            'context': context,\n",
    "            'answer': \" \".join(list(missing_skills))\n",
    "        })\n",
    "\n",
    "    return training_data"
   ]
  },
  {
   "cell_type": "code",
   "execution_count": 14,
   "id": "5f09a5e3",
   "metadata": {},
   "outputs": [],
   "source": [
    "def compare_individual_course(jobs_df, courses_df):\n",
    "    training_data = []\n",
    "     \n",
    "    for _, job in jobs_df.iterrows():\n",
    "        job_text = f\"Job Title: {job['Job_Title']} -- Job Description: {job['Job_Description']}\"\n",
    "        job_skills = set(job['Required_Skills'])  \n",
    "        \n",
    "        for _, course in courses_df.iterrows():\n",
    "            course_name = course['Courses']\n",
    "            course_skills = set(course['Skills'])  \n",
    "            \n",
    "            missing_skills = job_skills - course_skills\n",
    "            context = f\"Course: {course_name} -- Skills: {', '.join(course_skills)}\"\n",
    "\n",
    "            if missing_skills == job_skills:\n",
    "                training_data.append({\n",
    "                    'query': job_text,\n",
    "                    'context': context,\n",
    "                    'answer': \" \".join(list(job_skills))\n",
    "                })\n",
    "            elif len(missing_skills) == 0:\n",
    "                training_data.append({\n",
    "                    'query': job_text,\n",
    "                    'context': context,\n",
    "                    'answer': \"\"\n",
    "                })\n",
    "            else:\n",
    "                training_data.append({\n",
    "                    'query': job_text,\n",
    "                    'context': context,\n",
    "                    'answer': \" \".join(list(missing_skills))\n",
    "                })\n",
    "\n",
    "    return training_data"
   ]
  },
  {
   "cell_type": "code",
   "execution_count": 15,
   "id": "0409059b-96c8-471c-9b16-c9d298525467",
   "metadata": {},
   "outputs": [],
   "source": [
    "def create_schedule_data(jobs_df, schedules):\n",
    "    training_data = []\n",
    "\n",
    "    for _, job in jobs_df.iterrows():\n",
    "        job_text = f\"Job Title: {job['Job_Title']} -- Job Description: {job['Job_Description']}\"\n",
    "        job_skills = set(job[\"Required_Skills\"])\n",
    "\n",
    "        for sched in schedules:\n",
    "            context = \"\\n\".join([f\"Course: {course} -- Skills: {', '.join(skills)}\"\n",
    "                        for course, skills in zip(sched[\"Courses\"], sched[\"Skills\"])])\n",
    "            sched_skills = [item for sublist in sched[\"Skills\"].tolist() for item in sublist]\n",
    "            missing_skills = job_skills - set(sched_skills)\n",
    "\n",
    "            if missing_skills == job_skills:\n",
    "                training_data.append({\n",
    "                    'query': job_text,\n",
    "                    'context': context,\n",
    "                    'answer': \" \".join(list(job_skills))\n",
    "                })\n",
    "            elif len(missing_skills) == 0:\n",
    "                training_data.append({\n",
    "                    'query': job_text,\n",
    "                    'context': context,\n",
    "                    'answer': \" \"\n",
    "                })\n",
    "            else:\n",
    "                training_data.append({\n",
    "                    'query': job_text,\n",
    "                    'context': context,\n",
    "                    'answer': \" \".join(list(missing_skills))\n",
    "                })\n",
    "\n",
    "    return training_data\n",
    "\n",
    "\n",
    "def get_courseloads(jobs_df, courses_df, number_of_schedules=20):\n",
    "    core_classes = ['CS150', 'CS164', 'CS152', 'CS162', 'CS201', 'CS165', 'CS220', \n",
    "                    'CS270', 'CS250', 'CS314', 'CS370', 'CS320', 'CS214']\n",
    "    \n",
    "    elective_courses_df = courses_df[~courses_df['Courses'].isin(core_classes)]\n",
    "\n",
    "    schedules_df = []\n",
    "    used_schedules = set()\n",
    "\n",
    "    while len(schedules_df) < number_of_schedules:\n",
    "        l_4_courses = elective_courses_df[elective_courses_df['Courses'].str.startswith('CS4')]\n",
    "        l_3_4_courses = elective_courses_df[elective_courses_df['Courses'].str.startswith('CS3') | elective_courses_df['Courses'].str.startswith('CS4')]\n",
    "        other_courses = elective_courses_df[~elective_courses_df['Courses'].str.startswith('CS3') & ~elective_courses_df['Courses'].str.startswith('CS4')]\n",
    "\n",
    "        l_4_sample = random.sample(l_4_courses['Courses'].tolist(), 2)\n",
    "\n",
    "        l_3_4_filtered = l_3_4_courses[~l_3_4_courses['Courses'].isin(l_4_sample)]\n",
    "        l_3_4_sample = random.sample(l_3_4_filtered['Courses'].tolist(), 2)\n",
    "\n",
    "        all_sampled_courses = l_4_sample + l_3_4_sample\n",
    "        other_courses_filtered = other_courses[~other_courses['Courses'].isin(all_sampled_courses)]\n",
    "        other_sample = random.sample(other_courses_filtered['Courses'].tolist(), 1)\n",
    "\n",
    "        sched_courses = core_classes + l_4_sample + l_3_4_sample + other_sample\n",
    "        sched_df = courses_df[courses_df['Courses'].isin(sched_courses)].copy()\n",
    "\n",
    "        sched_tuple = tuple(sorted(sched_df['Courses'].tolist()))\n",
    "        if sched_tuple not in used_schedules:\n",
    "            schedules_df.append(sched_df)\n",
    "            used_schedules.add(sched_tuple)\n",
    "\n",
    "    training_data = create_schedule_data(jobs_df, schedules_df)\n",
    "\n",
    "    return training_data"
   ]
  },
  {
   "cell_type": "code",
   "execution_count": 16,
   "id": "37f5a596",
   "metadata": {},
   "outputs": [
    {
     "name": "stdout",
     "output_type": "stream",
     "text": [
      "All: {'question': \"Job Title: Yahoo_Software_Dev_Engineer -- Job Description: Who We're Looking For- Junior Software Engineer We hire engineers who love the web, but can see its cracks and its future, too. We look for people who are exceptionally who are exceptionally imaginative, collaborative, and truly excited about tech. Our DSP Reporting team is currently looking for talented full-stack engineers to design, implement, and support robust, scalable, and high-quality reporting solutions Your Responsibilities - Develop and enhance a state-of-the-art reporting and analytics platform. - Build intuitive front-end UIs for reporting and analytics using React. - Develop microservices to power reporting and analytics solutions. - Write clean, maintainable, and performant code, including unit tests and refactoring when needed. - Collaborate with designers and developers to define and deliver new features. - Participate in system architecture reviews, code reviews, performance tuning, and production support. - Own and deliver projects ranging from small must-do tasks to large-scale initiatives. - Influence technical direction, best practices, product decisions, and team processes. Your voice matters! What You Bring: - Experience in fast-paced, highly technical environments. - Strong knowledge of JavaScript and React. - Proficiency in Java or Scala. - Good understanding of SQL / NoSQL databases. - Experience with the Spring Framework. - Proven ability to build and maintain large-scale systems. - Strong coding skills with a focus on clean, efficient, and scalable production code. - Excellent communication, interpersonal, and problem-solving skills. - Passion for data and analytics, with a drive to build products that users can't live without. - Min 2-3 years of experience - M.S. or B.S. in Computer Science, Engineering, or a related field Bonus Skills (Nice to Have): - Experience with public clouds (AWS or GCP). - Familiarity with Kubernetes. - Knowledge of MongoDB, Elasticsearch, RabbitMQ, or Apache Druid.\", 'context': \"Course: CS462 -- Skills: 3D Modeling, Animations, Assigning 3D Object Properties, Blender, Calculating Lights, Shades, And, Camera Rendering, Character Animation, Character Design, Collisions, Constructing 3D Scenes, Design 3D, Develop 3D, Event Triggering, Finite State Machine, Fourier Transform, Game Design, Geometric Image Manipulation, Human Aware Ai, Immersive 3D Worlds, Implementing Animation To Chara, Implementing Movement To Charac, Manipulate Lighting, Manipulate Rendering, Manipulating 3D Object Properti, Movement, Principles Of Lighting, Principles Of Rendering, Real Time Rendering Pipeline, Scene Composition, Scene Layout, Scripting Interactive Behaviors, Scripting Interactive Elements, Tangent Space, Unity, Vectors\\nCourse: CS314 -- Skills: Agile, Black Box Testing, Burndown Charts, Clean Code, Cmmi, Code Climate, Code Quality, Communication, Compatability Standards, Concurrency, Configuration Management, Continuous Integration, Databases, Development Environments, Devops, Docker, Docker Container, Establishing Interpersonal Rela, Git, Github, Github Actions, Github Projects, Github Repository, Individual Metrics, Integration Tests, Intellij, Java, Java Concurrency, Java Spark, Json, Junit, Kml, Linux, Mariadb, Maven, Networking, Npm, Optimization, Peer Evaluation, Peer Review, Port Forwarding, Postman, Problem Solving, Product Integration, Project Management, Project Planning, Refactoring, Remote Development, Rest Api, Retrospectives, Scrum, Slack, Slf4J, Software Development Practices, Source Control, Sprint Planning, Sql, Story Boards, Story Sizing, Task Breakdown, Team Development Experience, Team Diversity, Team Metrics, Teamwork, Test Driven Development, Tuckman'S Model, Unix, Use Case Testing, Verification, VS Code, Webpack, White Box Testing\\nCourse: CS165 -- Skills: Algorithms, Assertions, B+ Trees, Binary Search Trees, Black Box Testing, Branching Recursion, Data Structures, Dequeues, Expression Trees, Generics, Graph, Hashmap, Infix, Inheritance, Java, Linkedlists, Object Oriented Principles, Object Oriented Programming, Pcre, Polymorphism, Postfix, Prefix, Priority Queues, Problem Solving, Queues, Regex, Stack, Unit Testing\\nCourse: CS201 -- Skills: Argument Construction, Computer Solution Designing, Computer Solution Implementatio, Computer Solution Operations, Decision Making, Ethical Dilemma Analysis, Ethical Dilemma Problem Solving, Ethics Analysis, Legal Obligations, Moral Obligations, Philosophy, Professional Code Of Ethics\\nCourse: CS370 -- Skills: Commercial Operating Systems, Containers, Deadlocks, Deadlocks Management, Design Threaded Programs, File System Architecture, Interprocess Communication, Kernel Threads, Memory Management, Open Source Operating Systems, Operating Systems, Process Synchronization, Processes Management, Resource Management, Scheduling Algorithms, Storage Architecture, Symmetric Multiprocessing, Synchronization, Task Synchronization, Thread Management, Threads, Type-1 Hypervisors, Type-2 Hypervisors, User Threads\\nCourse: CS150 -- Skills: Conditionals, Data Analysis, Data Visualization, Dictionaries, Functions, Hcc, Html, I O Console, I O File, Libraries, Lists, Loops, Operator, Privacy, Python, Research, Research Design, Security, Sets\\nCourse: CS110 -- Skills: Data Analysis, Data Manipulation, Data Visualization, Hardware, Privacy, Research, Security\\nCourse: CS455 -- Skills: Abstraction, Algorithms Underpinning P2P Sys, Amazon Dynamo, Architectural Styles For Distri, Berkley Algorithm, Bittorrent, Brewer'S Cap Theorem, Build Distributed Systems, Build Scalable Servers, Casual Consistency, Central-Server Algorithm, Centralized Single Cpu Systems, Chord, Clock Synchronization In Distri, Combiner Functions, Compound Actions, Concurrency Primitives, Concurrent Collections, Concurrent Programming, Conditions Requirements For Dis, Confinement, Consensus, Consistency, Consistency Protocol, Consistent Ordering Of Operatio, Core Architecture Framework, Cristian'S Algorithm, Data And Client Centric Consist, Data Synchronization, Design And Build Distrubuted Fa, Design Cloud Scale Storage Syst, Design Efficient Data Represent, Design Small Scale Storage Syst, Design Systems That Can Recover, Distributed Coordination, Distributed Deadlock Detection, Distributed Graph Algorithms, Distributed Hash Tables, Distributed Mutual Exclusion, Distributed Objects, Distributed Shared Memory, Election Algorithms, Elections In Wireless Environme, Exclusions, Extreme Scale Storage Systems, Failure Detectors, File System Design, Foundational Issues, Gnutella, Google File System, Grid Computing, Hadoop, Heaps, Hpc, Intrinsic Locks, Intrinsic Reentracy, Lamport'S Clocks, Lazy Evaluations, Locking Strategies, Maekawa Algorithm, Map And Reduce Functions, Mapreduce, Mapreduce Data Flow, Monotonic Read, Monotonic Write, Multivariable Invariants, Multivariable Thread Safety, Napster, Narrow And Wide Transformations, Non-Blocking I O, Overlays, Pair Resilient Distributed Data, Partitioning Functions, Partitioning Schemes, Pastry, Peer To Peer, Performance Considerations, Pipelining Schemes, Race Conditions, Rdbms, Read-Your-Writes, Replica Placements, Resilient Distrubuted Datasets, Ricarat And Agarwala'S Algorith, Ring-Based Algorithm, Scalable Server Design, Scale Entities In Scalable Syst, Sequential Consistency, Sharing Objects, Software Stack, Spark, Stacks, Stateful And Stateless Transfor, Structured Peer To Peer, Synchronization In Wireless Set, Synchronized Collections, Tapestry, Tasks And Split Strategies, Thread Lifecycle, Thread Management, Thread Pools, Thread Safety, Thread-Safe Classes, Time And Global Positioning Sys, Time Synchronization Algorithms, Token Permission Based Approach, Transformations, Unstructured Peer To Peer, Vector And Matrix Clocks, Volunteer Computing, Voting Sets, Windowed Operations, Write Mapreduce Programs That E\\nCourse: CS470 - Modules -- Skills: Accelerators, Activation Records, Analysts Memory Heirarchy, Assembly, Cache, Combination Circuits, Custom Accellerators, Datapaths, Design Memory Heirarchy, Disk Memory Heirarchy, Elements Of Compilation, Implementation Memory Heirarchy, Instruction Set Processors, Instruction Set Processors Micr, Pipelining, Prefetching Data, Prefetching Instructions, Ram Memory Heirarchy, Rationale Memory, Register Transfer Notation, Registers, Sequential Circuits, Ssd Memory Heirarchy, Stack Frame, State Machine, Structure Memory, Systolic Matric Multipliers\\nCourse: CS453 -- Skills: Activation Records, Asm Code Generation, Ast Lowering, Ast Translation, Compiler Algorithms, Compiler Back-End Design, Compiler Construction, Compiler Front-End Design, Compiler Middle-End Design, Compiler Testing, Control Flow Analysis, Dataflow Analysis, Develope A Compiler From Java, Develope A Compiler From Mips, Grammars, Instructor Scheduling, Intermediate Representation Con, Lexical Analysis, Linear Scan Algorithm, Liveness Analysis, Ll Parsing, Lr Bison, Lr Flex, Lr Parsing, Mips Assembly, Parsers, Register Allocation, Semantic Analysis, Simd Vectorization, Translation, Type Analysis, Type Checking\\nCourse: CS425 -- Skills: Algorithm Implementation On Bio, Bioinformatics, Biological Data Analysis, Deep Learning, Genomic Assembly Sequence, Machine Learning, Motif Finding, Predicting Protein-Coding Regio\\nCourse: CS435 -- Skills: Big Data, Big Data Organization, Data Storage Systems, Distributed Storage Architectur, Experience Using Real-World Big, In-Memory Data Analytics, Knowledge Discovery At Scale, Large Scale Data Analysis Frame, Large Scale Data Analysis Model, Scalable Data Abalytics Framewo, Self-Descriptive Data Represent\\nCourse: CS162 -- Skills: Abstraction, Arrays, Assignment, Booleans, Characters, Classes, Conditionals, Encapsulations, Expressions, I O File, Inheritance, Interfaces, Java, Lists, Loops, Object Oriented Programming, Objects, Operator, Polymorphism, Recursion, Sorting, Strings\\nCourse: CS270 -- Skills: Activation Records, Arithmetic Logic Unit, Assembly, Bitwise Operators, C, C++, Circuits, Computer Architecture, Datatype Conversion, Digital Logic, Dynamic Memory Management, Gates, Global Variables, Instruction Set Architectures, Lc3, Logism, Memory Management, Number Formats, Point, Registers, Stack, State Machine, Subroutines, Transistors\\nCourse: CS345 -- Skills: Anaconda, Characterizing Data, Classifier Accuracy, Classifying Data, Conduct Experiments, Convolutional Neural Networks, Cross-Validation, Data Manipulation, Data Representation, Data Visualization, Decision Trees, Derivatives, Dot Products, Ensemble Methods, Experimental Design, Experimental Development, Function Regression, Gradient Descent, Hyperparameters, Hyperplanes, Jupyter Notebook, Keras, Kernels, Linear Regression, Machine Learning, Machine Learning Algorithms, Matplotlib, Matrices, Multiclass Classification, Multivariate Linear Regression, Nearest Neighbors, Neural Networks, Numpy, Overfitting, Pandas, Partial Derivatives, Perceptron, Principle Components Analysis, Python, Regularization, Scikit-Learn, Support Vector Machine, Tensorflow, Validation Sets\\nCourse: CS250 -- Skills: Assembly, B+ Trees, Bits, Boolean Algebra, Boolean Logic, Border Gateway Protocol, Cache, Computer Architecture, Data Structures, Data Structures For Storage Sys, Databases, Datatypes, Distributed Systems, Domain Name System, File Systems, Frameworks, Graphic Processing Unit, Harvard Architectue, Internet Protocol, Logged Structure Merge, Logic Design, Machine Language, Main Memory, Memory Efficientcy, Memory Hierarchy, Memory Management, Nand Gates, Networks, Neuromorphic Computing, Numeric Datatypes, Parallel Systems, Parallelization, Processors, Registers, Signed Unsigned Numbers, Sorted Strings Tables, Storage, Transmission Control Protocol, User Datagram Protocol\\nCourse: CS320 -- Skills: Bipartite Graph, Breadth First, Depth First, Dictionaries, Divide & Conquer, Dynamic Multi-Threading, Dynamic Programming, Graph Algorithm, Greedy Algorithms, Greedy Proofs, Heaps, Heapsort, Knapsack, Line Of Sight Algorithm, Master Theorem, Memoization, Memory-Efficient Knapsack, Minimum Spanning Tree, Non-Deterministic Polynomial Cl, Non-Deterministic Polynomial Co, Orders Of Magnitude, Parallel Algorithms, Parallel Scans, Polynomial Class, Polynomial Time Reduction, Prefix Sums, Python, Recursive Substructure, Shortest Paths, Topological Sort, Tree Algorithm\\nCourse: CS464 -- Skills: Experimental Design, Human Centered Interaction Foun, Human Computer Interaction, Human Computer Interaction Rese, Human Factors, Hypothesis Testing, Interaction Design Principles, Latex, Perception, Principles Of User Experience, Principles Of User Usability, Prototyping, Publishing Research Paper, Qualitiative Analysis, Scientific Foundations, User Centered Interaction Desig, Writing Research Paper\\nCourse: CS440 -- Skills: Analyse Implications Of Ai, Apply Ai To Real-World Problems, Conceptual Frameworks, Deep Learning, Designing, Training, & Evaluati, Ethical And Societal Implicatio, Fundamental Principles Of Ai, Knowledge Representation, Machine Learning Technique, Neural Networks, Practical Aspects Of Artificial, Probabilistic Models, Reasoning, Scikit-Learn, Search Algorithms, Software Artifacs, Software Process Evaluation, Software Process Improvement, Software Processes, Software Product Evaluation, Software Product Improvement, Supervised Learning, Symbolic Reasoning, Tensorflow, Theoretical Aspects Of Artifici\\nCourse: CS458 -- Skills: Blockchain, Consensus Protocols, Cryptocurrency, Cryptographic Algorithms, Decent, Decentralized Exchanges (Uniswa, Distributed Application, Ethereum Virtual Machine, Fault Tolerance, Hyperledger, Iota, Mining Algorithms, Mining Game Theory, Naivechain, Naivecoin, Network Models, Oracles, Proof Of Importance, Proof Of Stake, Proof Of Work, Rchain, React, Smart Contracts, Solidity, Sybil Resistance\\nCourse: CS456 -- Skills: Anonymity, Art Of Invisibility, Attack Surfaces, Computer Log Scanners, Crypto Key Management, Cyber Kill Chain, Cyber Security, Cyber Security Threats, Cyber Security Vulnerabilities, Cyber Threat Intelligence, Cyber-Physical Security, Data Science, Differential Privacy, Dns Over Https, Dns Over Tls, Dns Privacy, Elliptic Curve Crypto, End-To-End Encryption, Homomorphoc Encryption, Https, Incident Response, Log Analysis, Malware Analysis, Malware Detection Using Ml, Malware Relationship Analysis, Owasp, Privacy, Privacy By Design, Privacy Engineering, Privacy Enhancing Technologies, Protecting Digital Data, Protecting Sensitive Data, Quantum Computing, Quantum Cryptography, Securing Data At Rest, Securing Data In Motion, Securing Data-In-Use, Security Testing, Siem Systems, Signal Protocol, Socks, Tls, Vpn, Zero-Knowledge Proofs, Zero-Trust, Zero-Trust Security\\nCourse: CS414 -- Skills: Architechure Design, Backlogs Refinement, Code Idioms, Code Styles, Cohesion, Conceptual Modeling, Coupling, Crc Modeling, Design Modeling, Design Models, Design Patterns, Domain Modeling, Gather Requirements, Inheritance, Interfaces, Object Oriented Analysis, Object Oriented Design, Object Oriented Principles, Problem Analysis, Refactoring, Requirement Breakdown, Requirements Engineering, Retroactives, Software Engineering Ethics, Software Process Models, Story Mapping, Team Development Experience, Team Interaction, Team Project, Test Driven Development\\nCourse: CS457 -- Skills: Arp, Arp Addresses, Bgp, Circuit Switching, Congestion Control, Connected-Oriented Transport, Connectionless Transport, Content Distribution Networks, Cryptography, Data Center Networking, Demultiplexing, Digital Signatures, Distance-Vector, Dns, End-Point Authentication, Error-Corrections, Error-Detection, Ethernet Protocol, Forwarding, Http, Interdomain Routing, Internetworking, Intra-As Routing, Ip Networking Stack, Ip-Anycast, Ipv6, Link Layer Access Control, Link Virtualization, Linked-State, Mac Addresses, Message Integrity, Middleboxes, Multiple Access Links Protocol, Multiplexing, Nat, Netowrk Nfv, Network Application Protocols, Network Architecture, Network Delay, Network Layer Control Plane, Network Layers, Network Loss, Network Sdn, Network Security, Network Throughput, Ospf, P2P File Distribution, Packet Switching, Pv4, Reliable Data Transfer, Routing, Routing Algorithms, Routing Policy, Service Models, Smtp, Socket Programming, Software Defined Networking, Switched Ethernet Mpls, Switched Local Area Networks, Switches, Tcp, Transport Layer Services\\nCourse: CS415 -- Skills: Automatic Test Generation, Control Flow Graphs, Data Flow Criteria, Dbconnector, Fitnesse, Fuzz Testing, Gamification Of Learning, Graph Coverage Criteria, Graph Coverage For Specificatio, Graph Coverage For State Charts, Graph Coverage For Use Cases, Graph Fundamentals, Input Space Partitioning, Junit, Junit Parameterized Classes, Junit Theory, Mocking Concepts, Mockito, Mutation Analysis, Regression Testing, Restcontroller, Selenium, Static Analysis\\nCourse: CS475 -- Skills: Compiling Programs On Clusters, Cuda, Mpi, Openmp, Parallel Program Analysis, Parallel Program Debugging, Parallel Program Design, Parallel Programming\\nCourse: CS110 - Modules -- Skills: Computer Hardware, Computer Input, Computer Output, Computer Security, Computer Software, Computer Storage, Data Analytics, Databases, Digital Identity, Excel, File Management, Mac Os, Mobile Devices, Networking And Connecting To Th, Social Media, Spreadsheets\\nCourse: CS164 -- Skills: 2D Arrays, Abstract Classes, Algorithms, Arraylists, Arrays, Branching, Classes, Code Comprehention, Code Design, Code Reading Analysis, Conditionals, Datatypes, Debugging, Exceptions, File Input, File Output, Git, Github, Ide, Intellij, Interfaces, Java, Java Development Environment, Javadoc, Linux, Logical Operators, Loops, Methods, Obects, Object Oriented Programming, Polymorphism, Problem Solving, Putty, Quality Assurance, Recursion, Searching, Sorting, Ssh, String Manipulation, Strings, Testing, Uml, Version Control, VS Code, Windows\\nCourse: CS152 -- Skills: Algorithms, Data Analysis, Data Visualization, Functions, I O File, Libraries, Logic, Problem Solving\\nCourse: CS220 -- Skills: Anaconda, Big O, Combinations, Counting, Directed Graphs, Functions, Graph, Induction Proof, Jupyter Notebook, Logical Inference, Loop Invariants, Mathematical Proof, Matplotlib, Miniconda, Permutations, Predicate Logic, Propositional Logic, Python, Relations, Sets\\nCourse: CS430 -- Skills: Application Development, Concurrency, Create, Manage, And Optimize Da, Creating Database, Data Modeling, Database Design, Database Guis, Database Recovery, Database Security, Database Systems, E R Diagram, Hash Table, Indexing, Locking, Migrating Databases, Mysql, Normalization, Queries, Query Processing, Relational Algebra, Robust Implementation Of Databa, Sql, Storage Management, Transaction Management, Transactions, Updating Databases\\nCourse: CS214 -- Skills: Agile, Artifact Management, Code Coverage, Coding Standards, Debugging, Documentation, Functional Programming, Git, Individual Software Development, Java, Junit Testing, Memory Efficientcy, Project Management, Project Planning, Refactoring, Software Design, Software Engineering Process, Software Implementation, Software Maintenance, Software Testing, Test Driven Development, Time Efficiency\\nCourse: CS312 -- Skills: Asychronous, Cascading Style Sheets, Databases, Full-Stack Development, Hypertext Markup Language, Javascript, Microservices, Rest Api, Service-Based Architecture, Usability Assessment And Enhanc, User Account Creation, Ux Design, Web Applications\\nCourse: CS445 -- Skills: Classification, Deep Learning, Jupyter Notebook, Multivariable Data, Pattern Classification Algorith, Prediction, Python, Regression Algorithms, Reinforcement Learning Algorith, Scientific Reports, Statistical Analyses, Visualization\\nCourse: CS356 -- Skills: Access Control, Buffer Overflow Attacks, Cryptographic Tools, Database Security, Defensive Programming Technique, Denial Of Service Attacks, Ethical Hacking Experiments, Hacking Demos, Internet Authentication, Intrusion Detection, Malicious Software, Prevention Systems, User Authentication\\nCourse: CS470 -- Skills: Assembly, C Language, Digital Gates, Instruction Set Architectures\", 'answer': 'Software Development Performance optimization Database management Innovation MongoDB Unit testing RabbitMQ Spring Boot SQL Efficiency Apache Druid Coding skills Technical leadership Interpersonal Skills System architecture Code Review Cloud computing Scala JavaScript React.js Elasticsearch Kubernetes Collaboration NoSQL Product Decisions Reporting Production code Development Large-scale systems Problem Solving Skills Analytical skills Public clouds'}\n",
      "\n",
      "Individual: {'query': \"Job Title: Yahoo_Software_Dev_Engineer -- Job Description: Who We're Looking For- Junior Software Engineer We hire engineers who love the web, but can see its cracks and its future, too. We look for people who are exceptionally who are exceptionally imaginative, collaborative, and truly excited about tech. Our DSP Reporting team is currently looking for talented full-stack engineers to design, implement, and support robust, scalable, and high-quality reporting solutions Your Responsibilities - Develop and enhance a state-of-the-art reporting and analytics platform. - Build intuitive front-end UIs for reporting and analytics using React. - Develop microservices to power reporting and analytics solutions. - Write clean, maintainable, and performant code, including unit tests and refactoring when needed. - Collaborate with designers and developers to define and deliver new features. - Participate in system architecture reviews, code reviews, performance tuning, and production support. - Own and deliver projects ranging from small must-do tasks to large-scale initiatives. - Influence technical direction, best practices, product decisions, and team processes. Your voice matters! What You Bring: - Experience in fast-paced, highly technical environments. - Strong knowledge of JavaScript and React. - Proficiency in Java or Scala. - Good understanding of SQL / NoSQL databases. - Experience with the Spring Framework. - Proven ability to build and maintain large-scale systems. - Strong coding skills with a focus on clean, efficient, and scalable production code. - Excellent communication, interpersonal, and problem-solving skills. - Passion for data and analytics, with a drive to build products that users can't live without. - Min 2-3 years of experience - M.S. or B.S. in Computer Science, Engineering, or a related field Bonus Skills (Nice to Have): - Experience with public clouds (AWS or GCP). - Familiarity with Kubernetes. - Knowledge of MongoDB, Elasticsearch, RabbitMQ, or Apache Druid.\", 'context': 'Course: CS470 -- Skills: Instruction Set Architectures, Assembly, C Language, Digital Gates', 'answer': 'Software Development Performance optimization Database management Innovation MongoDB Teamwork Unit testing RabbitMQ Spring Boot SQL Efficiency Apache Druid Coding skills Technical leadership Interpersonal Skills Communication System architecture Code Review Cloud computing Scala JavaScript React.js Elasticsearch Kubernetes Refactoring Collaboration NoSQL Clean Code Product Decisions Reporting Production code Development Microservices Large-scale systems Problem Solving Skills Java Analytical skills Public clouds'}\n",
      "\n",
      "Course load: {'query': \"Job Title: Yahoo_Software_Dev_Engineer -- Job Description: Who We're Looking For- Junior Software Engineer We hire engineers who love the web, but can see its cracks and its future, too. We look for people who are exceptionally who are exceptionally imaginative, collaborative, and truly excited about tech. Our DSP Reporting team is currently looking for talented full-stack engineers to design, implement, and support robust, scalable, and high-quality reporting solutions Your Responsibilities - Develop and enhance a state-of-the-art reporting and analytics platform. - Build intuitive front-end UIs for reporting and analytics using React. - Develop microservices to power reporting and analytics solutions. - Write clean, maintainable, and performant code, including unit tests and refactoring when needed. - Collaborate with designers and developers to define and deliver new features. - Participate in system architecture reviews, code reviews, performance tuning, and production support. - Own and deliver projects ranging from small must-do tasks to large-scale initiatives. - Influence technical direction, best practices, product decisions, and team processes. Your voice matters! What You Bring: - Experience in fast-paced, highly technical environments. - Strong knowledge of JavaScript and React. - Proficiency in Java or Scala. - Good understanding of SQL / NoSQL databases. - Experience with the Spring Framework. - Proven ability to build and maintain large-scale systems. - Strong coding skills with a focus on clean, efficient, and scalable production code. - Excellent communication, interpersonal, and problem-solving skills. - Passion for data and analytics, with a drive to build products that users can't live without. - Min 2-3 years of experience - M.S. or B.S. in Computer Science, Engineering, or a related field Bonus Skills (Nice to Have): - Experience with public clouds (AWS or GCP). - Familiarity with Kubernetes. - Knowledge of MongoDB, Elasticsearch, RabbitMQ, or Apache Druid.\", 'context': \"Course: CS314 -- Skills: Agile, Black Box Testing, Burndown Charts, Clean Code, Cmmi, Code Climate, Code Quality, Communication, Compatability Standards, Concurrency, Configuration Management, Continuous Integration, Databases, Development Environments, Devops, Docker, Docker Container, Establishing Interpersonal Rela, Git, Github, Github Actions, Github Projects, Github Repository, Individual Metrics, Integration Tests, Intellij, Java, Java Concurrency, Java Spark, Json, Junit, Kml, Linux, Mariadb, Maven, Networking, Npm, Optimization, Peer Evaluation, Peer Review, Port Forwarding, Postman, Problem Solving, Product Integration, Project Management, Project Planning, Refactoring, Remote Development, Rest Api, Retrospectives, Scrum, Slack, Slf4J, Software Development Practices, Source Control, Sprint Planning, Sql, Story Boards, Story Sizing, Task Breakdown, Team Development Experience, Team Diversity, Team Metrics, Teamwork, Test Driven Development, Tuckman'S Model, Unix, Use Case Testing, Verification, VS Code, Webpack, White Box Testing\\nCourse: CS165 -- Skills: Algorithms, Assertions, B+ Trees, Binary Search Trees, Black Box Testing, Branching Recursion, Data Structures, Dequeues, Expression Trees, Generics, Graph, Hashmap, Infix, Inheritance, Java, Linkedlists, Object Oriented Principles, Object Oriented Programming, Pcre, Polymorphism, Postfix, Prefix, Priority Queues, Problem Solving, Queues, Regex, Stack, Unit Testing\\nCourse: CS201 -- Skills: Argument Construction, Computer Solution Designing, Computer Solution Implementatio, Computer Solution Operations, Decision Making, Ethical Dilemma Analysis, Ethical Dilemma Problem Solving, Ethics Analysis, Legal Obligations, Moral Obligations, Philosophy, Professional Code Of Ethics\\nCourse: CS370 -- Skills: Commercial Operating Systems, Containers, Deadlocks, Deadlocks Management, Design Threaded Programs, File System Architecture, Interprocess Communication, Kernel Threads, Memory Management, Open Source Operating Systems, Operating Systems, Process Synchronization, Processes Management, Resource Management, Scheduling Algorithms, Storage Architecture, Symmetric Multiprocessing, Synchronization, Task Synchronization, Thread Management, Threads, Type-1 Hypervisors, Type-2 Hypervisors, User Threads\\nCourse: CS150 -- Skills: Conditionals, Data Analysis, Data Visualization, Dictionaries, Functions, Hcc, Html, I O Console, I O File, Libraries, Lists, Loops, Operator, Privacy, Python, Research, Research Design, Security, Sets\\nCourse: CS455 -- Skills: Abstraction, Algorithms Underpinning P2P Sys, Amazon Dynamo, Architectural Styles For Distri, Berkley Algorithm, Bittorrent, Brewer'S Cap Theorem, Build Distributed Systems, Build Scalable Servers, Casual Consistency, Central-Server Algorithm, Centralized Single Cpu Systems, Chord, Clock Synchronization In Distri, Combiner Functions, Compound Actions, Concurrency Primitives, Concurrent Collections, Concurrent Programming, Conditions Requirements For Dis, Confinement, Consensus, Consistency, Consistency Protocol, Consistent Ordering Of Operatio, Core Architecture Framework, Cristian'S Algorithm, Data And Client Centric Consist, Data Synchronization, Design And Build Distrubuted Fa, Design Cloud Scale Storage Syst, Design Efficient Data Represent, Design Small Scale Storage Syst, Design Systems That Can Recover, Distributed Coordination, Distributed Deadlock Detection, Distributed Graph Algorithms, Distributed Hash Tables, Distributed Mutual Exclusion, Distributed Objects, Distributed Shared Memory, Election Algorithms, Elections In Wireless Environme, Exclusions, Extreme Scale Storage Systems, Failure Detectors, File System Design, Foundational Issues, Gnutella, Google File System, Grid Computing, Hadoop, Heaps, Hpc, Intrinsic Locks, Intrinsic Reentracy, Lamport'S Clocks, Lazy Evaluations, Locking Strategies, Maekawa Algorithm, Map And Reduce Functions, Mapreduce, Mapreduce Data Flow, Monotonic Read, Monotonic Write, Multivariable Invariants, Multivariable Thread Safety, Napster, Narrow And Wide Transformations, Non-Blocking I O, Overlays, Pair Resilient Distributed Data, Partitioning Functions, Partitioning Schemes, Pastry, Peer To Peer, Performance Considerations, Pipelining Schemes, Race Conditions, Rdbms, Read-Your-Writes, Replica Placements, Resilient Distrubuted Datasets, Ricarat And Agarwala'S Algorith, Ring-Based Algorithm, Scalable Server Design, Scale Entities In Scalable Syst, Sequential Consistency, Sharing Objects, Software Stack, Spark, Stacks, Stateful And Stateless Transfor, Structured Peer To Peer, Synchronization In Wireless Set, Synchronized Collections, Tapestry, Tasks And Split Strategies, Thread Lifecycle, Thread Management, Thread Pools, Thread Safety, Thread-Safe Classes, Time And Global Positioning Sys, Time Synchronization Algorithms, Token Permission Based Approach, Transformations, Unstructured Peer To Peer, Vector And Matrix Clocks, Volunteer Computing, Voting Sets, Windowed Operations, Write Mapreduce Programs That E\\nCourse: CS425 -- Skills: Algorithm Implementation On Bio, Bioinformatics, Biological Data Analysis, Deep Learning, Genomic Assembly Sequence, Machine Learning, Motif Finding, Predicting Protein-Coding Regio\\nCourse: CS162 -- Skills: Abstraction, Arrays, Assignment, Booleans, Characters, Classes, Conditionals, Encapsulations, Expressions, I O File, Inheritance, Interfaces, Java, Lists, Loops, Object Oriented Programming, Objects, Operator, Polymorphism, Recursion, Sorting, Strings\\nCourse: CS270 -- Skills: Activation Records, Arithmetic Logic Unit, Assembly, Bitwise Operators, C, C++, Circuits, Computer Architecture, Datatype Conversion, Digital Logic, Dynamic Memory Management, Gates, Global Variables, Instruction Set Architectures, Lc3, Logism, Memory Management, Number Formats, Point, Registers, Stack, State Machine, Subroutines, Transistors\\nCourse: CS250 -- Skills: Assembly, B+ Trees, Bits, Boolean Algebra, Boolean Logic, Border Gateway Protocol, Cache, Computer Architecture, Data Structures, Data Structures For Storage Sys, Databases, Datatypes, Distributed Systems, Domain Name System, File Systems, Frameworks, Graphic Processing Unit, Harvard Architectue, Internet Protocol, Logged Structure Merge, Logic Design, Machine Language, Main Memory, Memory Efficientcy, Memory Hierarchy, Memory Management, Nand Gates, Networks, Neuromorphic Computing, Numeric Datatypes, Parallel Systems, Parallelization, Processors, Registers, Signed Unsigned Numbers, Sorted Strings Tables, Storage, Transmission Control Protocol, User Datagram Protocol\\nCourse: CS320 -- Skills: Bipartite Graph, Breadth First, Depth First, Dictionaries, Divide & Conquer, Dynamic Multi-Threading, Dynamic Programming, Graph Algorithm, Greedy Algorithms, Greedy Proofs, Heaps, Heapsort, Knapsack, Line Of Sight Algorithm, Master Theorem, Memoization, Memory-Efficient Knapsack, Minimum Spanning Tree, Non-Deterministic Polynomial Cl, Non-Deterministic Polynomial Co, Orders Of Magnitude, Parallel Algorithms, Parallel Scans, Polynomial Class, Polynomial Time Reduction, Prefix Sums, Python, Recursive Substructure, Shortest Paths, Topological Sort, Tree Algorithm\\nCourse: CS415 -- Skills: Automatic Test Generation, Control Flow Graphs, Data Flow Criteria, Dbconnector, Fitnesse, Fuzz Testing, Gamification Of Learning, Graph Coverage Criteria, Graph Coverage For Specificatio, Graph Coverage For State Charts, Graph Coverage For Use Cases, Graph Fundamentals, Input Space Partitioning, Junit, Junit Parameterized Classes, Junit Theory, Mocking Concepts, Mockito, Mutation Analysis, Regression Testing, Restcontroller, Selenium, Static Analysis\\nCourse: CS110 - Modules -- Skills: Computer Hardware, Computer Input, Computer Output, Computer Security, Computer Software, Computer Storage, Data Analytics, Databases, Digital Identity, Excel, File Management, Mac Os, Mobile Devices, Networking And Connecting To Th, Social Media, Spreadsheets\\nCourse: CS164 -- Skills: 2D Arrays, Abstract Classes, Algorithms, Arraylists, Arrays, Branching, Classes, Code Comprehention, Code Design, Code Reading Analysis, Conditionals, Datatypes, Debugging, Exceptions, File Input, File Output, Git, Github, Ide, Intellij, Interfaces, Java, Java Development Environment, Javadoc, Linux, Logical Operators, Loops, Methods, Obects, Object Oriented Programming, Polymorphism, Problem Solving, Putty, Quality Assurance, Recursion, Searching, Sorting, Ssh, String Manipulation, Strings, Testing, Uml, Version Control, VS Code, Windows\\nCourse: CS152 -- Skills: Algorithms, Data Analysis, Data Visualization, Functions, I O File, Libraries, Logic, Problem Solving\\nCourse: CS220 -- Skills: Anaconda, Big O, Combinations, Counting, Directed Graphs, Functions, Graph, Induction Proof, Jupyter Notebook, Logical Inference, Loop Invariants, Mathematical Proof, Matplotlib, Miniconda, Permutations, Predicate Logic, Propositional Logic, Python, Relations, Sets\\nCourse: CS214 -- Skills: Agile, Artifact Management, Code Coverage, Coding Standards, Debugging, Documentation, Functional Programming, Git, Individual Software Development, Java, Junit Testing, Memory Efficientcy, Project Management, Project Planning, Refactoring, Software Design, Software Engineering Process, Software Implementation, Software Maintenance, Software Testing, Test Driven Development, Time Efficiency\\nCourse: CS470 -- Skills: Assembly, C Language, Digital Gates, Instruction Set Architectures\", 'answer': 'Software Development Performance optimization Database management Innovation MongoDB Unit testing RabbitMQ Spring Boot SQL Efficiency Apache Druid Coding skills Technical leadership Interpersonal Skills System architecture Code Review Cloud computing Scala JavaScript React.js Elasticsearch Kubernetes Analytical skills Collaboration NoSQL Product Decisions Reporting Production code Development Large-scale systems Problem Solving Skills Microservices Public clouds'}\n",
      "\n"
     ]
    }
   ],
   "source": [
    "def create_training_data(jobs_df, courses_df, all_acquired_skills, num_negatives=4):\n",
    "    training_data = all_class_comparison(jobs_df, courses_df, all_acquired_skills)\n",
    "    print(f\"All: {training_data[-1]}\\n\")\n",
    "\n",
    "    training_data = training_data + compare_individual_course(jobs_df, courses_df)\n",
    "    print(f\"Individual: {training_data[-1]}\\n\")\n",
    "    \n",
    "    training_data = training_data + get_courseloads(jobs_df, courses_df)\n",
    "    print(f\"Course load: {training_data[-1]}\\n\")\n",
    "\n",
    "    return training_data\n",
    "\n",
    "training_data = create_training_data(jobs_df, courses_df, all_acquired_skills)"
   ]
  },
  {
   "cell_type": "code",
   "execution_count": 17,
   "id": "056cac7d",
   "metadata": {},
   "outputs": [
    {
     "name": "stdout",
     "output_type": "stream",
     "text": [
      "(4424, 3)\n"
     ]
    },
    {
     "data": {
      "text/plain": [
       "23"
      ]
     },
     "execution_count": 17,
     "metadata": {},
     "output_type": "execute_result"
    }
   ],
   "source": [
    "td_df = pd.DataFrame(training_data, columns=['question', 'context', 'answer'])\n",
    "print(td_df.shape)\n",
    "\n",
    "td_df.to_csv('data/dpr_training_data.csv', index=False)\n",
    "\n",
    "del training_data\n",
    "gc.collect()"
   ]
  },
  {
   "cell_type": "code",
   "execution_count": 18,
   "id": "f08dc859",
   "metadata": {},
   "outputs": [
    {
     "data": {
      "text/html": [
       "<div>\n",
       "<style scoped>\n",
       "    .dataframe tbody tr th:only-of-type {\n",
       "        vertical-align: middle;\n",
       "    }\n",
       "\n",
       "    .dataframe tbody tr th {\n",
       "        vertical-align: top;\n",
       "    }\n",
       "\n",
       "    .dataframe thead th {\n",
       "        text-align: right;\n",
       "    }\n",
       "</style>\n",
       "<table border=\"1\" class=\"dataframe\">\n",
       "  <thead>\n",
       "    <tr style=\"text-align: right;\">\n",
       "      <th></th>\n",
       "      <th>question</th>\n",
       "      <th>context</th>\n",
       "      <th>answer</th>\n",
       "    </tr>\n",
       "  </thead>\n",
       "  <tbody>\n",
       "    <tr>\n",
       "      <th>0</th>\n",
       "      <td>Job Title: Adobe_AI_ML_Engineer -- Job Description: The Opportunity?Adobe is seeking talented and passionate Software Engineer across all organizations to help plan, design, develop, and test software systems or applications for software enhancements and new products used in local, networked, cloud-based or Internet-related computer programs and products. What You'll Do - Develop high-performance, reliable, testable and maintainable code. - Participating in all aspects of software development activities, including design, coding, code review, testing, bug fixing, and code/API documentation. - Collaborate with engineers and participate in daily or weekly stand ups and meetings. - Grow with the support of your team and help others on the team grow by providing thoughtful feedback and uplifting those around you. - Work both independently and collaboratively within a fast-paced development team, with clear, positive, and constructive communication. - Additional responsibilities as needed based on specific role or team What You Need to Succeed - Bachelor's or Master's in Computer Science, Computer Engineering, Electrical Engineer, or equivalent experience required - 1-3+ years of experience in specific skill/field(s) - Proficient in programming languages such as Ruby, Python, Javascript, etc. - Strong technical background with analytical and problem-solving skills - Familiarity with client-side frameworks and libraries like React, Vue, Angular, Web Components. - Excellent problem solving and debugging skills, and direct experience with DevOps in a SaaS environment is a plus. - Customer focused and have real passion for quality and engineering excellence at scale. - Excellent communication and collaboration skills.</td>\n",
       "      <td>Course: CS462 -- Skills: 3D Modeling, Animations, Assigning 3D Object Properties, Blender, Calculating Lights, Shades, And, Camera Rendering, Character Animation, Character Design, Collisions, Constructing 3D Scenes, Design 3D, Develop 3D, Event Triggering, Finite State Machine, Fourier Transform, Game Design, Geometric Image Manipulation, Human Aware Ai, Immersive 3D Worlds, Implementing Animation To Chara, Implementing Movement To Charac, Manipulate Lighting, Manipulate Rendering, Manipulating 3D Object Properti, Movement, Principles Of Lighting, Principles Of Rendering, Real Time Rendering Pipeline, Scene Composition, Scene Layout, Scripting Interactive Behaviors, Scripting Interactive Elements, Tangent Space, Unity, Vectors\\nCourse: CS314 -- Skills: Agile, Black Box Testing, Burndown Charts, Clean Code, Cmmi, Code Climate, Code Quality, Communication, Compatability Standards, Concurrency, Configuration Management, Continuous Integration, Databases, Development Environments, Devops, Docker, Docker Container, Establishing Interpersonal Rela, Git, Github, Github Actions, Github Projects, Github Repository, Individual Metrics, Integration Tests, Intellij, Java, Java Concurrency, Java Spark, Json, Junit, Kml, Linux, Mariadb, Maven, Networking, Npm, Optimization, Peer Evaluation, Peer Review, Port Forwarding, Postman, Problem Solving, Product Integration, Project Management, Project Planning, Refactoring, Remote Development, Rest Api, Retrospectives, Scrum, Slack, Slf4J, Software Development Practices, Source Control, Sprint Planning, Sql, Story Boards, Story Sizing, Task Breakdown, Team Development Experience, Team Diversity, Team Metrics, Teamwork, Test Driven Development, Tuckman'S Model, Unix, Use Case Testing, Verification, VS Code, Webpack, White Box Testing\\nCourse: CS165 -- Skills: Algorithms, Assertions, B+ Trees, Binary Search Trees, Black Box Testing, Branching Recursion, Data Structures, Dequeues, Expression Trees, Generics, Graph, Hashmap, Infix, Inheritance, Java, Linkedlists, Object Oriented Principles, Object Oriented Programming, Pcre, Polymorphism, Postfix, Prefix, Priority Queues, Problem Solving, Queues, Regex, Stack, Unit Testing\\nCourse: CS201 -- Skills: Argument Construction, Computer Solution Designing, Computer Solution Implementatio, Computer Solution Operations, Decision Making, Ethical Dilemma Analysis, Ethical Dilemma Problem Solving, Ethics Analysis, Legal Obligations, Moral Obligations, Philosophy, Professional Code Of Ethics\\nCourse: CS370 -- Skills: Commercial Operating Systems, Containers, Deadlocks, Deadlocks Management, Design Threaded Programs, File System Architecture, Interprocess Communication, Kernel Threads, Memory Management, Open Source Operating Systems, Operating Systems, Process Synchronization, Processes Management, Resource Management, Scheduling Algorithms, Storage Architecture, Symmetric Multiprocessing, Synchronization, Task Synchronization, Thread Management, Threads, Type-1 Hypervisors, Type-2 Hypervisors, User Threads\\nCourse: CS150 -- Skills: Conditionals, Data Analysis, Data Visualization, Dictionaries, Functions, Hcc, Html, I O Console, I O File, Libraries, Lists, Loops, Operator, Privacy, Python, Research, Research Design, Security, Sets\\nCourse: CS110 -- Skills: Data Analysis, Data Manipulation, Data Visualization, Hardware, Privacy, Research, Security\\nCourse: CS455 -- Skills: Abstraction, Algorithms Underpinning P2P Sys, Amazon Dynamo, Architectural Styles For Distri, Berkley Algorithm, Bittorrent, Brewer'S Cap Theorem, Build Distributed Systems, Build Scalable Servers, Casual Consistency, Central-Server Algorithm, Centralized Single Cpu Systems, Chord, Clock Synchronization In Distri, Combiner Functions, Compound Actions, Concurrency Primitives, Concurrent Collections, Concurrent Programming, Conditions Requirements For Dis, Confinement, Consensus, Consistency, Consistency Protocol, Consistent Ordering Of Operatio, Core Architecture Framework, Cristian'S Algorithm, Data And Client Centric Consist, Data Synchronization, Design And Build Distrubuted Fa, Design Cloud Scale Storage Syst, Design Efficient Data Represent, Design Small Scale Storage Syst, Design Systems That Can Recover, Distributed Coordination, Distributed Deadlock Detection, Distributed Graph Algorithms, Distributed Hash Tables, Distributed Mutual Exclusion, Distributed Objects, Distributed Shared Memory, Election Algorithms, Elections In Wireless Environme, Exclusions, Extreme Scale Storage Systems, Failure Detectors, File System Design, Foundational Issues, Gnutella, Google File System, Grid Computing, Hadoop, Heaps, Hpc, Intrinsic Locks, Intrinsic Reentracy, Lamport'S Clocks, Lazy Evaluations, Locking Strategies, Maekawa Algorithm, Map And Reduce Functions, Mapreduce, Mapreduce Data Flow, Monotonic Read, Monotonic Write, Multivariable Invariants, Multivariable Thread Safety, Napster, Narrow And Wide Transformations, Non-Blocking I O, Overlays, Pair Resilient Distributed Data, Partitioning Functions, Partitioning Schemes, Pastry, Peer To Peer, Performance Considerations, Pipelining Schemes, Race Conditions, Rdbms, Read-Your-Writes, Replica Placements, Resilient Distrubuted Datasets, Ricarat And Agarwala'S Algorith, Ring-Based Algorithm, Scalable Server Design, Scale Entities In Scalable Syst, Sequential Consistency, Sharing Objects, Software Stack, Spark, Stacks, Stateful And Stateless Transfor, Structured Peer To Peer, Synchronization In Wireless Set, Synchronized Collections, Tapestry, Tasks And Split Strategies, Thread Lifecycle, Thread Management, Thread Pools, Thread Safety, Thread-Safe Classes, Time And Global Positioning Sys, Time Synchronization Algorithms, Token Permission Based Approach, Transformations, Unstructured Peer To Peer, Vector And Matrix Clocks, Volunteer Computing, Voting Sets, Windowed Operations, Write Mapreduce Programs That E\\nCourse: CS470 - Modules -- Skills: Accelerators, Activation Records, Analysts Memory Heirarchy, Assembly, Cache, Combination Circuits, Custom Accellerators, Datapaths, Design Memory Heirarchy, Disk Memory Heirarchy, Elements Of Compilation, Implementation Memory Heirarchy, Instruction Set Processors, Instruction Set Processors Micr, Pipelining, Prefetching Data, Prefetching Instructions, Ram Memory Heirarchy, Rationale Memory, Register Transfer Notation, Registers, Sequential Circuits, Ssd Memory Heirarchy, Stack Frame, State Machine, Structure Memory, Systolic Matric Multipliers\\nCourse: CS453 -- Skills: Activation Records, Asm Code Generation, Ast Lowering, Ast Translation, Compiler Algorithms, Compiler Back-End Design, Compiler Construction, Compiler Front-End Design, Compiler Middle-End Design, Compiler Testing, Control Flow Analysis, Dataflow Analysis, Develope A Compiler From Java, Develope A Compiler From Mips, Grammars, Instructor Scheduling, Intermediate Representation Con, Lexical Analysis, Linear Scan Algorithm, Liveness Analysis, Ll Parsing, Lr Bison, Lr Flex, Lr Parsing, Mips Assembly, Parsers, Register Allocation, Semantic Analysis, Simd Vectorization, Translation, Type Analysis, Type Checking\\nCourse: CS425 -- Skills: Algorithm Implementation On Bio, Bioinformatics, Biological Data Analysis, Deep Learning, Genomic Assembly Sequence, Machine Learning, Motif Finding, Predicting Protein-Coding Regio\\nCourse: CS435 -- Skills: Big Data, Big Data Organization, Data Storage Systems, Distributed Storage Architectur, Experience Using Real-World Big, In-Memory Data Analytics, Knowledge Discovery At Scale, Large Scale Data Analysis Frame, Large Scale Data Analysis Model, Scalable Data Abalytics Framewo, Self-Descriptive Data Represent\\nCourse: CS162 -- Skills: Abstraction, Arrays, Assignment, Booleans, Characters, Classes, Conditionals, Encapsulations, Expressions, I O File, Inheritance, Interfaces, Java, Lists, Loops, Object Oriented Programming, Objects, Operator, Polymorphism, Recursion, Sorting, Strings\\nCourse: CS270 -- Skills: Activation Records, Arithmetic Logic Unit, Assembly, Bitwise Operators, C, C++, Circuits, Computer Architecture, Datatype Conversion, Digital Logic, Dynamic Memory Management, Gates, Global Variables, Instruction Set Architectures, Lc3, Logism, Memory Management, Number Formats, Point, Registers, Stack, State Machine, Subroutines, Transistors\\nCourse: CS345 -- Skills: Anaconda, Characterizing Data, Classifier Accuracy, Classifying Data, Conduct Experiments, Convolutional Neural Networks, Cross-Validation, Data Manipulation, Data Representation, Data Visualization, Decision Trees, Derivatives, Dot Products, Ensemble Methods, Experimental Design, Experimental Development, Function Regression, Gradient Descent, Hyperparameters, Hyperplanes, Jupyter Notebook, Keras, Kernels, Linear Regression, Machine Learning, Machine Learning Algorithms, Matplotlib, Matrices, Multiclass Classification, Multivariate Linear Regression, Nearest Neighbors, Neural Networks, Numpy, Overfitting, Pandas, Partial Derivatives, Perceptron, Principle Components Analysis, Python, Regularization, Scikit-Learn, Support Vector Machine, Tensorflow, Validation Sets\\nCourse: CS250 -- Skills: Assembly, B+ Trees, Bits, Boolean Algebra, Boolean Logic, Border Gateway Protocol, Cache, Computer Architecture, Data Structures, Data Structures For Storage Sys, Databases, Datatypes, Distributed Systems, Domain Name System, File Systems, Frameworks, Graphic Processing Unit, Harvard Architectue, Internet Protocol, Logged Structure Merge, Logic Design, Machine Language, Main Memory, Memory Efficientcy, Memory Hierarchy, Memory Management, Nand Gates, Networks, Neuromorphic Computing, Numeric Datatypes, Parallel Systems, Parallelization, Processors, Registers, Signed Unsigned Numbers, Sorted Strings Tables, Storage, Transmission Control Protocol, User Datagram Protocol\\nCourse: CS320 -- Skills: Bipartite Graph, Breadth First, Depth First, Dictionaries, Divide &amp; Conquer, Dynamic Multi-Threading, Dynamic Programming, Graph Algorithm, Greedy Algorithms, Greedy Proofs, Heaps, Heapsort, Knapsack, Line Of Sight Algorithm, Master Theorem, Memoization, Memory-Efficient Knapsack, Minimum Spanning Tree, Non-Deterministic Polynomial Cl, Non-Deterministic Polynomial Co, Orders Of Magnitude, Parallel Algorithms, Parallel Scans, Polynomial Class, Polynomial Time Reduction, Prefix Sums, Python, Recursive Substructure, Shortest Paths, Topological Sort, Tree Algorithm\\nCourse: CS464 -- Skills: Experimental Design, Human Centered Interaction Foun, Human Computer Interaction, Human Computer Interaction Rese, Human Factors, Hypothesis Testing, Interaction Design Principles, Latex, Perception, Principles Of User Experience, Principles Of User Usability, Prototyping, Publishing Research Paper, Qualitiative Analysis, Scientific Foundations, User Centered Interaction Desig, Writing Research Paper\\nCourse: CS440 -- Skills: Analyse Implications Of Ai, Apply Ai To Real-World Problems, Conceptual Frameworks, Deep Learning, Designing, Training, &amp; Evaluati, Ethical And Societal Implicatio, Fundamental Principles Of Ai, Knowledge Representation, Machine Learning Technique, Neural Networks, Practical Aspects Of Artificial, Probabilistic Models, Reasoning, Scikit-Learn, Search Algorithms, Software Artifacs, Software Process Evaluation, Software Process Improvement, Software Processes, Software Product Evaluation, Software Product Improvement, Supervised Learning, Symbolic Reasoning, Tensorflow, Theoretical Aspects Of Artifici\\nCourse: CS458 -- Skills: Blockchain, Consensus Protocols, Cryptocurrency, Cryptographic Algorithms, Decent, Decentralized Exchanges (Uniswa, Distributed Application, Ethereum Virtual Machine, Fault Tolerance, Hyperledger, Iota, Mining Algorithms, Mining Game Theory, Naivechain, Naivecoin, Network Models, Oracles, Proof Of Importance, Proof Of Stake, Proof Of Work, Rchain, React, Smart Contracts, Solidity, Sybil Resistance\\nCourse: CS456 -- Skills: Anonymity, Art Of Invisibility, Attack Surfaces, Computer Log Scanners, Crypto Key Management, Cyber Kill Chain, Cyber Security, Cyber Security Threats, Cyber Security Vulnerabilities, Cyber Threat Intelligence, Cyber-Physical Security, Data Science, Differential Privacy, Dns Over Https, Dns Over Tls, Dns Privacy, Elliptic Curve Crypto, End-To-End Encryption, Homomorphoc Encryption, Https, Incident Response, Log Analysis, Malware Analysis, Malware Detection Using Ml, Malware Relationship Analysis, Owasp, Privacy, Privacy By Design, Privacy Engineering, Privacy Enhancing Technologies, Protecting Digital Data, Protecting Sensitive Data, Quantum Computing, Quantum Cryptography, Securing Data At Rest, Securing Data In Motion, Securing Data-In-Use, Security Testing, Siem Systems, Signal Protocol, Socks, Tls, Vpn, Zero-Knowledge Proofs, Zero-Trust, Zero-Trust Security\\nCourse: CS414 -- Skills: Architechure Design, Backlogs Refinement, Code Idioms, Code Styles, Cohesion, Conceptual Modeling, Coupling, Crc Modeling, Design Modeling, Design Models, Design Patterns, Domain Modeling, Gather Requirements, Inheritance, Interfaces, Object Oriented Analysis, Object Oriented Design, Object Oriented Principles, Problem Analysis, Refactoring, Requirement Breakdown, Requirements Engineering, Retroactives, Software Engineering Ethics, Software Process Models, Story Mapping, Team Development Experience, Team Interaction, Team Project, Test Driven Development\\nCourse: CS457 -- Skills: Arp, Arp Addresses, Bgp, Circuit Switching, Congestion Control, Connected-Oriented Transport, Connectionless Transport, Content Distribution Networks, Cryptography, Data Center Networking, Demultiplexing, Digital Signatures, Distance-Vector, Dns, End-Point Authentication, Error-Corrections, Error-Detection, Ethernet Protocol, Forwarding, Http, Interdomain Routing, Internetworking, Intra-As Routing, Ip Networking Stack, Ip-Anycast, Ipv6, Link Layer Access Control, Link Virtualization, Linked-State, Mac Addresses, Message Integrity, Middleboxes, Multiple Access Links Protocol, Multiplexing, Nat, Netowrk Nfv, Network Application Protocols, Network Architecture, Network Delay, Network Layer Control Plane, Network Layers, Network Loss, Network Sdn, Network Security, Network Throughput, Ospf, P2P File Distribution, Packet Switching, Pv4, Reliable Data Transfer, Routing, Routing Algorithms, Routing Policy, Service Models, Smtp, Socket Programming, Software Defined Networking, Switched Ethernet Mpls, Switched Local Area Networks, Switches, Tcp, Transport Layer Services\\nCourse: CS415 -- Skills: Automatic Test Generation, Control Flow Graphs, Data Flow Criteria, Dbconnector, Fitnesse, Fuzz Testing, Gamification Of Learning, Graph Coverage Criteria, Graph Coverage For Specificatio, Graph Coverage For State Charts, Graph Coverage For Use Cases, Graph Fundamentals, Input Space Partitioning, Junit, Junit Parameterized Classes, Junit Theory, Mocking Concepts, Mockito, Mutation Analysis, Regression Testing, Restcontroller, Selenium, Static Analysis\\nCourse: CS475 -- Skills: Compiling Programs On Clusters, Cuda, Mpi, Openmp, Parallel Program Analysis, Parallel Program Debugging, Parallel Program Design, Parallel Programming\\nCourse: CS110 - Modules -- Skills: Computer Hardware, Computer Input, Computer Output, Computer Security, Computer Software, Computer Storage, Data Analytics, Databases, Digital Identity, Excel, File Management, Mac Os, Mobile Devices, Networking And Connecting To Th, Social Media, Spreadsheets\\nCourse: CS164 -- Skills: 2D Arrays, Abstract Classes, Algorithms, Arraylists, Arrays, Branching, Classes, Code Comprehention, Code Design, Code Reading Analysis, Conditionals, Datatypes, Debugging, Exceptions, File Input, File Output, Git, Github, Ide, Intellij, Interfaces, Java, Java Development Environment, Javadoc, Linux, Logical Operators, Loops, Methods, Obects, Object Oriented Programming, Polymorphism, Problem Solving, Putty, Quality Assurance, Recursion, Searching, Sorting, Ssh, String Manipulation, Strings, Testing, Uml, Version Control, VS Code, Windows\\nCourse: CS152 -- Skills: Algorithms, Data Analysis, Data Visualization, Functions, I O File, Libraries, Logic, Problem Solving\\nCourse: CS220 -- Skills: Anaconda, Big O, Combinations, Counting, Directed Graphs, Functions, Graph, Induction Proof, Jupyter Notebook, Logical Inference, Loop Invariants, Mathematical Proof, Matplotlib, Miniconda, Permutations, Predicate Logic, Propositional Logic, Python, Relations, Sets\\nCourse: CS430 -- Skills: Application Development, Concurrency, Create, Manage, And Optimize Da, Creating Database, Data Modeling, Database Design, Database Guis, Database Recovery, Database Security, Database Systems, E R Diagram, Hash Table, Indexing, Locking, Migrating Databases, Mysql, Normalization, Queries, Query Processing, Relational Algebra, Robust Implementation Of Databa, Sql, Storage Management, Transaction Management, Transactions, Updating Databases\\nCourse: CS214 -- Skills: Agile, Artifact Management, Code Coverage, Coding Standards, Debugging, Documentation, Functional Programming, Git, Individual Software Development, Java, Junit Testing, Memory Efficientcy, Project Management, Project Planning, Refactoring, Software Design, Software Engineering Process, Software Implementation, Software Maintenance, Software Testing, Test Driven Development, Time Efficiency\\nCourse: CS312 -- Skills: Asychronous, Cascading Style Sheets, Databases, Full-Stack Development, Hypertext Markup Language, Javascript, Microservices, Rest Api, Service-Based Architecture, Usability Assessment And Enhanc, User Account Creation, Ux Design, Web Applications\\nCourse: CS445 -- Skills: Classification, Deep Learning, Jupyter Notebook, Multivariable Data, Pattern Classification Algorith, Prediction, Python, Regression Algorithms, Reinforcement Learning Algorith, Scientific Reports, Statistical Analyses, Visualization\\nCourse: CS356 -- Skills: Access Control, Buffer Overflow Attacks, Cryptographic Tools, Database Security, Defensive Programming Technique, Denial Of Service Attacks, Ethical Hacking Experiments, Hacking Demos, Internet Authentication, Intrusion Detection, Malicious Software, Prevention Systems, User Authentication\\nCourse: CS470 -- Skills: Assembly, C Language, Digital Gates, Instruction Set Architectures</td>\n",
       "      <td>Programming DevOps Efficiency Vue Bug fixing Ruby Angular Code Review Customer needs JavaScript Code/API documentation React.js Feedback Planning Collaboration High performance Reliability Front-end frameworks Knowledge sharing Strong communication skills Development Design Problem Solving Skills Analytical skills Maintaining software applications</td>\n",
       "    </tr>\n",
       "  </tbody>\n",
       "</table>\n",
       "</div>"
      ],
      "text/plain": [
       "                                                                                                                                                                                                                                                                                                                                                                                                                                                                                                                                                                                                                                                                                                                                                                                                                                                                                                                                                                                                                                                                                                                                                                                                                                                                                                                                                                                                                                                                                                                                                                                                                                                                                                                                                                                                     question  \\\n",
       "0  Job Title: Adobe_AI_ML_Engineer -- Job Description: The Opportunity?Adobe is seeking talented and passionate Software Engineer across all organizations to help plan, design, develop, and test software systems or applications for software enhancements and new products used in local, networked, cloud-based or Internet-related computer programs and products. What You'll Do - Develop high-performance, reliable, testable and maintainable code. - Participating in all aspects of software development activities, including design, coding, code review, testing, bug fixing, and code/API documentation. - Collaborate with engineers and participate in daily or weekly stand ups and meetings. - Grow with the support of your team and help others on the team grow by providing thoughtful feedback and uplifting those around you. - Work both independently and collaboratively within a fast-paced development team, with clear, positive, and constructive communication. - Additional responsibilities as needed based on specific role or team What You Need to Succeed - Bachelor's or Master's in Computer Science, Computer Engineering, Electrical Engineer, or equivalent experience required - 1-3+ years of experience in specific skill/field(s) - Proficient in programming languages such as Ruby, Python, Javascript, etc. - Strong technical background with analytical and problem-solving skills - Familiarity with client-side frameworks and libraries like React, Vue, Angular, Web Components. - Excellent problem solving and debugging skills, and direct experience with DevOps in a SaaS environment is a plus. - Customer focused and have real passion for quality and engineering excellence at scale. - Excellent communication and collaboration skills.   \n",
       "\n",
       "                                                                                                                                                                                                                                                                                                                                                                                                                                                                                                                                                                                                                                                                                                                                                                                                                                                                                                                                                                                                                                                                                                                                                                                                                                                                                                                                                                                                                                                                                                                                                                                                                                                                                                                                                                                                                                                                                                                                                                                                                                                                                                                                                                                                                                                                                                                                                                                                                                                                                                                                                                                                                                                                                                                                                                                                                                                                                                                                                                                                                                                                                                                                                                                                                                                                                                                                                                                                                                                                                                                                                                                                                                                                                                                                                                                                                                                                                                                                                                                                                                                                                                                                                                                                                                                                                                                                                                                                                                                                                                                                                                                                                                                                                                                                                                                                                                                                                                                                                                                                                                                                                                                                                                                                                                                                                                                                                                                                                                                                                                                                                                                                                                                                                                                                                                                                                                                                                                                                                                                                                                                                                                                                                                                                                                                                                                                                                                                                                                                                                                                                                                                                                                                                                                                                                                                                                                                                                                                                                                                                                                                                                                                                                                                                                                                                                                                                                                                                                                                                                                                                                                                                                                                                                                                                                                                                                                                                                                                                                                                                                                                                                                                                                                                                                                                                                                                                                                                                                                                                                                                                                                                                                                                                                                                                                                                                                                                                                                                                                                                                                                                                                                                                                                                                                                                                                                                                                                                                                                                                                                                                                                                                                                                                                                                                                                                                                                                                                                                                                                                                                                                                                                                                                                                                                                                                                                                                                                                                                                                                                                                                                                                                                                                                                                                                                                                                                                                                                                                                                                                                                                                                                                                                                                                                                                                                                                                                                                                                                                                                                                                                                                                                                                                                                                                                                                                                                                                                                                                                                                                                                                                                                                                                                                                                                                                                                                                                                                                                                                                                                                                                                                                                                                                                                                                                                                                                                                                                                                                                                                                                                                                                                                                                                                                                                                                                                                                                                                                                                                                                                                                                                                                                                                                                                                                                                                                                                                                                                                                                                                                                                                                                                                                                                                                                                                                                                                                                                                                                                                                                                                                                                                                                                                                                                                                                                                                                                                                                                                                                                                                                                                                                                                                                                                                                                                                                                                                                                                                                                                                                                                                                                                                                                                                                                                                                                                                                                                                                                                                                                                                                                                                                                                                                                                                                                                                                                                                                                                                                                                                                                                                                                                                                                                                                                                                                                                                                                                                                                                                                                                                                                                                                                                                                                                                                                                                                                                                                                                                                                                                                                                                                                                                                                                                                                                                                                                                                                                                                                                                                                                                                                                                                                                                                                                                                                                                                                                                                                                                                                                                                                                                                                                                                                                                                                                                                                                                                                                                                                                                                                                                                                      context  \\\n",
       "0  Course: CS462 -- Skills: 3D Modeling, Animations, Assigning 3D Object Properties, Blender, Calculating Lights, Shades, And, Camera Rendering, Character Animation, Character Design, Collisions, Constructing 3D Scenes, Design 3D, Develop 3D, Event Triggering, Finite State Machine, Fourier Transform, Game Design, Geometric Image Manipulation, Human Aware Ai, Immersive 3D Worlds, Implementing Animation To Chara, Implementing Movement To Charac, Manipulate Lighting, Manipulate Rendering, Manipulating 3D Object Properti, Movement, Principles Of Lighting, Principles Of Rendering, Real Time Rendering Pipeline, Scene Composition, Scene Layout, Scripting Interactive Behaviors, Scripting Interactive Elements, Tangent Space, Unity, Vectors\\nCourse: CS314 -- Skills: Agile, Black Box Testing, Burndown Charts, Clean Code, Cmmi, Code Climate, Code Quality, Communication, Compatability Standards, Concurrency, Configuration Management, Continuous Integration, Databases, Development Environments, Devops, Docker, Docker Container, Establishing Interpersonal Rela, Git, Github, Github Actions, Github Projects, Github Repository, Individual Metrics, Integration Tests, Intellij, Java, Java Concurrency, Java Spark, Json, Junit, Kml, Linux, Mariadb, Maven, Networking, Npm, Optimization, Peer Evaluation, Peer Review, Port Forwarding, Postman, Problem Solving, Product Integration, Project Management, Project Planning, Refactoring, Remote Development, Rest Api, Retrospectives, Scrum, Slack, Slf4J, Software Development Practices, Source Control, Sprint Planning, Sql, Story Boards, Story Sizing, Task Breakdown, Team Development Experience, Team Diversity, Team Metrics, Teamwork, Test Driven Development, Tuckman'S Model, Unix, Use Case Testing, Verification, VS Code, Webpack, White Box Testing\\nCourse: CS165 -- Skills: Algorithms, Assertions, B+ Trees, Binary Search Trees, Black Box Testing, Branching Recursion, Data Structures, Dequeues, Expression Trees, Generics, Graph, Hashmap, Infix, Inheritance, Java, Linkedlists, Object Oriented Principles, Object Oriented Programming, Pcre, Polymorphism, Postfix, Prefix, Priority Queues, Problem Solving, Queues, Regex, Stack, Unit Testing\\nCourse: CS201 -- Skills: Argument Construction, Computer Solution Designing, Computer Solution Implementatio, Computer Solution Operations, Decision Making, Ethical Dilemma Analysis, Ethical Dilemma Problem Solving, Ethics Analysis, Legal Obligations, Moral Obligations, Philosophy, Professional Code Of Ethics\\nCourse: CS370 -- Skills: Commercial Operating Systems, Containers, Deadlocks, Deadlocks Management, Design Threaded Programs, File System Architecture, Interprocess Communication, Kernel Threads, Memory Management, Open Source Operating Systems, Operating Systems, Process Synchronization, Processes Management, Resource Management, Scheduling Algorithms, Storage Architecture, Symmetric Multiprocessing, Synchronization, Task Synchronization, Thread Management, Threads, Type-1 Hypervisors, Type-2 Hypervisors, User Threads\\nCourse: CS150 -- Skills: Conditionals, Data Analysis, Data Visualization, Dictionaries, Functions, Hcc, Html, I O Console, I O File, Libraries, Lists, Loops, Operator, Privacy, Python, Research, Research Design, Security, Sets\\nCourse: CS110 -- Skills: Data Analysis, Data Manipulation, Data Visualization, Hardware, Privacy, Research, Security\\nCourse: CS455 -- Skills: Abstraction, Algorithms Underpinning P2P Sys, Amazon Dynamo, Architectural Styles For Distri, Berkley Algorithm, Bittorrent, Brewer'S Cap Theorem, Build Distributed Systems, Build Scalable Servers, Casual Consistency, Central-Server Algorithm, Centralized Single Cpu Systems, Chord, Clock Synchronization In Distri, Combiner Functions, Compound Actions, Concurrency Primitives, Concurrent Collections, Concurrent Programming, Conditions Requirements For Dis, Confinement, Consensus, Consistency, Consistency Protocol, Consistent Ordering Of Operatio, Core Architecture Framework, Cristian'S Algorithm, Data And Client Centric Consist, Data Synchronization, Design And Build Distrubuted Fa, Design Cloud Scale Storage Syst, Design Efficient Data Represent, Design Small Scale Storage Syst, Design Systems That Can Recover, Distributed Coordination, Distributed Deadlock Detection, Distributed Graph Algorithms, Distributed Hash Tables, Distributed Mutual Exclusion, Distributed Objects, Distributed Shared Memory, Election Algorithms, Elections In Wireless Environme, Exclusions, Extreme Scale Storage Systems, Failure Detectors, File System Design, Foundational Issues, Gnutella, Google File System, Grid Computing, Hadoop, Heaps, Hpc, Intrinsic Locks, Intrinsic Reentracy, Lamport'S Clocks, Lazy Evaluations, Locking Strategies, Maekawa Algorithm, Map And Reduce Functions, Mapreduce, Mapreduce Data Flow, Monotonic Read, Monotonic Write, Multivariable Invariants, Multivariable Thread Safety, Napster, Narrow And Wide Transformations, Non-Blocking I O, Overlays, Pair Resilient Distributed Data, Partitioning Functions, Partitioning Schemes, Pastry, Peer To Peer, Performance Considerations, Pipelining Schemes, Race Conditions, Rdbms, Read-Your-Writes, Replica Placements, Resilient Distrubuted Datasets, Ricarat And Agarwala'S Algorith, Ring-Based Algorithm, Scalable Server Design, Scale Entities In Scalable Syst, Sequential Consistency, Sharing Objects, Software Stack, Spark, Stacks, Stateful And Stateless Transfor, Structured Peer To Peer, Synchronization In Wireless Set, Synchronized Collections, Tapestry, Tasks And Split Strategies, Thread Lifecycle, Thread Management, Thread Pools, Thread Safety, Thread-Safe Classes, Time And Global Positioning Sys, Time Synchronization Algorithms, Token Permission Based Approach, Transformations, Unstructured Peer To Peer, Vector And Matrix Clocks, Volunteer Computing, Voting Sets, Windowed Operations, Write Mapreduce Programs That E\\nCourse: CS470 - Modules -- Skills: Accelerators, Activation Records, Analysts Memory Heirarchy, Assembly, Cache, Combination Circuits, Custom Accellerators, Datapaths, Design Memory Heirarchy, Disk Memory Heirarchy, Elements Of Compilation, Implementation Memory Heirarchy, Instruction Set Processors, Instruction Set Processors Micr, Pipelining, Prefetching Data, Prefetching Instructions, Ram Memory Heirarchy, Rationale Memory, Register Transfer Notation, Registers, Sequential Circuits, Ssd Memory Heirarchy, Stack Frame, State Machine, Structure Memory, Systolic Matric Multipliers\\nCourse: CS453 -- Skills: Activation Records, Asm Code Generation, Ast Lowering, Ast Translation, Compiler Algorithms, Compiler Back-End Design, Compiler Construction, Compiler Front-End Design, Compiler Middle-End Design, Compiler Testing, Control Flow Analysis, Dataflow Analysis, Develope A Compiler From Java, Develope A Compiler From Mips, Grammars, Instructor Scheduling, Intermediate Representation Con, Lexical Analysis, Linear Scan Algorithm, Liveness Analysis, Ll Parsing, Lr Bison, Lr Flex, Lr Parsing, Mips Assembly, Parsers, Register Allocation, Semantic Analysis, Simd Vectorization, Translation, Type Analysis, Type Checking\\nCourse: CS425 -- Skills: Algorithm Implementation On Bio, Bioinformatics, Biological Data Analysis, Deep Learning, Genomic Assembly Sequence, Machine Learning, Motif Finding, Predicting Protein-Coding Regio\\nCourse: CS435 -- Skills: Big Data, Big Data Organization, Data Storage Systems, Distributed Storage Architectur, Experience Using Real-World Big, In-Memory Data Analytics, Knowledge Discovery At Scale, Large Scale Data Analysis Frame, Large Scale Data Analysis Model, Scalable Data Abalytics Framewo, Self-Descriptive Data Represent\\nCourse: CS162 -- Skills: Abstraction, Arrays, Assignment, Booleans, Characters, Classes, Conditionals, Encapsulations, Expressions, I O File, Inheritance, Interfaces, Java, Lists, Loops, Object Oriented Programming, Objects, Operator, Polymorphism, Recursion, Sorting, Strings\\nCourse: CS270 -- Skills: Activation Records, Arithmetic Logic Unit, Assembly, Bitwise Operators, C, C++, Circuits, Computer Architecture, Datatype Conversion, Digital Logic, Dynamic Memory Management, Gates, Global Variables, Instruction Set Architectures, Lc3, Logism, Memory Management, Number Formats, Point, Registers, Stack, State Machine, Subroutines, Transistors\\nCourse: CS345 -- Skills: Anaconda, Characterizing Data, Classifier Accuracy, Classifying Data, Conduct Experiments, Convolutional Neural Networks, Cross-Validation, Data Manipulation, Data Representation, Data Visualization, Decision Trees, Derivatives, Dot Products, Ensemble Methods, Experimental Design, Experimental Development, Function Regression, Gradient Descent, Hyperparameters, Hyperplanes, Jupyter Notebook, Keras, Kernels, Linear Regression, Machine Learning, Machine Learning Algorithms, Matplotlib, Matrices, Multiclass Classification, Multivariate Linear Regression, Nearest Neighbors, Neural Networks, Numpy, Overfitting, Pandas, Partial Derivatives, Perceptron, Principle Components Analysis, Python, Regularization, Scikit-Learn, Support Vector Machine, Tensorflow, Validation Sets\\nCourse: CS250 -- Skills: Assembly, B+ Trees, Bits, Boolean Algebra, Boolean Logic, Border Gateway Protocol, Cache, Computer Architecture, Data Structures, Data Structures For Storage Sys, Databases, Datatypes, Distributed Systems, Domain Name System, File Systems, Frameworks, Graphic Processing Unit, Harvard Architectue, Internet Protocol, Logged Structure Merge, Logic Design, Machine Language, Main Memory, Memory Efficientcy, Memory Hierarchy, Memory Management, Nand Gates, Networks, Neuromorphic Computing, Numeric Datatypes, Parallel Systems, Parallelization, Processors, Registers, Signed Unsigned Numbers, Sorted Strings Tables, Storage, Transmission Control Protocol, User Datagram Protocol\\nCourse: CS320 -- Skills: Bipartite Graph, Breadth First, Depth First, Dictionaries, Divide & Conquer, Dynamic Multi-Threading, Dynamic Programming, Graph Algorithm, Greedy Algorithms, Greedy Proofs, Heaps, Heapsort, Knapsack, Line Of Sight Algorithm, Master Theorem, Memoization, Memory-Efficient Knapsack, Minimum Spanning Tree, Non-Deterministic Polynomial Cl, Non-Deterministic Polynomial Co, Orders Of Magnitude, Parallel Algorithms, Parallel Scans, Polynomial Class, Polynomial Time Reduction, Prefix Sums, Python, Recursive Substructure, Shortest Paths, Topological Sort, Tree Algorithm\\nCourse: CS464 -- Skills: Experimental Design, Human Centered Interaction Foun, Human Computer Interaction, Human Computer Interaction Rese, Human Factors, Hypothesis Testing, Interaction Design Principles, Latex, Perception, Principles Of User Experience, Principles Of User Usability, Prototyping, Publishing Research Paper, Qualitiative Analysis, Scientific Foundations, User Centered Interaction Desig, Writing Research Paper\\nCourse: CS440 -- Skills: Analyse Implications Of Ai, Apply Ai To Real-World Problems, Conceptual Frameworks, Deep Learning, Designing, Training, & Evaluati, Ethical And Societal Implicatio, Fundamental Principles Of Ai, Knowledge Representation, Machine Learning Technique, Neural Networks, Practical Aspects Of Artificial, Probabilistic Models, Reasoning, Scikit-Learn, Search Algorithms, Software Artifacs, Software Process Evaluation, Software Process Improvement, Software Processes, Software Product Evaluation, Software Product Improvement, Supervised Learning, Symbolic Reasoning, Tensorflow, Theoretical Aspects Of Artifici\\nCourse: CS458 -- Skills: Blockchain, Consensus Protocols, Cryptocurrency, Cryptographic Algorithms, Decent, Decentralized Exchanges (Uniswa, Distributed Application, Ethereum Virtual Machine, Fault Tolerance, Hyperledger, Iota, Mining Algorithms, Mining Game Theory, Naivechain, Naivecoin, Network Models, Oracles, Proof Of Importance, Proof Of Stake, Proof Of Work, Rchain, React, Smart Contracts, Solidity, Sybil Resistance\\nCourse: CS456 -- Skills: Anonymity, Art Of Invisibility, Attack Surfaces, Computer Log Scanners, Crypto Key Management, Cyber Kill Chain, Cyber Security, Cyber Security Threats, Cyber Security Vulnerabilities, Cyber Threat Intelligence, Cyber-Physical Security, Data Science, Differential Privacy, Dns Over Https, Dns Over Tls, Dns Privacy, Elliptic Curve Crypto, End-To-End Encryption, Homomorphoc Encryption, Https, Incident Response, Log Analysis, Malware Analysis, Malware Detection Using Ml, Malware Relationship Analysis, Owasp, Privacy, Privacy By Design, Privacy Engineering, Privacy Enhancing Technologies, Protecting Digital Data, Protecting Sensitive Data, Quantum Computing, Quantum Cryptography, Securing Data At Rest, Securing Data In Motion, Securing Data-In-Use, Security Testing, Siem Systems, Signal Protocol, Socks, Tls, Vpn, Zero-Knowledge Proofs, Zero-Trust, Zero-Trust Security\\nCourse: CS414 -- Skills: Architechure Design, Backlogs Refinement, Code Idioms, Code Styles, Cohesion, Conceptual Modeling, Coupling, Crc Modeling, Design Modeling, Design Models, Design Patterns, Domain Modeling, Gather Requirements, Inheritance, Interfaces, Object Oriented Analysis, Object Oriented Design, Object Oriented Principles, Problem Analysis, Refactoring, Requirement Breakdown, Requirements Engineering, Retroactives, Software Engineering Ethics, Software Process Models, Story Mapping, Team Development Experience, Team Interaction, Team Project, Test Driven Development\\nCourse: CS457 -- Skills: Arp, Arp Addresses, Bgp, Circuit Switching, Congestion Control, Connected-Oriented Transport, Connectionless Transport, Content Distribution Networks, Cryptography, Data Center Networking, Demultiplexing, Digital Signatures, Distance-Vector, Dns, End-Point Authentication, Error-Corrections, Error-Detection, Ethernet Protocol, Forwarding, Http, Interdomain Routing, Internetworking, Intra-As Routing, Ip Networking Stack, Ip-Anycast, Ipv6, Link Layer Access Control, Link Virtualization, Linked-State, Mac Addresses, Message Integrity, Middleboxes, Multiple Access Links Protocol, Multiplexing, Nat, Netowrk Nfv, Network Application Protocols, Network Architecture, Network Delay, Network Layer Control Plane, Network Layers, Network Loss, Network Sdn, Network Security, Network Throughput, Ospf, P2P File Distribution, Packet Switching, Pv4, Reliable Data Transfer, Routing, Routing Algorithms, Routing Policy, Service Models, Smtp, Socket Programming, Software Defined Networking, Switched Ethernet Mpls, Switched Local Area Networks, Switches, Tcp, Transport Layer Services\\nCourse: CS415 -- Skills: Automatic Test Generation, Control Flow Graphs, Data Flow Criteria, Dbconnector, Fitnesse, Fuzz Testing, Gamification Of Learning, Graph Coverage Criteria, Graph Coverage For Specificatio, Graph Coverage For State Charts, Graph Coverage For Use Cases, Graph Fundamentals, Input Space Partitioning, Junit, Junit Parameterized Classes, Junit Theory, Mocking Concepts, Mockito, Mutation Analysis, Regression Testing, Restcontroller, Selenium, Static Analysis\\nCourse: CS475 -- Skills: Compiling Programs On Clusters, Cuda, Mpi, Openmp, Parallel Program Analysis, Parallel Program Debugging, Parallel Program Design, Parallel Programming\\nCourse: CS110 - Modules -- Skills: Computer Hardware, Computer Input, Computer Output, Computer Security, Computer Software, Computer Storage, Data Analytics, Databases, Digital Identity, Excel, File Management, Mac Os, Mobile Devices, Networking And Connecting To Th, Social Media, Spreadsheets\\nCourse: CS164 -- Skills: 2D Arrays, Abstract Classes, Algorithms, Arraylists, Arrays, Branching, Classes, Code Comprehention, Code Design, Code Reading Analysis, Conditionals, Datatypes, Debugging, Exceptions, File Input, File Output, Git, Github, Ide, Intellij, Interfaces, Java, Java Development Environment, Javadoc, Linux, Logical Operators, Loops, Methods, Obects, Object Oriented Programming, Polymorphism, Problem Solving, Putty, Quality Assurance, Recursion, Searching, Sorting, Ssh, String Manipulation, Strings, Testing, Uml, Version Control, VS Code, Windows\\nCourse: CS152 -- Skills: Algorithms, Data Analysis, Data Visualization, Functions, I O File, Libraries, Logic, Problem Solving\\nCourse: CS220 -- Skills: Anaconda, Big O, Combinations, Counting, Directed Graphs, Functions, Graph, Induction Proof, Jupyter Notebook, Logical Inference, Loop Invariants, Mathematical Proof, Matplotlib, Miniconda, Permutations, Predicate Logic, Propositional Logic, Python, Relations, Sets\\nCourse: CS430 -- Skills: Application Development, Concurrency, Create, Manage, And Optimize Da, Creating Database, Data Modeling, Database Design, Database Guis, Database Recovery, Database Security, Database Systems, E R Diagram, Hash Table, Indexing, Locking, Migrating Databases, Mysql, Normalization, Queries, Query Processing, Relational Algebra, Robust Implementation Of Databa, Sql, Storage Management, Transaction Management, Transactions, Updating Databases\\nCourse: CS214 -- Skills: Agile, Artifact Management, Code Coverage, Coding Standards, Debugging, Documentation, Functional Programming, Git, Individual Software Development, Java, Junit Testing, Memory Efficientcy, Project Management, Project Planning, Refactoring, Software Design, Software Engineering Process, Software Implementation, Software Maintenance, Software Testing, Test Driven Development, Time Efficiency\\nCourse: CS312 -- Skills: Asychronous, Cascading Style Sheets, Databases, Full-Stack Development, Hypertext Markup Language, Javascript, Microservices, Rest Api, Service-Based Architecture, Usability Assessment And Enhanc, User Account Creation, Ux Design, Web Applications\\nCourse: CS445 -- Skills: Classification, Deep Learning, Jupyter Notebook, Multivariable Data, Pattern Classification Algorith, Prediction, Python, Regression Algorithms, Reinforcement Learning Algorith, Scientific Reports, Statistical Analyses, Visualization\\nCourse: CS356 -- Skills: Access Control, Buffer Overflow Attacks, Cryptographic Tools, Database Security, Defensive Programming Technique, Denial Of Service Attacks, Ethical Hacking Experiments, Hacking Demos, Internet Authentication, Intrusion Detection, Malicious Software, Prevention Systems, User Authentication\\nCourse: CS470 -- Skills: Assembly, C Language, Digital Gates, Instruction Set Architectures   \n",
       "\n",
       "                                                                                                                                                                                                                                                                                                                                                          answer  \n",
       "0  Programming DevOps Efficiency Vue Bug fixing Ruby Angular Code Review Customer needs JavaScript Code/API documentation React.js Feedback Planning Collaboration High performance Reliability Front-end frameworks Knowledge sharing Strong communication skills Development Design Problem Solving Skills Analytical skills Maintaining software applications  "
      ]
     },
     "execution_count": 18,
     "metadata": {},
     "output_type": "execute_result"
    }
   ],
   "source": [
    "td_df.head(1)"
   ]
  },
  {
   "cell_type": "markdown",
   "id": "28d8467f-ee46-4096-bc33-ebc66e09df96",
   "metadata": {},
   "source": [
    "## Question (Jobs) and Context (Courses) Encoding for DPR Training"
   ]
  },
  {
   "cell_type": "code",
   "execution_count": 19,
   "id": "56cdb1ae",
   "metadata": {},
   "outputs": [
    {
     "name": "stderr",
     "output_type": "stream",
     "text": [
      "Some weights of the model checkpoint at facebook/dpr-question_encoder-single-nq-base were not used when initializing DPRQuestionEncoder: ['question_encoder.bert_model.pooler.dense.bias', 'question_encoder.bert_model.pooler.dense.weight']\n",
      "- This IS expected if you are initializing DPRQuestionEncoder from the checkpoint of a model trained on another task or with another architecture (e.g. initializing a BertForSequenceClassification model from a BertForPreTraining model).\n",
      "- This IS NOT expected if you are initializing DPRQuestionEncoder from the checkpoint of a model that you expect to be exactly identical (initializing a BertForSequenceClassification model from a BertForSequenceClassification model).\n",
      "Some weights of the model checkpoint at facebook/dpr-ctx_encoder-single-nq-base were not used when initializing DPRContextEncoder: ['ctx_encoder.bert_model.pooler.dense.bias', 'ctx_encoder.bert_model.pooler.dense.weight']\n",
      "- This IS expected if you are initializing DPRContextEncoder from the checkpoint of a model trained on another task or with another architecture (e.g. initializing a BertForSequenceClassification model from a BertForPreTraining model).\n",
      "- This IS NOT expected if you are initializing DPRContextEncoder from the checkpoint of a model that you expect to be exactly identical (initializing a BertForSequenceClassification model from a BertForSequenceClassification model).\n"
     ]
    }
   ],
   "source": [
    "device = torch.device(\"cuda\" if torch.cuda.is_available() else \"cpu\")\n",
    "\n",
    "question_encoder = DPRQuestionEncoder.from_pretrained('facebook/dpr-question_encoder-single-nq-base')\n",
    "context_encoder = DPRContextEncoder.from_pretrained('facebook/dpr-ctx_encoder-single-nq-base')\n",
    "\n",
    "question_encoder = question_encoder.to(device)\n",
    "context_encoder = context_encoder.to(device)\n"
   ]
  },
  {
   "cell_type": "code",
   "execution_count": 20,
   "id": "633d7a76",
   "metadata": {},
   "outputs": [
    {
     "name": "stderr",
     "output_type": "stream",
     "text": [
      "The tokenizer class you load from this checkpoint is not the same type as the class this function is called from. It may result in unexpected tokenization. \n",
      "The tokenizer class you load from this checkpoint is 'DPRQuestionEncoderTokenizer'. \n",
      "The class this function is called from is 'DPRContextEncoderTokenizer'.\n"
     ]
    }
   ],
   "source": [
    "question_tokenizer = DPRQuestionEncoderTokenizer.from_pretrained('facebook/dpr-question_encoder-single-nq-base')\n",
    "context_tokenizer = DPRContextEncoderTokenizer.from_pretrained('facebook/dpr-ctx_encoder-single-nq-base')\n",
    "\n",
    "def encode_data(batch):\n",
    "    max_length = 512\n",
    "\n",
    "    question_texts = batch['question'] if isinstance(batch['question'], list) else [str(batch['question'])]\n",
    "    context_texts = batch['context'] if isinstance(batch['context'], list) else [str(batch['context'])]\n",
    "\n",
    "    question_texts = [str(text) for text in question_texts]\n",
    "    context_texts = [str(text) for text in context_texts]\n",
    "\n",
    "    question_encodings = question_tokenizer(\n",
    "        question_texts, \n",
    "        padding=\"max_length\", \n",
    "        truncation=True, \n",
    "        max_length=max_length, \n",
    "        return_tensors=\"pt\"\n",
    "    )\n",
    "    context_encodings = context_tokenizer(\n",
    "        context_texts, \n",
    "        padding=\"max_length\", \n",
    "        truncation=True, \n",
    "        max_length=max_length, \n",
    "        return_tensors=\"pt\"\n",
    "    )\n",
    "\n",
    "    if 'label' in batch:\n",
    "        labels = torch.tensor(batch['label'])\n",
    "    else:\n",
    "        labels = torch.zeros(len(question_texts), dtype=torch.long)\n",
    "        \n",
    "    return {\n",
    "        'question_input_ids': question_encodings['input_ids'],\n",
    "        'question_attention_mask': question_encodings['attention_mask'],\n",
    "        'context_input_ids': context_encodings['input_ids'],\n",
    "        'context_attention_mask': context_encodings['attention_mask'],\n",
    "        'labels': labels\n",
    "    }\n",
    "\n"
   ]
  },
  {
   "cell_type": "code",
   "execution_count": 21,
   "id": "9c973b95-840c-44a8-a095-24f3b4dbf891",
   "metadata": {},
   "outputs": [
    {
     "name": "stderr",
     "output_type": "stream",
     "text": [
      "Map: 100%|██████████| 3096/3096 [00:28<00:00, 108.23 examples/s]\n",
      "Map: 100%|██████████| 664/664 [00:05<00:00, 112.06 examples/s]\n",
      "Map: 100%|██████████| 664/664 [00:05<00:00, 114.39 examples/s]\n"
     ]
    }
   ],
   "source": [
    "train_df, temp_df = train_test_split(td_df, test_size=0.3, random_state=42)\n",
    "val_df, test_df = train_test_split(temp_df, test_size=0.5, random_state=42)\n",
    "\n",
    "dataset = DatasetDict({\n",
    "    \"train\": Dataset.from_pandas(train_df),\n",
    "    \"validation\": Dataset.from_pandas(val_df),\n",
    "    \"test\": Dataset.from_pandas(test_df)\n",
    "})\n",
    "\n",
    "encoded_dataset = dataset.map(encode_data, batched=True, remove_columns=dataset[\"train\"].column_names)\n",
    "\n",
    "encoded_dataset.set_format(type='torch', columns=['question_input_ids', 'question_attention_mask', \n",
    "                                               'context_input_ids', 'context_attention_mask', 'labels'])"
   ]
  },
  {
   "cell_type": "markdown",
   "id": "6e6e98c7",
   "metadata": {},
   "source": [
    "## WandB Evaluation Setup"
   ]
  },
  {
   "cell_type": "code",
   "execution_count": 22,
   "id": "41c65d65-ee23-46a8-8402-cc4f9b6da298",
   "metadata": {},
   "outputs": [
    {
     "name": "stderr",
     "output_type": "stream",
     "text": [
      "\u001b[34m\u001b[1mwandb\u001b[0m: Using wandb-core as the SDK backend.  Please refer to https://wandb.me/wandb-core for more information.\n",
      "\u001b[34m\u001b[1mwandb\u001b[0m: \u001b[33mWARNING\u001b[0m If you're specifying your api key in code, ensure this code is not shared publicly.\n",
      "\u001b[34m\u001b[1mwandb\u001b[0m: \u001b[33mWARNING\u001b[0m Consider setting the WANDB_API_KEY environment variable, or running `wandb login` from the command line.\n",
      "\u001b[34m\u001b[1mwandb\u001b[0m: Appending key for api.wandb.ai to your netrc file: C:\\Users\\ayoun\\_netrc\n",
      "\u001b[34m\u001b[1mwandb\u001b[0m: Currently logged in as: \u001b[33mayoungren94\u001b[0m (\u001b[33mayoungren-colostate\u001b[0m) to \u001b[32mhttps://api.wandb.ai\u001b[0m. Use \u001b[1m`wandb login --relogin`\u001b[0m to force relogin\n"
     ]
    },
    {
     "data": {
      "text/plain": [
       "True"
      ]
     },
     "execution_count": 22,
     "metadata": {},
     "output_type": "execute_result"
    }
   ],
   "source": [
    "key_file = rf'D:\\Development\\cs580\\CSU-Industry-Skills\\dpr-model\\WANDB_API_KEY.txt' \n",
    "\n",
    "with open(key_file, \"r\") as f:\n",
    "    api_key = f.read().strip()\n",
    "\n",
    "wandb.login(key=api_key)"
   ]
  },
  {
   "cell_type": "code",
   "execution_count": 23,
   "id": "e3c19f51",
   "metadata": {},
   "outputs": [],
   "source": [
    "def compute_metrics(preds, labels):\n",
    "    precision, recall, f1, _ = precision_recall_fscore_support(\n",
    "        labels.cpu(), preds.cpu(), average='macro', zero_division=0\n",
    "    )\n",
    "    acc = (preds == labels).float().mean()\n",
    "    return {\n",
    "        'accuracy': acc.item(),\n",
    "        'precision': precision,\n",
    "        'recall': recall,\n",
    "        'f1': f1\n",
    "    }"
   ]
  },
  {
   "cell_type": "code",
   "execution_count": 24,
   "id": "6467556e",
   "metadata": {},
   "outputs": [],
   "source": [
    "def evaluate(model, dataloader, device):\n",
    "    model.eval()\n",
    "    all_preds, all_labels = [], []\n",
    "    \n",
    "    with torch.no_grad():\n",
    "        for batch in dataloader:\n",
    "            batch = {k: v.to(device) for k, v in batch.items()}\n",
    "            \n",
    "            query_out = question_encoder(\n",
    "                input_ids=batch['question_input_ids'],\n",
    "                attention_mask=batch['question_attention_mask']\n",
    "            )\n",
    "            ctx_out = context_encoder(\n",
    "                input_ids=batch['context_input_ids'],\n",
    "                attention_mask=batch['context_attention_mask']\n",
    "            )\n",
    "            \n",
    "            query_emb = query_out.pooler_output\n",
    "            ctx_emb = ctx_out.pooler_output\n",
    "\n",
    "            scores = torch.matmul(query_emb, ctx_emb.T)\n",
    "            preds = scores.argmax(dim=-1)\n",
    "            \n",
    "            all_preds.append(preds)\n",
    "            all_labels.append(batch['labels'])\n",
    "    \n",
    "    return compute_metrics(torch.cat(all_preds), torch.cat(all_labels))"
   ]
  },
  {
   "cell_type": "code",
   "execution_count": 25,
   "id": "9b1dc033",
   "metadata": {},
   "outputs": [],
   "source": [
    "loss_fn = F.cross_entropy\n",
    "\n",
    "def train_dpr(config):\n",
    "    wandb.init(\n",
    "        project=\"Gaps-DPR\",\n",
    "        name=f\"dpr--lr:{config['lr']}--{config['batch_size']}--wd:{config['weight_decay']}\",\n",
    "        config=config,\n",
    "        tags=[\"retrieval\", \"grid-search\"],\n",
    "        save_code=True\n",
    "    )\n",
    "    \n",
    "    autocast = torch.amp.autocast(device_type='cuda', dtype=torch.float16)\n",
    "    scaler = torch.cuda.amp.GradScaler()\n",
    "    \n",
    "    torch.cuda.empty_cache()\n",
    "    gc.collect()\n",
    "\n",
    "    question_encoder = DPRQuestionEncoder.from_pretrained('facebook/dpr-question_encoder-single-nq-base').to(device)\n",
    "    context_encoder = DPRContextEncoder.from_pretrained('facebook/dpr-ctx_encoder-single-nq-base').to(device)\n",
    "    \n",
    "    grad_accum_steps = max(1, config['batch_size'] // 32)\n",
    "    effective_batch = config['batch_size'] // grad_accum_steps\n",
    "\n",
    "    train_loader = DataLoader(\n",
    "        encoded_dataset[\"train\"], \n",
    "        batch_size=effective_batch, \n",
    "        shuffle=True\n",
    "    )\n",
    "    \n",
    "    val_loader = DataLoader(\n",
    "        encoded_dataset[\"validation\"], \n",
    "        batch_size=effective_batch, \n",
    "        shuffle=False\n",
    "    )\n",
    "\n",
    "    optimizer = AdamW(\n",
    "        list(question_encoder.parameters()) + list(context_encoder.parameters()),\n",
    "        lr=config['lr'],\n",
    "        weight_decay=config['weight_decay']\n",
    "    )\n",
    "\n",
    "    scheduler = get_linear_schedule_with_warmup(\n",
    "        optimizer,\n",
    "        num_warmup_steps=config['warmup_steps'],\n",
    "        num_training_steps=len(train_loader) * config['epochs'] // grad_accum_steps\n",
    "    )\n",
    "\n",
    "    best_val_f1 = 0\n",
    "    early_stop_counter = 0\n",
    "    patience = 3\n",
    "\n",
    "    for epoch in range(config['epochs']):\n",
    "        question_encoder.train()\n",
    "        context_encoder.train()\n",
    "        \n",
    "        epoch_loss = 0\n",
    "        all_preds, all_labels = [], []\n",
    "        optimizer.zero_grad()\n",
    "\n",
    "        for step, batch in enumerate(train_loader):\n",
    "            batch = {k: v.to(device, non_blocking=True) for k, v in batch.items()}\n",
    "            \n",
    "            with autocast:\n",
    "                query_out = question_encoder(\n",
    "                    input_ids=batch['question_input_ids'],\n",
    "                    attention_mask=batch['question_attention_mask']\n",
    "                )\n",
    "                ctx_out = context_encoder(\n",
    "                    input_ids=batch['context_input_ids'],\n",
    "                    attention_mask=batch['context_attention_mask']\n",
    "                )\n",
    "                \n",
    "                query_emb = query_out.pooler_output\n",
    "                ctx_emb = ctx_out.pooler_output\n",
    "\n",
    "                scores = torch.matmul(query_emb, ctx_emb.T)\n",
    "                loss = loss_fn(scores, batch['labels']) / grad_accum_steps\n",
    "\n",
    "            scaler.scale(loss).backward()\n",
    "\n",
    "            if (step + 1) % grad_accum_steps == 0:\n",
    "                scaler.step(optimizer)\n",
    "                scaler.update()\n",
    "                optimizer.zero_grad()\n",
    "                scheduler.step()\n",
    "\n",
    "            epoch_loss += loss.item() * grad_accum_steps\n",
    "            preds = scores.argmax(dim=-1)\n",
    "            all_preds.append(preds)\n",
    "            all_labels.append(batch['labels'])\n",
    "\n",
    "            if step % 10 == 0:\n",
    "                torch.cuda.empty_cache()\n",
    "\n",
    "        train_metrics = compute_metrics(torch.cat(all_preds), torch.cat(all_labels))\n",
    "        avg_train_loss = epoch_loss / len(train_loader)\n",
    "\n",
    "        val_metrics = evaluate((question_encoder, context_encoder), val_loader, device)\n",
    "\n",
    "        wandb.log({\n",
    "            \"epoch\": epoch,\n",
    "            \"train_loss\": avg_train_loss,\n",
    "            \"train_accuracy\": train_metrics['accuracy'],\n",
    "            \"train_f1\": train_metrics['f1'],\n",
    "            \"val_accuracy\": val_metrics['accuracy'],\n",
    "            \"val_f1\": val_metrics['f1'],\n",
    "            \"lr\": scheduler.get_last_lr()[0],\n",
    "            \"gpu_mem\": torch.cuda.memory_allocated()/1e9\n",
    "        })\n",
    "\n",
    "        if val_metrics['f1'] > best_val_f1:\n",
    "            best_val_f1 = val_metrics['f1']\n",
    "            early_stop_counter = 0\n",
    "            torch.save({\n",
    "                \"question_encoder\": question_encoder.state_dict(),\n",
    "                \"context_encoder\": context_encoder.state_dict(),\n",
    "                \"config\": config,\n",
    "                \"val_metrics\": val_metrics\n",
    "            }, f\"best_dpr_model_{wandb.run.id}.pt\")\n",
    "        else:\n",
    "            early_stop_counter += 1\n",
    "            if early_stop_counter >= patience:\n",
    "                print(f\"Early stopping at epoch {epoch}\")\n",
    "                break\n",
    "\n",
    "    checkpoint = torch.load(f\"best_dpr_model_{wandb.run.id}.pt\", map_location=device)\n",
    "    question_encoder.load_state_dict(checkpoint[\"question_encoder\"])\n",
    "    context_encoder.load_state_dict(checkpoint[\"context_encoder\"])\n",
    "    \n",
    "    test_metrics = evaluate((question_encoder, context_encoder), test_loader, device)\n",
    "    wandb.log({\n",
    "        \"test_accuracy\": test_metrics['accuracy'],\n",
    "        \"test_f1\": test_metrics['f1'],\n",
    "        \"final_gpu_mem\": torch.cuda.memory_allocated()/1e9\n",
    "    })\n",
    "    \n",
    "    return test_metrics['f1']"
   ]
  },
  {
   "cell_type": "code",
   "execution_count": null,
   "id": "49f06e81",
   "metadata": {},
   "outputs": [
    {
     "name": "stdout",
     "output_type": "stream",
     "text": [
      "Training with config: {'batch_size': 16, 'epochs': 100, 'lr': 2e-05, 'warmup_steps': 500, 'weight_decay': 0.0}\n"
     ]
    },
    {
     "data": {
      "text/html": [
       "Tracking run with wandb version 0.19.8"
      ],
      "text/plain": [
       "<IPython.core.display.HTML object>"
      ]
     },
     "metadata": {},
     "output_type": "display_data"
    },
    {
     "data": {
      "text/html": [
       "Run data is saved locally in <code>d:\\Development\\cs580\\CSU-Industry-Skills\\dpr-model\\wandb\\run-20250329_223638-xtj7ybnn</code>"
      ],
      "text/plain": [
       "<IPython.core.display.HTML object>"
      ]
     },
     "metadata": {},
     "output_type": "display_data"
    },
    {
     "data": {
      "text/html": [
       "Syncing run <strong><a href='https://wandb.ai/ayoungren-colostate/Gaps-DPR/runs/xtj7ybnn' target=\"_blank\">dpr--lr:2e-05--16--wd:0.0</a></strong> to <a href='https://wandb.ai/ayoungren-colostate/Gaps-DPR' target=\"_blank\">Weights & Biases</a> (<a href='https://wandb.me/developer-guide' target=\"_blank\">docs</a>)<br>"
      ],
      "text/plain": [
       "<IPython.core.display.HTML object>"
      ]
     },
     "metadata": {},
     "output_type": "display_data"
    },
    {
     "data": {
      "text/html": [
       " View project at <a href='https://wandb.ai/ayoungren-colostate/Gaps-DPR' target=\"_blank\">https://wandb.ai/ayoungren-colostate/Gaps-DPR</a>"
      ],
      "text/plain": [
       "<IPython.core.display.HTML object>"
      ]
     },
     "metadata": {},
     "output_type": "display_data"
    },
    {
     "data": {
      "text/html": [
       " View run at <a href='https://wandb.ai/ayoungren-colostate/Gaps-DPR/runs/xtj7ybnn' target=\"_blank\">https://wandb.ai/ayoungren-colostate/Gaps-DPR/runs/xtj7ybnn</a>"
      ],
      "text/plain": [
       "<IPython.core.display.HTML object>"
      ]
     },
     "metadata": {},
     "output_type": "display_data"
    },
    {
     "name": "stderr",
     "output_type": "stream",
     "text": [
      "C:\\Users\\ayoun\\AppData\\Local\\Temp\\ipykernel_17476\\3609245698.py:13: FutureWarning: `torch.cuda.amp.GradScaler(args...)` is deprecated. Please use `torch.amp.GradScaler('cuda', args...)` instead.\n",
      "  scaler = torch.cuda.amp.GradScaler()\n",
      "Some weights of the model checkpoint at facebook/dpr-question_encoder-single-nq-base were not used when initializing DPRQuestionEncoder: ['question_encoder.bert_model.pooler.dense.bias', 'question_encoder.bert_model.pooler.dense.weight']\n",
      "- This IS expected if you are initializing DPRQuestionEncoder from the checkpoint of a model trained on another task or with another architecture (e.g. initializing a BertForSequenceClassification model from a BertForPreTraining model).\n",
      "- This IS NOT expected if you are initializing DPRQuestionEncoder from the checkpoint of a model that you expect to be exactly identical (initializing a BertForSequenceClassification model from a BertForSequenceClassification model).\n",
      "Some weights of the model checkpoint at facebook/dpr-ctx_encoder-single-nq-base were not used when initializing DPRContextEncoder: ['ctx_encoder.bert_model.pooler.dense.bias', 'ctx_encoder.bert_model.pooler.dense.weight']\n",
      "- This IS expected if you are initializing DPRContextEncoder from the checkpoint of a model trained on another task or with another architecture (e.g. initializing a BertForSequenceClassification model from a BertForPreTraining model).\n",
      "- This IS NOT expected if you are initializing DPRContextEncoder from the checkpoint of a model that you expect to be exactly identical (initializing a BertForSequenceClassification model from a BertForSequenceClassification model).\n",
      "c:\\Users\\ayoun\\Miniconda3\\envs\\gaps\\Lib\\site-packages\\torch\\optim\\lr_scheduler.py:224: UserWarning: Detected call of `lr_scheduler.step()` before `optimizer.step()`. In PyTorch 1.1.0 and later, you should call them in the opposite order: `optimizer.step()` before `lr_scheduler.step()`.  Failure to do this will result in PyTorch skipping the first value of the learning rate schedule. See more details at https://pytorch.org/docs/stable/optim.html#how-to-adjust-learning-rate\n",
      "  warnings.warn(\n"
     ]
    }
   ],
   "source": [
    "hyperparams = {\n",
    "    'epochs': [100],\n",
    "    'lr': [2e-5, 3e-5, 4e-4, 4e-5],\n",
    "    'batch_size': [16, 32, 64, 128],\n",
    "    'weight_decay': [0.0, 0.01],\n",
    "    'warmup_steps': [500]\n",
    "}\n",
    "\n",
    "best_score = 0\n",
    "best_config = None\n",
    "\n",
    "# Use ParameterGrid for better organization\n",
    "for config in ParameterGrid(hyperparams):\n",
    "    print(f\"Training with config: {config}\")\n",
    "    current_score = train_dpr(config)\n",
    "    \n",
    "    if current_score > best_score:\n",
    "        best_score = current_score\n",
    "        best_config = config\n",
    "        print(f\"New best config: {best_config} with F1: {best_score}\")\n",
    "\n",
    "print(f\"Best configuration: {best_config}\")\n",
    "print(f\"Best validation F1: {best_score}\")\n",
    "\n",
    "wandb.finish()"
   ]
  },
  {
   "cell_type": "code",
   "execution_count": null,
   "id": "76038aac",
   "metadata": {},
   "outputs": [],
   "source": [
    "def evaluate_final_model(run_id):\n",
    "    \"\"\"Run this separately after selecting best run\"\"\"\n",
    "    wandb.init(project=\"dpr-testing\", name=f\"final-test-{run_id}\")\n",
    "    \n",
    "    checkpoint = torch.load(f\"best_dpr_model_{run_id}.pt\")\n",
    "    \n",
    "    question_encoder = DPRQuestionEncoder.from_pretrained('facebook/dpr-question_encoder-single-nq-base').to(device)\n",
    "    context_encoder = DPRContextEncoder.from_pretrained('facebook/dpr-ctx_encoder-single-nq-base').to(device)\n",
    "    question_encoder.load_state_dict(checkpoint[\"question_encoder\"])\n",
    "    context_encoder.load_state_dict(checkpoint[\"context_encoder\"])\n",
    "    \n",
    "    test_loader = DataLoader(\n",
    "        encoded_dataset[\"test\"], \n",
    "        batch_size=checkpoint[\"config\"][\"batch_size\"], \n",
    "        shuffle=False\n",
    "    )\n",
    "    \n",
    "    test_metrics = evaluate((question_encoder, context_encoder), test_loader, device)\n",
    "    \n",
    "    wandb.log({\n",
    "        \"final_test_accuracy\": test_metrics['accuracy'],\n",
    "        \"final_test_f1\": test_metrics['f1']\n",
    "    })\n",
    "    wandb.finish()\n",
    "    return test_metrics"
   ]
  },
  {
   "cell_type": "code",
   "execution_count": null,
   "metadata": {},
   "outputs": [],
   "source": [
    "best_val_f1 = 0\n",
    "best_run_id = None\n",
    "\n",
    "for config in ParameterGrid(hyperparams):\n",
    "    print(f\"Training with config: {config}\")\n",
    "    current_f1 = train_dpr(config)\n",
    "    \n",
    "    if current_f1 > best_val_f1:\n",
    "        best_val_f1 = current_f1\n",
    "        best_run_id = wandb.run._attach_id\n",
    "        print(f\"New best val F1: {best_val_f1} (Run ID: {best_run_id})\")\n",
    "\n",
    "if best_run_id:\n",
    "    print(\"\\n=== Running Final Test Evaluation ===\")\n",
    "    test_results = evaluate_final_model(best_run_id)\n",
    "    print(f\"Final Test F1: {test_results['f1']:.4f}\")"
   ]
  }
 ],
 "metadata": {
  "kernelspec": {
   "display_name": "gaps",
   "language": "python",
   "name": "python3"
  },
  "language_info": {
   "codemirror_mode": {
    "name": "ipython",
    "version": 3
   },
   "file_extension": ".py",
   "mimetype": "text/x-python",
   "name": "python",
   "nbconvert_exporter": "python",
   "pygments_lexer": "ipython3",
   "version": "3.11.11"
  }
 },
 "nbformat": 4,
 "nbformat_minor": 5
}
